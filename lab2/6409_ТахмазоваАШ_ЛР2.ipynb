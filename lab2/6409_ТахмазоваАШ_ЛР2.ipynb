{
  "nbformat": 4,
  "nbformat_minor": 0,
  "metadata": {
    "colab": {
      "provenance": [],
      "include_colab_link": true
    },
    "kernelspec": {
      "name": "python3",
      "display_name": "Python 3"
    },
    "language_info": {
      "name": "python"
    }
  },
  "cells": [
    {
      "cell_type": "markdown",
      "metadata": {
        "id": "view-in-github",
        "colab_type": "text"
      },
      "source": [
        "<a href=\"https://colab.research.google.com/github/L1KASA/big-data/blob/main/lab2/6409_%D0%A2%D0%B0%D1%85%D0%BC%D0%B0%D0%B7%D0%BE%D0%B2%D0%B0%D0%90%D0%A8_%D0%9B%D0%A02.ipynb\" target=\"_parent\"><img src=\"https://colab.research.google.com/assets/colab-badge.svg\" alt=\"Open In Colab\"/></a>"
      ]
    },
    {
      "cell_type": "code",
      "metadata": {
        "colab": {
          "base_uri": "https://localhost:8080/"
        },
        "id": "MWdWarYwFwh9",
        "outputId": "150947a9-3fa5-48ba-c22e-0b88fcc4b692"
      },
      "source": [
        "# Подключаемся к диску\n",
        "from google.colab import drive\n",
        "drive.mount('/content/drive')"
      ],
      "execution_count": 1,
      "outputs": [
        {
          "output_type": "stream",
          "name": "stdout",
          "text": [
            "Mounted at /content/drive\n"
          ]
        }
      ]
    },
    {
      "cell_type": "code",
      "source": [
        "!pip install pyspark"
      ],
      "metadata": {
        "colab": {
          "base_uri": "https://localhost:8080/"
        },
        "id": "B0_qenrwJAs3",
        "outputId": "f0d4a107-0599-49e5-ce29-76e3d63f9c3d"
      },
      "execution_count": 2,
      "outputs": [
        {
          "output_type": "stream",
          "name": "stdout",
          "text": [
            "Collecting pyspark\n",
            "  Downloading pyspark-3.5.1.tar.gz (317.0 MB)\n",
            "\u001b[2K     \u001b[90m━━━━━━━━━━━━━━━━━━━━━━━━━━━━━━━━━━━━━━━━\u001b[0m \u001b[32m317.0/317.0 MB\u001b[0m \u001b[31m2.6 MB/s\u001b[0m eta \u001b[36m0:00:00\u001b[0m\n",
            "\u001b[?25h  Preparing metadata (setup.py) ... \u001b[?25l\u001b[?25hdone\n",
            "Requirement already satisfied: py4j==0.10.9.7 in /usr/local/lib/python3.10/dist-packages (from pyspark) (0.10.9.7)\n",
            "Building wheels for collected packages: pyspark\n",
            "  Building wheel for pyspark (setup.py) ... \u001b[?25l\u001b[?25hdone\n",
            "  Created wheel for pyspark: filename=pyspark-3.5.1-py2.py3-none-any.whl size=317488491 sha256=698cbe983bb62643dac919b34fc544fe10bfc8fc3df206101fbd1d19a634bb36\n",
            "  Stored in directory: /root/.cache/pip/wheels/80/1d/60/2c256ed38dddce2fdd93be545214a63e02fbd8d74fb0b7f3a6\n",
            "Successfully built pyspark\n",
            "Installing collected packages: pyspark\n",
            "Successfully installed pyspark-3.5.1\n"
          ]
        }
      ]
    },
    {
      "cell_type": "code",
      "source": [
        "# Импортируем необходимые библиотеки\n",
        "from pyspark.sql import SparkSession\n",
        "from pyspark import SparkContext, SparkConf\n",
        "from pyspark.sql.functions import max, col, count, expr, desc, sum\n",
        "from pyspark.sql.functions import desc\n",
        "from geopy.distance import geodesic\n",
        "from itertools import combinations\n",
        "# Создаем сессию Spark\n",
        "conf = SparkSession.builder \\\n",
        "    .appName(\"Lab_1\") \\\n",
        "    .getOrCreate()\n",
        "conf"
      ],
      "metadata": {
        "colab": {
          "base_uri": "https://localhost:8080/",
          "height": 219
        },
        "id": "Qs49Y3fXfBU4",
        "outputId": "f9eb8642-4514-4a5d-cc7a-3226ad4db1f3"
      },
      "execution_count": 3,
      "outputs": [
        {
          "output_type": "execute_result",
          "data": {
            "text/plain": [
              "<pyspark.sql.session.SparkSession at 0x7949b259c2e0>"
            ],
            "text/html": [
              "\n",
              "            <div>\n",
              "                <p><b>SparkSession - in-memory</b></p>\n",
              "                \n",
              "        <div>\n",
              "            <p><b>SparkContext</b></p>\n",
              "\n",
              "            <p><a href=\"http://3ebe36ca8d3e:4040\">Spark UI</a></p>\n",
              "\n",
              "            <dl>\n",
              "              <dt>Version</dt>\n",
              "                <dd><code>v3.5.1</code></dd>\n",
              "              <dt>Master</dt>\n",
              "                <dd><code>local[*]</code></dd>\n",
              "              <dt>AppName</dt>\n",
              "                <dd><code>Lab_1</code></dd>\n",
              "            </dl>\n",
              "        </div>\n",
              "        \n",
              "            </div>\n",
              "        "
            ]
          },
          "metadata": {},
          "execution_count": 3
        }
      ]
    },
    {
      "cell_type": "code",
      "source": [
        "# Загружаем данные trips.csv и stations.csv в DataFrame\n",
        "trips_df = conf.read.csv(\"/content/drive/MyDrive/trips.csv\", header=True, inferSchema=True)\n",
        "stations_df = conf.read.csv(\"/content/drive/MyDrive/stations.csv\", header=True, inferSchema=True)"
      ],
      "metadata": {
        "id": "MjefduidghCv"
      },
      "execution_count": 4,
      "outputs": []
    },
    {
      "cell_type": "code",
      "source": [
        "trips_df"
      ],
      "metadata": {
        "colab": {
          "base_uri": "https://localhost:8080/"
        },
        "id": "Ok1DNSrRgn_q",
        "outputId": "71ac8e5b-1162-44f9-dd73-b71d82e460f1"
      },
      "execution_count": 5,
      "outputs": [
        {
          "output_type": "execute_result",
          "data": {
            "text/plain": [
              "DataFrame[id: int, duration: int, start_date: string, start_station_name: string, start_station_id: int, end_date: string, end_station_name: string, end_station_id: int, bike_id: int, subscription_type: string, zip_code: string]"
            ]
          },
          "metadata": {},
          "execution_count": 5
        }
      ]
    },
    {
      "cell_type": "code",
      "source": [
        "stations_df"
      ],
      "metadata": {
        "colab": {
          "base_uri": "https://localhost:8080/"
        },
        "id": "qdA4SlRugpP1",
        "outputId": "ef3b7e2f-3c6b-463a-f329-083a065bcd3c"
      },
      "execution_count": 6,
      "outputs": [
        {
          "output_type": "execute_result",
          "data": {
            "text/plain": [
              "DataFrame[id: int, name: string, lat: double, long: double, dock_count: int, city: string, installation_date: string]"
            ]
          },
          "metadata": {},
          "execution_count": 6
        }
      ]
    },
    {
      "cell_type": "code",
      "source": [
        "# Выведем информацию о количестве записей в каждом DataFrame\n",
        "print(\"Количество записей в DataFrame trips_df:\", trips_df.count())\n",
        "print(\"Количество записей в DataFrame stations_df:\", stations_df.count())\n",
        "\n",
        "# Выведем информацию о схеме данных в каждом DataFrame\n",
        "print(\"Схема данных в DataFrame trips_df:\")\n",
        "trips_df.printSchema()\n",
        "\n",
        "print(\"Схема данных в DataFrame stations_df:\")\n",
        "stations_df.printSchema()\n",
        "\n",
        "# Посмотрим на первые несколько строк каждого DataFrame\n",
        "print(\"Первые строки DataFrame trips_df:\")\n",
        "trips_df.show(5)\n",
        "\n",
        "print(\"Первые строки DataFrame stations_df:\")\n",
        "stations_df.show(5)\n",
        "\n",
        "# Выведем информацию о количестве уникальных значений в различных полях\n",
        "print(\"Количество уникальных значений в поле 'start_station_name':\", trips_df.select(\"start_station_name\").distinct().count())\n",
        "print(\"Количество уникальных значений в поле 'end_station_name':\", trips_df.select(\"end_station_name\").distinct().count())\n",
        "print(\"Количество уникальных значений в поле 'bike_id':\", trips_df.select(\"bike_id\").distinct().count())"
      ],
      "metadata": {
        "colab": {
          "base_uri": "https://localhost:8080/"
        },
        "id": "M4r00waKoxcT",
        "outputId": "f66bc5df-d2c5-4591-9fbd-57dd335db1de"
      },
      "execution_count": 7,
      "outputs": [
        {
          "output_type": "stream",
          "name": "stdout",
          "text": [
            "Количество записей в DataFrame trips_df: 669959\n",
            "Количество записей в DataFrame stations_df: 70\n",
            "Схема данных в DataFrame trips_df:\n",
            "root\n",
            " |-- id: integer (nullable = true)\n",
            " |-- duration: integer (nullable = true)\n",
            " |-- start_date: string (nullable = true)\n",
            " |-- start_station_name: string (nullable = true)\n",
            " |-- start_station_id: integer (nullable = true)\n",
            " |-- end_date: string (nullable = true)\n",
            " |-- end_station_name: string (nullable = true)\n",
            " |-- end_station_id: integer (nullable = true)\n",
            " |-- bike_id: integer (nullable = true)\n",
            " |-- subscription_type: string (nullable = true)\n",
            " |-- zip_code: string (nullable = true)\n",
            "\n",
            "Схема данных в DataFrame stations_df:\n",
            "root\n",
            " |-- id: integer (nullable = true)\n",
            " |-- name: string (nullable = true)\n",
            " |-- lat: double (nullable = true)\n",
            " |-- long: double (nullable = true)\n",
            " |-- dock_count: integer (nullable = true)\n",
            " |-- city: string (nullable = true)\n",
            " |-- installation_date: string (nullable = true)\n",
            "\n",
            "Первые строки DataFrame trips_df:\n",
            "+----+--------+---------------+--------------------+----------------+---------------+--------------------+--------------+-------+-----------------+--------+\n",
            "|  id|duration|     start_date|  start_station_name|start_station_id|       end_date|    end_station_name|end_station_id|bike_id|subscription_type|zip_code|\n",
            "+----+--------+---------------+--------------------+----------------+---------------+--------------------+--------------+-------+-----------------+--------+\n",
            "|4576|      63|           NULL|South Van Ness at...|              66|8/29/2013 14:14|South Van Ness at...|            66|    520|       Subscriber|   94127|\n",
            "|4607|    NULL|8/29/2013 14:42|  San Jose City Hall|              10|8/29/2013 14:43|  San Jose City Hall|            10|    661|       Subscriber|   95138|\n",
            "|4130|      71|8/29/2013 10:16|Mountain View Cit...|              27|8/29/2013 10:17|Mountain View Cit...|            27|     48|       Subscriber|   97214|\n",
            "|4251|      77|8/29/2013 11:29|  San Jose City Hall|              10|8/29/2013 11:30|  San Jose City Hall|            10|     26|       Subscriber|   95060|\n",
            "|4299|      83|8/29/2013 12:02|South Van Ness at...|              66|8/29/2013 12:04|      Market at 10th|            67|    319|       Subscriber|   94103|\n",
            "+----+--------+---------------+--------------------+----------------+---------------+--------------------+--------------+-------+-----------------+--------+\n",
            "only showing top 5 rows\n",
            "\n",
            "Первые строки DataFrame stations_df:\n",
            "+---+--------------------+------------------+-------------------+----------+--------+-----------------+\n",
            "| id|                name|               lat|               long|dock_count|    city|installation_date|\n",
            "+---+--------------------+------------------+-------------------+----------+--------+-----------------+\n",
            "|  2|San Jose Diridon ...|         37.329732|-121.90178200000001|        27|San Jose|         8/6/2013|\n",
            "|  3|San Jose Civic Ce...|         37.330698|        -121.888979|        15|San Jose|         8/5/2013|\n",
            "|  4|Santa Clara at Al...|         37.333988|        -121.894902|        11|San Jose|         8/6/2013|\n",
            "|  5|    Adobe on Almaden|         37.331415|          -121.8932|        19|San Jose|         8/5/2013|\n",
            "|  6|    San Pedro Square|37.336721000000004|        -121.894074|        15|San Jose|         8/7/2013|\n",
            "+---+--------------------+------------------+-------------------+----------+--------+-----------------+\n",
            "only showing top 5 rows\n",
            "\n",
            "Количество уникальных значений в поле 'start_station_name': 74\n",
            "Количество уникальных значений в поле 'end_station_name': 74\n",
            "Количество уникальных значений в поле 'bike_id': 700\n"
          ]
        }
      ]
    },
    {
      "cell_type": "markdown",
      "source": [
        "#Задание 1. Найти велосипед с максимальным временем пробега."
      ],
      "metadata": {
        "id": "P-bkyQMMuftT"
      }
    },
    {
      "cell_type": "code",
      "source": [
        "max_duration_bike = trips_df.groupBy(\"bike_id\").max(\"duration\").orderBy(desc(\"max(duration)\")).limit(1)\n",
        "max_duration_bike.show()"
      ],
      "metadata": {
        "id": "Uj7ngxBnueap",
        "outputId": "d9c9707e-16dd-4c1b-a866-7d9354f514be",
        "colab": {
          "base_uri": "https://localhost:8080/"
        }
      },
      "execution_count": 8,
      "outputs": [
        {
          "output_type": "stream",
          "name": "stdout",
          "text": [
            "+-------+-------------+\n",
            "|bike_id|max(duration)|\n",
            "+-------+-------------+\n",
            "|    535|     17270400|\n",
            "+-------+-------------+\n",
            "\n"
          ]
        }
      ]
    },
    {
      "cell_type": "markdown",
      "source": [
        "#Задание 2. Найти наибольшее геодезическое расстояние между станциями."
      ],
      "metadata": {
        "id": "_gsKhgFZuj3N"
      }
    },
    {
      "cell_type": "code",
      "source": [
        "# Создаем список кортежей с координатами станций (широта, долгота)\n",
        "stations_coordinates = stations_df.select(\"name\", \"lat\", \"long\").collect()\n",
        "\n",
        "# Используем itertools.combinations, чтобы создать все возможные комбинации станций\n",
        "station_combinations = combinations(stations_coordinates, 2)\n",
        "\n",
        "# Инициализируем переменную для хранения наибольшего расстояния\n",
        "max_distance = 0\n",
        "station_names = None\n",
        "\n",
        "# Проходим по всем комбинациям станций\n",
        "for combo in station_combinations:\n",
        "    station1 = combo[0]\n",
        "    station2 = combo[1]\n",
        "\n",
        "    # Вычисляем геодезическое расстояние между двумя станциями\n",
        "    distance = geodesic((station1.lat, station1.long), (station2.lat, station2.long)).kilometers\n",
        "\n",
        "    # Обновляем максимальное расстояние, если текущее больше\n",
        "    if distance > max_distance:\n",
        "        max_distance = distance\n",
        "        station_names = (station1.name, station2.name)\n",
        "\n",
        "print(\"Наибольшее геодезическое расстояние между станциями {} и {}: {:.2f} км\".format(station_names[0], station_names[1], max_distance))"
      ],
      "metadata": {
        "colab": {
          "base_uri": "https://localhost:8080/"
        },
        "id": "3MJjTf76vCcE",
        "outputId": "d51c70ea-bce9-47ba-ec66-4b7b99f64361"
      },
      "execution_count": 9,
      "outputs": [
        {
          "output_type": "stream",
          "name": "stdout",
          "text": [
            "Наибольшее геодезическое расстояние между станциями SJSU - San Salvador at 9th и Embarcadero at Sansome: 69.92 км\n"
          ]
        }
      ]
    },
    {
      "cell_type": "markdown",
      "source": [
        "#Задание 3. Найти путь велосипеда с максимальным временем пробега через станции."
      ],
      "metadata": {
        "id": "2EQG2YwVutQh"
      }
    },
    {
      "cell_type": "code",
      "source": [
        "# Находим поездку с максимальным временем\n",
        "max_duration_trip = trips_df.orderBy(desc(\"duration\")).first()\n",
        "\n",
        "# Выводим информацию о поездке\n",
        "print(\"Путь велосипеда с максимальным временем пробега через станции:\")\n",
        "print(\"Стартовая станция:\", max_duration_trip.start_station_name)\n",
        "print(\"Конечная станция:\", max_duration_trip.end_station_name)\n",
        "print(\"Время поездки (в секундах):\", max_duration_trip.duration)"
      ],
      "metadata": {
        "colab": {
          "base_uri": "https://localhost:8080/"
        },
        "id": "dSzD98P1vCNO",
        "outputId": "c9013a4f-ec62-4921-e0d5-d8f8749790d3"
      },
      "execution_count": 10,
      "outputs": [
        {
          "output_type": "stream",
          "name": "stdout",
          "text": [
            "Путь велосипеда с максимальным временем пробега через станции:\n",
            "Стартовая станция: South Van Ness at Market\n",
            "Конечная станция: 2nd at Folsom\n",
            "Время поездки (в секундах): 17270400\n"
          ]
        }
      ]
    },
    {
      "cell_type": "markdown",
      "source": [
        "#Задание 4. Найти количество велосипедов в системе."
      ],
      "metadata": {
        "id": "nYMBrawvuzfI"
      }
    },
    {
      "cell_type": "code",
      "source": [
        "# Используем метод distinct() для получения уникальных идентификаторов велосипедов и подсчитываем их количество\n",
        "total_bikes_count = trips_df.select(\"bike_id\").distinct().count()\n",
        "\n",
        "print(\"Количество велосипедов в системе:\", total_bikes_count)"
      ],
      "metadata": {
        "colab": {
          "base_uri": "https://localhost:8080/"
        },
        "id": "W-cwZ715vBnE",
        "outputId": "e3139bd3-0981-4761-f0b1-b3d890e3a698"
      },
      "execution_count": 11,
      "outputs": [
        {
          "output_type": "stream",
          "name": "stdout",
          "text": [
            "Количество велосипедов в системе: 700\n"
          ]
        }
      ]
    },
    {
      "cell_type": "markdown",
      "source": [
        "#Задание 5. Найти пользователей потративших на поездки более 3 часов."
      ],
      "metadata": {
        "id": "wlRIkAY4vAG3"
      }
    },
    {
      "cell_type": "code",
      "source": [
        "# Преобразуем время поездок из секунд в часы, разделив на 3600 (количество секунд в часе)\n",
        "trips_df_with_hours = trips_df.withColumn(\"duration_hours\", col(\"duration\") / 3600)\n",
        "\n",
        "# Группируем данные по идентификатору пользователя и суммируем длительность поездок для каждого пользователя\n",
        "user_total_time = trips_df_with_hours.groupBy(\"bike_id\").agg(sum(\"duration_hours\").alias(\"total_time\"))\n",
        "\n",
        "# Фильтруем данные, оставляя только те поездки, которые длились более 3 часов\n",
        "long_trips = user_total_time.filter(col(\"total_time\") > 3)\n",
        "\n",
        "# Выводим результат\n",
        "print(\"Пользователи, потратившие более 3 часов на поездки:\")\n",
        "long_trips.show()"
      ],
      "metadata": {
        "colab": {
          "base_uri": "https://localhost:8080/"
        },
        "id": "-Kpfy1bou9PR",
        "outputId": "a0edf718-1868-4d5c-aa64-656e69027796"
      },
      "execution_count": 12,
      "outputs": [
        {
          "output_type": "stream",
          "name": "stdout",
          "text": [
            "Пользователи, потратившие более 3 часов на поездки:\n",
            "+-------+------------------+\n",
            "|bike_id|        total_time|\n",
            "+-------+------------------+\n",
            "|    471| 477.4530555555561|\n",
            "|    496| 466.5466666666665|\n",
            "|    148| 92.26055555555558|\n",
            "|    463|478.55444444444436|\n",
            "|    540| 486.8986111111113|\n",
            "|    392|497.07666666666677|\n",
            "|    623| 565.8941666666667|\n",
            "|    243|            85.405|\n",
            "|    516| 526.8752777777777|\n",
            "|     31|          113.3075|\n",
            "|    580| 287.3283333333329|\n",
            "|    137| 424.7777777777776|\n",
            "|    251| 356.3833333333333|\n",
            "|    451| 470.9927777777779|\n",
            "|     85| 337.4358333333333|\n",
            "|    458|457.52222222222264|\n",
            "|     65|60.256111111111125|\n",
            "|    588| 74.00416666666668|\n",
            "|    255|110.10972222222225|\n",
            "|     53| 62.88583333333334|\n",
            "+-------+------------------+\n",
            "only showing top 20 rows\n",
            "\n"
          ]
        }
      ]
    },
    {
      "cell_type": "markdown",
      "source": [
        "#Завершаем сессию"
      ],
      "metadata": {
        "id": "kzR3JcD0yP9M"
      }
    },
    {
      "cell_type": "code",
      "source": [
        "conf.stop()"
      ],
      "metadata": {
        "id": "axaR8VSbyIk8"
      },
      "execution_count": 13,
      "outputs": []
    }
  ]
}