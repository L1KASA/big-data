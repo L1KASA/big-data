{
  "nbformat": 4,
  "nbformat_minor": 0,
  "metadata": {
    "colab": {
      "provenance": [],
      "collapsed_sections": [
        "h-jRAcYCAkkk",
        "5SgEjCZyGnu6"
      ],
      "include_colab_link": true
    },
    "kernelspec": {
      "name": "python3",
      "display_name": "Python 3"
    }
  },
  "cells": [
    {
      "cell_type": "markdown",
      "metadata": {
        "id": "view-in-github",
        "colab_type": "text"
      },
      "source": [
        "<a href=\"https://colab.research.google.com/github/L1KASA/big-data/blob/main/MapReduceExamples_ipynb.ipynb\" target=\"_parent\"><img src=\"https://colab.research.google.com/assets/colab-badge.svg\" alt=\"Open In Colab\"/></a>"
      ]
    },
    {
      "cell_type": "markdown",
      "metadata": {
        "id": "82OvPKEiEqjc"
      },
      "source": [
        "# Введение в MapReduce модель на Python\n"
      ]
    },
    {
      "cell_type": "code",
      "metadata": {
        "id": "JQ2cvXLjICmI"
      },
      "source": [
        "from typing import NamedTuple # requires python 3.6+\n",
        "from typing import Iterator"
      ],
      "execution_count": 2,
      "outputs": []
    },
    {
      "cell_type": "code",
      "metadata": {
        "id": "yjPHumVwEyEg"
      },
      "source": [
        "def MAP(_, row:NamedTuple):\n",
        "  if (row.gender == 'female'):\n",
        "    yield (row.age, row)\n",
        "\n",
        "def REDUCE(age:str, rows:Iterator[NamedTuple]):\n",
        "  sum = 0\n",
        "  count = 0\n",
        "  for row in rows:\n",
        "    sum += row.social_contacts\n",
        "    count += 1\n",
        "  if (count > 0):\n",
        "    yield (age, sum/count)\n",
        "  else:\n",
        "    yield (age, 0)"
      ],
      "execution_count": 3,
      "outputs": []
    },
    {
      "cell_type": "markdown",
      "metadata": {
        "id": "vBKMgpG_ilaZ"
      },
      "source": [
        "Модель элемента данных"
      ]
    },
    {
      "cell_type": "code",
      "metadata": {
        "id": "Rv-XIjhTJPx3"
      },
      "source": [
        "class User(NamedTuple):\n",
        "  id: int\n",
        "  age: str\n",
        "  social_contacts: int\n",
        "  gender: str"
      ],
      "execution_count": 4,
      "outputs": []
    },
    {
      "cell_type": "code",
      "metadata": {
        "id": "5KV0Ze2vQgu5"
      },
      "source": [
        "input_collection = [\n",
        "    User(id=0, age=55, gender='male', social_contacts=20),\n",
        "    User(id=1, age=25, gender='female', social_contacts=240),\n",
        "    User(id=2, age=25, gender='female', social_contacts=500),\n",
        "    User(id=3, age=33, gender='female', social_contacts=800)\n",
        "]"
      ],
      "execution_count": 5,
      "outputs": []
    },
    {
      "cell_type": "markdown",
      "metadata": {
        "id": "YFeqzyZxZIFZ"
      },
      "source": [
        "Функция RECORDREADER моделирует чтение элементов с диска или по сети."
      ]
    },
    {
      "cell_type": "code",
      "metadata": {
        "id": "S5HR4E_GQoMJ"
      },
      "source": [
        "def RECORDREADER():\n",
        "  return [(u.id, u) for u in input_collection]"
      ],
      "execution_count": 6,
      "outputs": []
    },
    {
      "cell_type": "code",
      "metadata": {
        "id": "NeEoWla-ROUy",
        "colab": {
          "base_uri": "https://localhost:8080/"
        },
        "outputId": "4cc38952-47ea-4992-eb78-61ea9cea42f2"
      },
      "source": [
        "list(RECORDREADER())"
      ],
      "execution_count": 7,
      "outputs": [
        {
          "output_type": "execute_result",
          "data": {
            "text/plain": [
              "[(0, User(id=0, age=55, social_contacts=20, gender='male')),\n",
              " (1, User(id=1, age=25, social_contacts=240, gender='female')),\n",
              " (2, User(id=2, age=25, social_contacts=500, gender='female')),\n",
              " (3, User(id=3, age=33, social_contacts=800, gender='female'))]"
            ]
          },
          "metadata": {},
          "execution_count": 7
        }
      ]
    },
    {
      "cell_type": "code",
      "metadata": {
        "id": "YB8orgPSZs8M"
      },
      "source": [
        "def flatten(nested_iterable):\n",
        "  for iterable in nested_iterable:\n",
        "    for element in iterable:\n",
        "      yield element"
      ],
      "execution_count": 8,
      "outputs": []
    },
    {
      "cell_type": "code",
      "metadata": {
        "id": "74oyvDLaRmd5",
        "colab": {
          "base_uri": "https://localhost:8080/"
        },
        "outputId": "961318b3-e404-4f11-8573-819d327ab00d"
      },
      "source": [
        "map_output = flatten(map(lambda x: MAP(*x), RECORDREADER()))\n",
        "map_output = list(map_output) # materialize\n",
        "map_output"
      ],
      "execution_count": 9,
      "outputs": [
        {
          "output_type": "execute_result",
          "data": {
            "text/plain": [
              "[(25, User(id=1, age=25, social_contacts=240, gender='female')),\n",
              " (25, User(id=2, age=25, social_contacts=500, gender='female')),\n",
              " (33, User(id=3, age=33, social_contacts=800, gender='female'))]"
            ]
          },
          "metadata": {},
          "execution_count": 9
        }
      ]
    },
    {
      "cell_type": "code",
      "metadata": {
        "id": "8ncYDJ3-VzDn"
      },
      "source": [
        "def groupbykey(iterable):\n",
        "  t = {}\n",
        "  for (k2, v2) in iterable:\n",
        "    t[k2] = t.get(k2, []) + [v2]\n",
        "  return t.items()"
      ],
      "execution_count": 10,
      "outputs": []
    },
    {
      "cell_type": "code",
      "metadata": {
        "id": "cKzY_6COWOA2",
        "colab": {
          "base_uri": "https://localhost:8080/"
        },
        "outputId": "e9f6d65b-0a9e-4a12-f181-5db5c9a59257"
      },
      "source": [
        "shuffle_output = groupbykey(map_output)\n",
        "shuffle_output = list(shuffle_output)\n",
        "shuffle_output"
      ],
      "execution_count": 11,
      "outputs": [
        {
          "output_type": "execute_result",
          "data": {
            "text/plain": [
              "[(25,\n",
              "  [User(id=1, age=25, social_contacts=240, gender='female'),\n",
              "   User(id=2, age=25, social_contacts=500, gender='female')]),\n",
              " (33, [User(id=3, age=33, social_contacts=800, gender='female')])]"
            ]
          },
          "metadata": {},
          "execution_count": 11
        }
      ]
    },
    {
      "cell_type": "code",
      "metadata": {
        "id": "NlA7lkDDYL0t",
        "colab": {
          "base_uri": "https://localhost:8080/"
        },
        "outputId": "fb25babb-30b5-4343-f639-bf40554792bf"
      },
      "source": [
        "reduce_output = flatten(map(lambda x: REDUCE(*x), shuffle_output))\n",
        "reduce_output = list(reduce_output)\n",
        "reduce_output"
      ],
      "execution_count": 12,
      "outputs": [
        {
          "output_type": "execute_result",
          "data": {
            "text/plain": [
              "[(25, 370.0), (33, 800.0)]"
            ]
          },
          "metadata": {},
          "execution_count": 12
        }
      ]
    },
    {
      "cell_type": "markdown",
      "metadata": {
        "id": "xf6qhHEtd6bI"
      },
      "source": [
        "Все действия одним конвейером!"
      ]
    },
    {
      "cell_type": "code",
      "metadata": {
        "id": "dZaQGYxCdpw5",
        "colab": {
          "base_uri": "https://localhost:8080/"
        },
        "outputId": "53ede60a-746b-4655-a408-833740e7484b"
      },
      "source": [
        "list(flatten(map(lambda x: REDUCE(*x), groupbykey(flatten(map(lambda x: MAP(*x), RECORDREADER()))))))"
      ],
      "execution_count": 13,
      "outputs": [
        {
          "output_type": "execute_result",
          "data": {
            "text/plain": [
              "[(25, 370.0), (33, 800.0)]"
            ]
          },
          "metadata": {},
          "execution_count": 13
        }
      ]
    },
    {
      "cell_type": "markdown",
      "metadata": {
        "id": "Vq3EWRIpwSiJ"
      },
      "source": [
        "# **MapReduce**\n",
        "Выделим общую для всех пользователей часть системы в отдельную функцию высшего порядка. Это наиболее простая модель MapReduce, без учёта распределённого хранения данных.\n",
        "\n",
        "Пользователь для решения своей задачи реализует RECORDREADER, MAP, REDUCE."
      ]
    },
    {
      "cell_type": "code",
      "metadata": {
        "id": "V1PZeQMwwVjc"
      },
      "source": [
        "def flatten(nested_iterable):\n",
        "  for iterable in nested_iterable:\n",
        "    for element in iterable:\n",
        "      yield element\n",
        "\n",
        "def groupbykey(iterable):\n",
        "  t = {}\n",
        "  for (k2, v2) in iterable:\n",
        "    t[k2] = t.get(k2, []) + [v2]\n",
        "  return t.items()\n",
        "\n",
        "# groupbykey на основе сортировки\n",
        "def groupbykey1(iterable):\n",
        "    sorted_iterable = sorted(iterable, key=lambda x: x[0])\n",
        "    result = []\n",
        "    current_key = None\n",
        "    for key, value in sorted_iterable:\n",
        "        if key != current_key:\n",
        "            if current_key is not None:\n",
        "                result.append((current_key, current_group))\n",
        "            current_key = key\n",
        "            current_group = [value]\n",
        "        else:\n",
        "            current_group.append(value)\n",
        "    result.append((current_key, current_group))\n",
        "    return result\n",
        "\n",
        "def MapReduce(RECORDREADER, MAP, REDUCE):\n",
        "  return flatten(map(lambda x: REDUCE(*x), groupbykey(flatten(map(lambda x: MAP(*x), RECORDREADER())))))\n",
        "\n",
        "def MapReduce1(RECORDREADER, MAP, REDUCE):\n",
        "  return flatten(map(lambda x: REDUCE(*x), groupbykey1(flatten(map(lambda x: MAP(*x), RECORDREADER())))))"
      ],
      "execution_count": 14,
      "outputs": []
    },
    {
      "cell_type": "markdown",
      "metadata": {
        "id": "iFIVrimep678"
      },
      "source": [
        "## Спецификация MapReduce\n",
        "\n",
        "\n",
        "\n",
        "```\n",
        "f (k1, v1) -> (k2,v2)*\n",
        "g (k2, v2*) -> (k3,v3)*\n",
        "\n",
        "mapreduce ((k1,v1)*) -> (k3,v3)*\n",
        "groupby ((k2,v2)*) -> (k2,v2*)*\n",
        "flatten (e2**) -> e2*\n",
        "\n",
        "mapreduce .map(f).flatten.groupby(k2).map(g).flatten\n",
        "```\n",
        "\n",
        "\n"
      ]
    },
    {
      "cell_type": "markdown",
      "metadata": {
        "id": "QtTFyqke3KGe"
      },
      "source": [
        "# Примеры"
      ]
    },
    {
      "cell_type": "markdown",
      "metadata": {
        "id": "BNhh5763w5Vn"
      },
      "source": [
        "## SQL"
      ]
    },
    {
      "cell_type": "code",
      "metadata": {
        "id": "QkyurnvGxBGk",
        "colab": {
          "base_uri": "https://localhost:8080/"
        },
        "outputId": "372c9bb9-2ecc-462f-8636-f62ba71ade6e"
      },
      "source": [
        "from typing import NamedTuple # requires python 3.6+\n",
        "from typing import Iterator\n",
        "\n",
        "class User(NamedTuple):\n",
        "  id: int\n",
        "  age: str\n",
        "  social_contacts: int\n",
        "  gender: str\n",
        "\n",
        "input_collection = [\n",
        "    User(id=0, age=55, gender='male', social_contacts=20),\n",
        "    User(id=1, age=25, gender='female', social_contacts=240),\n",
        "    User(id=2, age=25, gender='female', social_contacts=500),\n",
        "    User(id=3, age=33, gender='female', social_contacts=800)\n",
        "]\n",
        "\n",
        "def MAP(_, row:NamedTuple):\n",
        "  if (row.gender == 'female'):\n",
        "    yield (row.age, row)\n",
        "\n",
        "def REDUCE(age:str, rows:Iterator[NamedTuple]):\n",
        "  sum = 0\n",
        "  count = 0\n",
        "  for row in rows:\n",
        "    sum += row.social_contacts\n",
        "    count += 1\n",
        "  if (count > 0):\n",
        "    yield (age, sum/count)\n",
        "  else:\n",
        "    yield (age, 0)\n",
        "\n",
        "def RECORDREADER():\n",
        "  return [(u.id, u) for u in input_collection]\n",
        "\n",
        "output = MapReduce(RECORDREADER, MAP, REDUCE)\n",
        "output = list(output)\n",
        "output"
      ],
      "execution_count": 15,
      "outputs": [
        {
          "output_type": "execute_result",
          "data": {
            "text/plain": [
              "[(25, 370.0), (33, 800.0)]"
            ]
          },
          "metadata": {},
          "execution_count": 15
        }
      ]
    },
    {
      "cell_type": "code",
      "source": [
        "output1 = MapReduce1(RECORDREADER, MAP, REDUCE)\n",
        "output1 = list(output1)\n",
        "output1"
      ],
      "metadata": {
        "colab": {
          "base_uri": "https://localhost:8080/"
        },
        "id": "mC-HoL0ODvPo",
        "outputId": "250b86b6-ff49-4cd7-e69e-f30a90e327ec"
      },
      "execution_count": 16,
      "outputs": [
        {
          "output_type": "execute_result",
          "data": {
            "text/plain": [
              "[(25, 370.0), (33, 800.0)]"
            ]
          },
          "metadata": {},
          "execution_count": 16
        }
      ]
    },
    {
      "cell_type": "markdown",
      "metadata": {
        "id": "kNKYIeerx0nY"
      },
      "source": [
        "## Matrix-Vector multiplication"
      ]
    },
    {
      "cell_type": "code",
      "metadata": {
        "id": "rwcntRcCyi1V",
        "colab": {
          "base_uri": "https://localhost:8080/"
        },
        "outputId": "9629970a-33f2-49da-953e-fb2ca7b535d8"
      },
      "source": [
        "from typing import Iterator\n",
        "import numpy as np\n",
        "\n",
        "mat = np.ones((5,4))\n",
        "vec = np.random.rand(4) # in-memory vector in all map tasks\n",
        "\n",
        "def MAP(coordinates:(int, int), value:int):\n",
        "  i, j = coordinates\n",
        "  yield (i, value*vec[j])\n",
        "\n",
        "def REDUCE(i:int, products:Iterator[NamedTuple]):\n",
        "  sum = 0\n",
        "  for p in products:\n",
        "    sum += p\n",
        "  yield (i, sum)\n",
        "\n",
        "def RECORDREADER():\n",
        "  for i in range(mat.shape[0]):\n",
        "    for j in range(mat.shape[1]):\n",
        "      yield ((i, j), mat[i,j])\n",
        "\n",
        "output = MapReduce(RECORDREADER, MAP, REDUCE)\n",
        "output = list(output)\n",
        "output"
      ],
      "execution_count": 17,
      "outputs": [
        {
          "output_type": "execute_result",
          "data": {
            "text/plain": [
              "[(0, 2.3445890643946994),\n",
              " (1, 2.3445890643946994),\n",
              " (2, 2.3445890643946994),\n",
              " (3, 2.3445890643946994),\n",
              " (4, 2.3445890643946994)]"
            ]
          },
          "metadata": {},
          "execution_count": 17
        }
      ]
    },
    {
      "cell_type": "code",
      "source": [
        "output1 = MapReduce1(RECORDREADER, MAP, REDUCE)\n",
        "output1 = list(output1)\n",
        "output1"
      ],
      "metadata": {
        "colab": {
          "base_uri": "https://localhost:8080/"
        },
        "id": "Clo38bEPD0Pg",
        "outputId": "b1276654-16b8-439a-9a0a-e91b5904f74f"
      },
      "execution_count": 18,
      "outputs": [
        {
          "output_type": "execute_result",
          "data": {
            "text/plain": [
              "[(0, 2.3445890643946994),\n",
              " (1, 2.3445890643946994),\n",
              " (2, 2.3445890643946994),\n",
              " (3, 2.3445890643946994),\n",
              " (4, 2.3445890643946994)]"
            ]
          },
          "metadata": {},
          "execution_count": 18
        }
      ]
    },
    {
      "cell_type": "markdown",
      "metadata": {
        "id": "ruZREYdi2o4O"
      },
      "source": [
        "## Inverted index"
      ]
    },
    {
      "cell_type": "code",
      "metadata": {
        "id": "vt9H9Alf3TYv",
        "colab": {
          "base_uri": "https://localhost:8080/"
        },
        "outputId": "46178e86-2440-4db5-fedd-b9d5073be438"
      },
      "source": [
        "from typing import Iterator\n",
        "\n",
        "d1 = \"it is what it is\"\n",
        "d2 = \"what is it\"\n",
        "d3 = \"it is a banana\"\n",
        "documents = [d1, d2, d3]\n",
        "\n",
        "def RECORDREADER():\n",
        "  for (docid, document) in enumerate(documents):\n",
        "    yield (\"{}\".format(docid), document)\n",
        "\n",
        "def MAP(docId:str, body:str):\n",
        "  for word in set(body.split(' ')):\n",
        "    yield (word, docId)\n",
        "\n",
        "def REDUCE(word:str, docIds:Iterator[str]):\n",
        "  yield (word, sorted(docIds))\n",
        "\n",
        "output = MapReduce(RECORDREADER, MAP, REDUCE)\n",
        "output = list(output)\n",
        "output"
      ],
      "execution_count": 19,
      "outputs": [
        {
          "output_type": "execute_result",
          "data": {
            "text/plain": [
              "[('is', ['0', '1', '2']),\n",
              " ('what', ['0', '1']),\n",
              " ('it', ['0', '1', '2']),\n",
              " ('a', ['2']),\n",
              " ('banana', ['2'])]"
            ]
          },
          "metadata": {},
          "execution_count": 19
        }
      ]
    },
    {
      "cell_type": "code",
      "source": [
        "output1 = MapReduce1(RECORDREADER, MAP, REDUCE)\n",
        "output1 = list(output1)\n",
        "output1"
      ],
      "metadata": {
        "colab": {
          "base_uri": "https://localhost:8080/"
        },
        "id": "IdiQcPL1D9sT",
        "outputId": "08ca4880-0a3a-42d6-d3f7-6d7adef8af1b"
      },
      "execution_count": 20,
      "outputs": [
        {
          "output_type": "execute_result",
          "data": {
            "text/plain": [
              "[('a', ['2']),\n",
              " ('banana', ['2']),\n",
              " ('is', ['0', '1', '2']),\n",
              " ('it', ['0', '1', '2']),\n",
              " ('what', ['0', '1'])]"
            ]
          },
          "metadata": {},
          "execution_count": 20
        }
      ]
    },
    {
      "cell_type": "markdown",
      "metadata": {
        "id": "R7az-6DA6qr2"
      },
      "source": [
        "## WordCount"
      ]
    },
    {
      "cell_type": "code",
      "metadata": {
        "id": "dN-nbtgG6uYG",
        "colab": {
          "base_uri": "https://localhost:8080/"
        },
        "outputId": "94cf910c-7835-4052-831d-93dd733a9a8d"
      },
      "source": [
        "from typing import Iterator\n",
        "\n",
        "d1 = \"\"\"\n",
        "it is what it is\n",
        "it is what it is\n",
        "it is what it is\"\"\"\n",
        "d2 = \"\"\"\n",
        "what is it\n",
        "what is it\"\"\"\n",
        "d3 = \"\"\"\n",
        "it is a banana\"\"\"\n",
        "documents = [d1, d2, d3]\n",
        "\n",
        "def RECORDREADER():\n",
        "  for (docid, document) in enumerate(documents):\n",
        "    for (lineid, line) in enumerate(document.split('\\n')):\n",
        "      yield (\"{}:{}\".format(docid,lineid), line)\n",
        "\n",
        "def MAP(docId:str, line:str):\n",
        "  for word in line.split(\" \"):\n",
        "    yield (word, 1)\n",
        "\n",
        "def REDUCE(word:str, counts:Iterator[int]):\n",
        "  sum = 0\n",
        "  for c in counts:\n",
        "    sum += c\n",
        "  yield (word, sum)\n",
        "\n",
        "output = MapReduce(RECORDREADER, MAP, REDUCE)\n",
        "output = list(output)\n",
        "output"
      ],
      "execution_count": 21,
      "outputs": [
        {
          "output_type": "execute_result",
          "data": {
            "text/plain": [
              "[('', 3), ('it', 9), ('is', 9), ('what', 5), ('a', 1), ('banana', 1)]"
            ]
          },
          "metadata": {},
          "execution_count": 21
        }
      ]
    },
    {
      "cell_type": "code",
      "source": [
        "output1 = MapReduce1(RECORDREADER, MAP, REDUCE)\n",
        "output1 = list(output1)\n",
        "output1"
      ],
      "metadata": {
        "colab": {
          "base_uri": "https://localhost:8080/"
        },
        "id": "WjWActImEcJF",
        "outputId": "24f3588c-f52f-466f-d34c-fc65379b3ec9"
      },
      "execution_count": 22,
      "outputs": [
        {
          "output_type": "execute_result",
          "data": {
            "text/plain": [
              "[('', 3), ('a', 1), ('banana', 1), ('is', 9), ('it', 9), ('what', 5)]"
            ]
          },
          "metadata": {},
          "execution_count": 22
        }
      ]
    },
    {
      "cell_type": "markdown",
      "metadata": {
        "id": "h-jRAcYCAkkk"
      },
      "source": [
        "# MapReduce Distributed\n",
        "\n",
        "Добавляется в модель фабрика RECORDREARER-ов --- INPUTFORMAT, функция распределения промежуточных результатов по партициям PARTITIONER, и функция COMBINER для частичной аггрегации промежуточных результатов до распределения по новым партициям."
      ]
    },
    {
      "cell_type": "code",
      "metadata": {
        "id": "nw-b-xJsApgW"
      },
      "source": [
        "def flatten(nested_iterable):\n",
        "  for iterable in nested_iterable:\n",
        "    for element in iterable:\n",
        "      yield element\n",
        "\n",
        "def groupbykey(iterable):\n",
        "  t = {}\n",
        "  for (k2, v2) in iterable:\n",
        "    t[k2] = t.get(k2, []) + [v2]\n",
        "  return t.items()\n",
        "\n",
        "def groupbykey_distributed(map_partitions, PARTITIONER):\n",
        "  global reducers\n",
        "  partitions = [dict() for _ in range(reducers)]\n",
        "  for map_partition in map_partitions:\n",
        "    for (k2, v2) in map_partition:\n",
        "      p = partitions[PARTITIONER(k2)]\n",
        "      p[k2] = p.get(k2, []) + [v2]\n",
        "  return [(partition_id, sorted(partition.items(), key=lambda x: x[0])) for (partition_id, partition) in enumerate(partitions)]\n",
        "\n",
        "def PARTITIONER(obj):\n",
        "  global reducers\n",
        "  return hash(obj) % reducers\n",
        "\n",
        "def MapReduceDistributed(INPUTFORMAT, MAP, REDUCE, PARTITIONER=PARTITIONER, COMBINER=None):\n",
        "  map_partitions = map(lambda record_reader: flatten(map(lambda k1v1: MAP(*k1v1), record_reader)), INPUTFORMAT())\n",
        "  if COMBINER != None:\n",
        "    map_partitions = map(lambda map_partition: flatten(map(lambda k2v2: COMBINER(*k2v2), groupbykey(map_partition))), map_partitions)\n",
        "  reduce_partitions = groupbykey_distributed(map_partitions, PARTITIONER) # shuffle\n",
        "  reduce_outputs = map(lambda reduce_partition: (reduce_partition[0], flatten(map(lambda reduce_input_group: REDUCE(*reduce_input_group), reduce_partition[1]))), reduce_partitions)\n",
        "\n",
        "  print(\"{} key-value pairs were sent over a network.\".format(sum([len(vs) for (k,vs) in flatten([partition for (partition_id, partition) in reduce_partitions])])))\n",
        "  return reduce_outputs"
      ],
      "execution_count": 23,
      "outputs": []
    },
    {
      "cell_type": "code",
      "source": [
        "def MapReduceDistributed1(INPUTFORMAT, MAP, REDUCE, PARTITIONER=PARTITIONER, COMBINER=None):\n",
        "  map_partitions = map(lambda record_reader: flatten(map(lambda k1v1: MAP(*k1v1), record_reader)), INPUTFORMAT())\n",
        "  if COMBINER != None:\n",
        "    map_partitions = map(lambda map_partition: flatten(map(lambda k2v2: COMBINER(*k2v2), groupbykey1(map_partition))), map_partitions)\n",
        "  reduce_partitions = groupbykey_distributed(map_partitions, PARTITIONER) # shuffle\n",
        "  reduce_outputs = map(lambda reduce_partition: (reduce_partition[0], flatten(map(lambda reduce_input_group: REDUCE(*reduce_input_group), reduce_partition[1]))), reduce_partitions)\n",
        "\n",
        "  print(\"{} key-value pairs were sent over a network.\".format(sum([len(vs) for (k,vs) in flatten([partition for (partition_id, partition) in reduce_partitions])])))\n",
        "  return reduce_outputs"
      ],
      "metadata": {
        "id": "ebUgTQK1E08h"
      },
      "execution_count": 24,
      "outputs": []
    },
    {
      "cell_type": "markdown",
      "metadata": {
        "id": "kxirlf3XqZxY"
      },
      "source": [
        "## Спецификация MapReduce Distributed\n",
        "\n",
        "\n",
        "```\n",
        "f (k1, v1) -> (k2,v2)*\n",
        "g (k2, v2*) -> (k3,v3)*\n",
        "\n",
        "e1 (k1, v1)\n",
        "e2 (k2, v2)\n",
        "partition1 (k2, v2)*\n",
        "partition2 (k2, v2*)*\n",
        "\n",
        "flatmap (e1->e2*, e1*) -> partition1*\n",
        "groupby (partition1*) -> partition2*\n",
        "\n",
        "mapreduce ((k1,v1)*) -> (k3,v3)*\n",
        "mapreduce .flatmap(f).groupby(k2).flatmap(g)\n",
        "```\n",
        "\n"
      ]
    },
    {
      "cell_type": "markdown",
      "metadata": {
        "id": "CWYw_CpbbY3C"
      },
      "source": [
        "## WordCount"
      ]
    },
    {
      "cell_type": "code",
      "metadata": {
        "id": "uR_zfGFkMZlp",
        "colab": {
          "base_uri": "https://localhost:8080/"
        },
        "outputId": "f7c9b7bd-fa0c-4f5e-bed8-41b113d04ea9"
      },
      "source": [
        "from typing import Iterator\n",
        "import numpy as np\n",
        "\n",
        "d1 = \"\"\"\n",
        "it is what it is\n",
        "it is what it is\n",
        "it is what it is\"\"\"\n",
        "d2 = \"\"\"\n",
        "what is it\n",
        "what is it\"\"\"\n",
        "d3 = \"\"\"\n",
        "it is a banana\"\"\"\n",
        "documents = [d1, d2, d3, d1, d2, d3]\n",
        "\n",
        "maps = 3\n",
        "reducers = 2\n",
        "\n",
        "def INPUTFORMAT():\n",
        "  global maps\n",
        "\n",
        "  def RECORDREADER(split):\n",
        "    for (docid, document) in enumerate(split):\n",
        "      for (lineid, line) in enumerate(document.split('\\n')):\n",
        "        yield (\"{}:{}\".format(docid,lineid), line)\n",
        "\n",
        "  split_size =  int(np.ceil(len(documents)/maps))\n",
        "  for i in range(0, len(documents), split_size):\n",
        "    yield RECORDREADER(documents[i:i+split_size])\n",
        "\n",
        "def MAP(docId:str, line:str):\n",
        "  for word in line.split(\" \"):\n",
        "    yield (word, 1)\n",
        "\n",
        "def REDUCE(word:str, counts:Iterator[int]):\n",
        "  sum = 0\n",
        "  for c in counts:\n",
        "    sum += c\n",
        "  yield (word, sum)\n",
        "\n",
        "# try to set COMBINER=REDUCER and look at the number of values sent over the network\n",
        "partitioned_output = MapReduceDistributed(INPUTFORMAT, MAP, REDUCE, COMBINER=None)\n",
        "partitioned_output = [(partition_id, list(partition)) for (partition_id, partition) in partitioned_output]\n",
        "partitioned_output"
      ],
      "execution_count": 25,
      "outputs": [
        {
          "output_type": "stream",
          "name": "stdout",
          "text": [
            "56 key-value pairs were sent over a network.\n"
          ]
        },
        {
          "output_type": "execute_result",
          "data": {
            "text/plain": [
              "[(0, [('', 6), ('a', 2), ('banana', 2), ('what', 10)]),\n",
              " (1, [('is', 18), ('it', 18)])]"
            ]
          },
          "metadata": {},
          "execution_count": 25
        }
      ]
    },
    {
      "cell_type": "code",
      "source": [
        "partitioned_output1 = MapReduceDistributed1(INPUTFORMAT, MAP, REDUCE, COMBINER=None)\n",
        "partitioned_output1 = [(partition_id, list(partition)) for (partition_id, partition) in partitioned_output]\n",
        "partitioned_output1"
      ],
      "metadata": {
        "colab": {
          "base_uri": "https://localhost:8080/"
        },
        "id": "HEn7_9SnEuAr",
        "outputId": "ceb5fee7-d384-4f6a-c7e9-dccecfa21eea"
      },
      "execution_count": 26,
      "outputs": [
        {
          "output_type": "stream",
          "name": "stdout",
          "text": [
            "56 key-value pairs were sent over a network.\n"
          ]
        },
        {
          "output_type": "execute_result",
          "data": {
            "text/plain": [
              "[(0, [('', 6), ('a', 2), ('banana', 2), ('what', 10)]),\n",
              " (1, [('is', 18), ('it', 18)])]"
            ]
          },
          "metadata": {},
          "execution_count": 26
        }
      ]
    },
    {
      "cell_type": "markdown",
      "metadata": {
        "id": "gCJGx8IQ87xS"
      },
      "source": [
        "## TeraSort"
      ]
    },
    {
      "cell_type": "code",
      "metadata": {
        "id": "P2v8v1v_8_YR",
        "colab": {
          "base_uri": "https://localhost:8080/"
        },
        "outputId": "122b09ea-e961-47d4-e349-44650ef5291e"
      },
      "source": [
        "import numpy as np\n",
        "\n",
        "input_values = np.random.rand(30)\n",
        "maps = 3\n",
        "reducers = 2\n",
        "min_value = 0.0\n",
        "max_value = 1.0\n",
        "\n",
        "def INPUTFORMAT():\n",
        "  global maps\n",
        "\n",
        "  def RECORDREADER(split):\n",
        "    for value in split:\n",
        "        yield (value, None)\n",
        "\n",
        "  split_size =  int(np.ceil(len(input_values)/maps))\n",
        "  for i in range(0, len(input_values), split_size):\n",
        "    yield RECORDREADER(input_values[i:i+split_size])\n",
        "\n",
        "def MAP(value:int, _):\n",
        "  yield (value, None)\n",
        "\n",
        "def PARTITIONER(key):\n",
        "  global reducers\n",
        "  global max_value\n",
        "  global min_value\n",
        "  bucket_size = (max_value-min_value)/reducers\n",
        "  bucket_id = 0\n",
        "  while((key>(bucket_id+1)*bucket_size) and ((bucket_id+1)*bucket_size<max_value)):\n",
        "    bucket_id += 1\n",
        "  return bucket_id\n",
        "\n",
        "def REDUCE(value:int, _):\n",
        "  yield (None,value)\n",
        "\n",
        "partitioned_output = MapReduceDistributed(INPUTFORMAT, MAP, REDUCE, COMBINER=None, PARTITIONER=PARTITIONER)\n",
        "partitioned_output = [(partition_id, list(partition)) for (partition_id, partition) in partitioned_output]\n",
        "partitioned_output"
      ],
      "execution_count": 27,
      "outputs": [
        {
          "output_type": "stream",
          "name": "stdout",
          "text": [
            "30 key-value pairs were sent over a network.\n"
          ]
        },
        {
          "output_type": "execute_result",
          "data": {
            "text/plain": [
              "[(0,\n",
              "  [(None, 0.00716627795420588),\n",
              "   (None, 0.030510939320777197),\n",
              "   (None, 0.03567446617536019),\n",
              "   (None, 0.04945475497457563),\n",
              "   (None, 0.0567473165738237),\n",
              "   (None, 0.13118017041858687),\n",
              "   (None, 0.14199217106432493),\n",
              "   (None, 0.1590958395866856),\n",
              "   (None, 0.1841365970689106),\n",
              "   (None, 0.22104090805897791),\n",
              "   (None, 0.23838462332268862),\n",
              "   (None, 0.253679871898004),\n",
              "   (None, 0.35820891706720026),\n",
              "   (None, 0.44462002913150256),\n",
              "   (None, 0.49720897885420057)]),\n",
              " (1,\n",
              "  [(None, 0.5273318886982621),\n",
              "   (None, 0.5685392250406949),\n",
              "   (None, 0.5799567620752157),\n",
              "   (None, 0.6271383154806742),\n",
              "   (None, 0.6406368356378492),\n",
              "   (None, 0.6599261458426964),\n",
              "   (None, 0.6790160883701819),\n",
              "   (None, 0.6861151512001513),\n",
              "   (None, 0.7015402011515669),\n",
              "   (None, 0.7321541970349834),\n",
              "   (None, 0.7851586949893774),\n",
              "   (None, 0.8370166487535691),\n",
              "   (None, 0.8464474820378326),\n",
              "   (None, 0.9444462632176507),\n",
              "   (None, 0.9457746895595245)])]"
            ]
          },
          "metadata": {},
          "execution_count": 27
        }
      ]
    },
    {
      "cell_type": "code",
      "source": [
        "partitioned_output1 = MapReduceDistributed1(INPUTFORMAT, MAP, REDUCE, COMBINER=None, PARTITIONER=PARTITIONER)\n",
        "partitioned_output1 = [(partition_id, list(partition)) for (partition_id, partition) in partitioned_output]\n",
        "partitioned_output1"
      ],
      "metadata": {
        "colab": {
          "base_uri": "https://localhost:8080/"
        },
        "id": "MPtPKiKjFZQ9",
        "outputId": "6022e889-53da-48ea-94fa-24c9e520572e"
      },
      "execution_count": 28,
      "outputs": [
        {
          "output_type": "stream",
          "name": "stdout",
          "text": [
            "30 key-value pairs were sent over a network.\n"
          ]
        },
        {
          "output_type": "execute_result",
          "data": {
            "text/plain": [
              "[(0,\n",
              "  [(None, 0.00716627795420588),\n",
              "   (None, 0.030510939320777197),\n",
              "   (None, 0.03567446617536019),\n",
              "   (None, 0.04945475497457563),\n",
              "   (None, 0.0567473165738237),\n",
              "   (None, 0.13118017041858687),\n",
              "   (None, 0.14199217106432493),\n",
              "   (None, 0.1590958395866856),\n",
              "   (None, 0.1841365970689106),\n",
              "   (None, 0.22104090805897791),\n",
              "   (None, 0.23838462332268862),\n",
              "   (None, 0.253679871898004),\n",
              "   (None, 0.35820891706720026),\n",
              "   (None, 0.44462002913150256),\n",
              "   (None, 0.49720897885420057)]),\n",
              " (1,\n",
              "  [(None, 0.5273318886982621),\n",
              "   (None, 0.5685392250406949),\n",
              "   (None, 0.5799567620752157),\n",
              "   (None, 0.6271383154806742),\n",
              "   (None, 0.6406368356378492),\n",
              "   (None, 0.6599261458426964),\n",
              "   (None, 0.6790160883701819),\n",
              "   (None, 0.6861151512001513),\n",
              "   (None, 0.7015402011515669),\n",
              "   (None, 0.7321541970349834),\n",
              "   (None, 0.7851586949893774),\n",
              "   (None, 0.8370166487535691),\n",
              "   (None, 0.8464474820378326),\n",
              "   (None, 0.9444462632176507),\n",
              "   (None, 0.9457746895595245)])]"
            ]
          },
          "metadata": {},
          "execution_count": 28
        }
      ]
    },
    {
      "cell_type": "code",
      "metadata": {
        "id": "MQhoJaVZI93G"
      },
      "source": [],
      "execution_count": 28,
      "outputs": []
    },
    {
      "cell_type": "markdown",
      "metadata": {
        "id": "Iy65YJTH99iT"
      },
      "source": [
        "# Упражнения\n",
        "Упражнения взяты из Rajaraman A., Ullman J. D. Mining of massive datasets. – Cambridge University Press, 2011.\n",
        "\n",
        "\n",
        "Для выполнения заданий переопределите функции RECORDREADER, MAP, REDUCE. Для модели распределённой системы может потребоваться переопределение функций PARTITION и COMBINER."
      ]
    },
    {
      "cell_type": "markdown",
      "metadata": {
        "id": "cfvAeZm3S8S8"
      },
      "source": [
        "### Максимальное значение ряда\n",
        "\n",
        "Разработайте MapReduce алгоритм, который находит максимальное число входного списка чисел."
      ]
    },
    {
      "cell_type": "code",
      "metadata": {
        "id": "3GRA1JR-Tkbg",
        "colab": {
          "base_uri": "https://localhost:8080/"
        },
        "outputId": "18730506-c97c-4b3d-cc0d-87d489bb83e8"
      },
      "source": [
        "def RECORDREADER(numbers):\n",
        "    for number in numbers:\n",
        "        yield (None, number)\n",
        "\n",
        "def MAP(_, number):\n",
        "    yield (None, number)\n",
        "\n",
        "def REDUCE(_, numbers: Iterator[int]):\n",
        "    max_number = max(numbers)\n",
        "    yield max_number\n",
        "\n",
        "numbers = [10, 5, 8, 20, 15, 12]\n",
        "\n",
        "output = MapReduce(lambda: RECORDREADER(numbers), MAP, REDUCE)\n",
        "max_number = list(output) # В целом можно и next() использовать\n",
        "max_number"
      ],
      "execution_count": 29,
      "outputs": [
        {
          "output_type": "execute_result",
          "data": {
            "text/plain": [
              "[20]"
            ]
          },
          "metadata": {},
          "execution_count": 29
        }
      ]
    },
    {
      "cell_type": "markdown",
      "metadata": {
        "id": "k86bXnqZTk-U"
      },
      "source": [
        "### Арифметическое среднее\n",
        "\n",
        "Разработайте MapReduce алгоритм, который находит арифметическое среднее.\n",
        "\n",
        "$$\\overline{X} = \\frac{1}{n}\\sum_{i=0}^{n} x_i$$\n"
      ]
    },
    {
      "cell_type": "code",
      "metadata": {
        "id": "MPoY5pkfUNZf",
        "colab": {
          "base_uri": "https://localhost:8080/"
        },
        "outputId": "88d0f185-73c6-4e25-c946-3f958527305f"
      },
      "source": [
        "from typing import Iterator\n",
        "\n",
        "def RECORDREADER(numbers):\n",
        "    for i, num in enumerate(numbers):\n",
        "        yield (i, num)\n",
        "\n",
        "def MAP(_, number):\n",
        "    yield (None, number)\n",
        "\n",
        "def REDUCE(_, numbers: Iterator[int]):\n",
        "    total_sum = 0\n",
        "    count = 0\n",
        "    for num in numbers:\n",
        "        total_sum += num\n",
        "        count += 1\n",
        "    if count > 0:\n",
        "        average = total_sum / count\n",
        "        yield average\n",
        "\n",
        "numbers = [10, 20, 30, 40, 15]\n",
        "\n",
        "output = MapReduce(lambda: RECORDREADER(numbers), MAP, REDUCE)\n",
        "output = list(output)\n",
        "output"
      ],
      "execution_count": 30,
      "outputs": [
        {
          "output_type": "execute_result",
          "data": {
            "text/plain": [
              "[23.0]"
            ]
          },
          "metadata": {},
          "execution_count": 30
        }
      ]
    },
    {
      "cell_type": "markdown",
      "metadata": {
        "id": "xanzszhsIlLe"
      },
      "source": [
        "### GroupByKey на основе сортировки\n",
        "\n",
        "Реализуйте groupByKey на основе сортировки, проверьте его работу на примерах"
      ]
    },
    {
      "cell_type": "code",
      "metadata": {
        "id": "hQPn3USsIkEC",
        "colab": {
          "base_uri": "https://localhost:8080/"
        },
        "outputId": "f04df0e1-d732-4f97-978b-972c642b2442"
      },
      "source": [
        "# функция groupbykey1 добавлена в самое начало, проверка ее работы находится после каждого примера\n",
        "\n",
        "def groupbykey1(iterable):\n",
        "    sorted_iterable = sorted(iterable, key=lambda x: x[0])\n",
        "    result = []\n",
        "    current_key = None\n",
        "    for key, value in sorted_iterable:\n",
        "        if key != current_key:\n",
        "            if current_key is not None:\n",
        "                result.append((current_key, current_group))\n",
        "            current_key = key\n",
        "            current_group = [value]\n",
        "        else:\n",
        "            current_group.append(value)\n",
        "    result.append((current_key, current_group))\n",
        "    return result\n",
        "\n",
        "\n",
        "input_list = [(1, 'a'), (2, 'b'), (1, 'c'), (3, 'd'), (2, 'e'), (1, 'f')]\n",
        "grouped_list1 = groupbykey(input_list)\n",
        "grouped_list = groupbykey1(input_list)\n",
        "for key, group in grouped_list1:\n",
        "    print(f\"Key: {key}, Group: {group}\")\n",
        "print()\n",
        "for key, group in grouped_list:\n",
        "    print(f\"Key: {key}, Group: {group}\")"
      ],
      "execution_count": 31,
      "outputs": [
        {
          "output_type": "stream",
          "name": "stdout",
          "text": [
            "Key: 1, Group: ['a', 'c', 'f']\n",
            "Key: 2, Group: ['b', 'e']\n",
            "Key: 3, Group: ['d']\n",
            "\n",
            "Key: 1, Group: ['a', 'c', 'f']\n",
            "Key: 2, Group: ['b', 'e']\n",
            "Key: 3, Group: ['d']\n"
          ]
        }
      ]
    },
    {
      "cell_type": "markdown",
      "metadata": {
        "id": "5SgEjCZyGnu6"
      },
      "source": [
        "# Drop duplicates (set construction, unique elements, distinct)\n",
        "\n",
        "Реализуйте распределённую операцию исключения дубликатов"
      ]
    },
    {
      "cell_type": "code",
      "metadata": {
        "id": "okjbyApjGhMt",
        "colab": {
          "base_uri": "https://localhost:8080/"
        },
        "outputId": "85825513-ab16-4f60-fc11-3c8a2b3630a1"
      },
      "source": [
        "data = [1, 2, 3, 4, 5, 1, 2, 3]  # Дубликаты: 1, 2, 3\n",
        "\n",
        "# set construction\n",
        "def RECORDREADER(data):\n",
        "    for value in data:\n",
        "        yield (None, value)\n",
        "\n",
        "def MAP(_, value):\n",
        "    yield (value, None)\n",
        "\n",
        "def REDUCE(key, _):\n",
        "    yield (key, None)\n",
        "\n",
        "output = MapReduce(lambda: RECORDREADER(data), MAP, REDUCE)\n",
        "output = set([value for value, _ in output])\n",
        "print(output)\n",
        "\n",
        "# unique elements\n",
        "def MAP(_, value):\n",
        "    yield (value, 1)\n",
        "\n",
        "output = MapReduce(lambda: RECORDREADER(data), MAP, REDUCE)\n",
        "unique_elements = [key for key, _ in output]\n",
        "print(unique_elements)\n",
        "\n",
        "# distinct\n",
        "def REDUCE(key, counts):\n",
        "    if sum(counts) == 1:\n",
        "        yield (key, None)\n",
        "\n",
        "output = MapReduce(lambda: RECORDREADER(data), MAP, REDUCE)\n",
        "distinct_values = [key for key, _ in output]\n",
        "print(distinct_values)"
      ],
      "execution_count": 32,
      "outputs": [
        {
          "output_type": "stream",
          "name": "stdout",
          "text": [
            "{1, 2, 3, 4, 5}\n",
            "[1, 2, 3, 4, 5]\n",
            "[4, 5]\n"
          ]
        }
      ]
    },
    {
      "cell_type": "markdown",
      "metadata": {
        "id": "e7sRGoTXuJze"
      },
      "source": [
        "#Операторы реляционной алгебры\n",
        "### Selection (Выборка)\n",
        "\n",
        "**The Map Function**: Для  каждого кортежа $t \\in R$ вычисляется истинность предиката $C$. В случае истины создаётся пара ключ-значение $(t, t)$. В паре ключ и значение одинаковы, равны $t$.\n",
        "\n",
        "**The Reduce Function:** Роль функции Reduce выполняет функция идентичности, которая возвращает то же значение, что получила на вход.\n",
        "\n"
      ]
    },
    {
      "cell_type": "code",
      "metadata": {
        "colab": {
          "base_uri": "https://localhost:8080/"
        },
        "outputId": "472d3f0e-856a-45bb-cd6b-b9e750def253",
        "id": "SIw_mNduwPFK"
      },
      "source": [
        "# Пример данных, аналогичных записям в базе данных\n",
        "db_data = [\n",
        "    {'id': 1, 'name': 'John', 'age': 25},\n",
        "    {'id': 2, 'name': 'Alice', 'age': 25},\n",
        "    {'id': 3, 'name': 'Bob', 'age': 35}\n",
        "]\n",
        "\n",
        "# Определение функции RECORDREADER\n",
        "def RECORDREADER():\n",
        "    for record in db_data:\n",
        "        yield (record['id'], record)  # Используем 'id' в качестве ключа, предполагая, что это уникальный и хешируемый идентификатор\n",
        "\n",
        "# Операция селекции\n",
        "def MAP(_, record):\n",
        "    if record['age'] == 25:  # Проверяем значение атрибута 'age'\n",
        "        yield (record['id'], record)  # Возвращаем кортеж, удовлетворяющий условию\n",
        "\n",
        "# Функция reduce для операции селекции\n",
        "def REDUCE(key, tuples):\n",
        "    for record in tuples:\n",
        "        yield record  # Возвращаем только записи, удовлетворяющие условию\n",
        "\n",
        "# Вызываем MapReduce для операции селекции\n",
        "output = MapReduce(RECORDREADER, MAP, REDUCE)\n",
        "\n",
        "# Выводим результат операции селекции\n",
        "selected_values = list(output)\n",
        "print(selected_values)\n"
      ],
      "execution_count": 33,
      "outputs": [
        {
          "output_type": "stream",
          "name": "stdout",
          "text": [
            "[{'id': 1, 'name': 'John', 'age': 25}, {'id': 2, 'name': 'Alice', 'age': 25}]\n"
          ]
        }
      ]
    },
    {
      "cell_type": "code",
      "source": [
        "from typing import NamedTuple\n",
        "\n",
        "# Определение именованного кортежа для представления записей в базе данных\n",
        "class Record(NamedTuple):\n",
        "    id: int\n",
        "    name: str\n",
        "    age: int\n",
        "\n",
        "def RECORDREADER():\n",
        "    for record in db_data:\n",
        "        yield (record.id, record)  # Каждая запись представляется парой (id, record)\n",
        "\n",
        "# Операция селекции\n",
        "def MAP(_, record):\n",
        "    if record.age == 25:  # Проверяем значение атрибута 'name'\n",
        "        yield record, record  # Возвращаем кортеж с ключом None и значением - именованным кортежем Record\n",
        "\n",
        "# Функция reduce для операции селекции\n",
        "def REDUCE(key, tuples):\n",
        "    for record in tuples:\n",
        "        yield record  # Возвращаем все кортежи из списка\n",
        "\n",
        "# Пример данных, аналогичных записям в базе данных\n",
        "db_data = [\n",
        "    Record(id = 1, name = 'John', age = 25),\n",
        "    Record(id = 2, name = 'Alice', age = 25),\n",
        "    Record(id = 3, name = 'Bob', age = 35)\n",
        "]\n",
        "\n",
        "# Вызываем MapReduce для операции селекции\n",
        "output = MapReduce(RECORDREADER, MAP, REDUCE)\n",
        "\n",
        "# Выводим результат операции селекции (только значения)\n",
        "selected_values = [tuple(record) for record in output]\n",
        "selected_values"
      ],
      "metadata": {
        "colab": {
          "base_uri": "https://localhost:8080/"
        },
        "id": "2f-qzF8U56yB",
        "outputId": "2e1f60c2-fd3b-43e9-d954-f5f34605363b"
      },
      "execution_count": 34,
      "outputs": [
        {
          "output_type": "execute_result",
          "data": {
            "text/plain": [
              "[(1, 'John', 25), (2, 'Alice', 25)]"
            ]
          },
          "metadata": {},
          "execution_count": 34
        }
      ]
    },
    {
      "cell_type": "markdown",
      "metadata": {
        "id": "w27Ca-_Ku85V"
      },
      "source": [
        "### Projection (Проекция)\n",
        "\n",
        "Проекция на множество атрибутов $S$.\n",
        "\n",
        "**The Map Function:** Для каждого кортежа $t \\in R$ создайте кортеж $t′$, исключая  из $t$ те значения, атрибуты которых не принадлежат  $S$. Верните пару $(t′, t′)$.\n",
        "\n",
        "**The Reduce Function:** Для каждого ключа $t′$, созданного любой Map задачей, вы получаете одну или несколько пар $(t′, t′)$. Reduce функция преобразует $(t′, [t′, t′, . . . , t′])$ в $(t′, t′)$, так, что для ключа $t′$ возвращается одна пара  $(t′, t′)$."
      ]
    },
    {
      "cell_type": "code",
      "metadata": {
        "id": "BEvuY4GqvhS6",
        "colab": {
          "base_uri": "https://localhost:8080/"
        },
        "outputId": "504ea0c4-3968-4fa1-f0f5-57310ca83aae"
      },
      "source": [
        "# Пример данных, аналогичных записям в базе данных\n",
        "db_data = [\n",
        "    {'id': 1, 'name': 'John', 'age': 25},\n",
        "    {'id': 2, 'name': 'Alice', 'age': 25},\n",
        "    {'id': 3, 'name': 'Bob', 'age': 35}\n",
        "]\n",
        "\n",
        "# Операция проекции\n",
        "def MAP(_, record):\n",
        "    attributes_to_keep = ['id', 'name']  # Имена атрибутов, которые мы хотим оставить\n",
        "    projected_record = tuple(record[attr] for attr in attributes_to_keep)\n",
        "    yield (record['id'], projected_record)  # Используем id в качестве ключа\n",
        "\n",
        "# Функция reduce для операции проекции\n",
        "def REDUCE(key, records):\n",
        "    yield records[0]  # Возвращаем первый кортеж из списка кортежей с одинаковым ключом\n",
        "\n",
        "# Функция RecordReader для чтения данных из списка db_data\n",
        "def RECORDREADER():\n",
        "    for record in db_data:\n",
        "        yield (record['id'], record)  # Каждая запись представляется парой (id, record)\n",
        "\n",
        "# Вызываем MapReduce для операции проекции\n",
        "output = MapReduce(RECORDREADER, MAP, REDUCE)\n",
        "\n",
        "# Выводим результат операции проекции\n",
        "selected_values = list(output)\n",
        "selected_values"
      ],
      "execution_count": 35,
      "outputs": [
        {
          "output_type": "execute_result",
          "data": {
            "text/plain": [
              "[(1, 'John'), (2, 'Alice'), (3, 'Bob')]"
            ]
          },
          "metadata": {},
          "execution_count": 35
        }
      ]
    },
    {
      "cell_type": "code",
      "source": [
        "from typing import NamedTuple\n",
        "\n",
        "# Определение именованного кортежа для представления записей в базе данных\n",
        "class Record(NamedTuple):\n",
        "    id: int\n",
        "    name: str\n",
        "    age: int\n",
        "\n",
        "# Определение функции RECORDREADER\n",
        "def RECORDREADER():\n",
        "    for record in db_data:\n",
        "        yield (record.id, record)  # Каждая запись представляется парой (None, record)\n",
        "\n",
        "# Операция проекции\n",
        "def MAP(_, record):\n",
        "    projected_record = (record.id, record.name)\n",
        "    yield (projected_record, projected_record)\n",
        "\n",
        "# Функция reduce для операции проекции\n",
        "def REDUCE(key, records):\n",
        "    yield records[0]  # Возвращаем первый кортеж из списка кортежей с одинаковым ключом\n",
        "\n",
        "# Пример данных, аналогичных записям в базе данных\n",
        "db_data = [\n",
        "    Record(id=1, name='John', age=25),\n",
        "    Record(id=2, name='Alice', age=25),\n",
        "    Record(id=3, name='Bob', age=35)\n",
        "]\n",
        "\n",
        "# Вызываем MapReduce для операции проекции\n",
        "output = MapReduce(RECORDREADER, MAP, REDUCE)\n",
        "\n",
        "# Выводим результат операции проекции\n",
        "selected_values = list(output)\n",
        "selected_values\n"
      ],
      "metadata": {
        "colab": {
          "base_uri": "https://localhost:8080/"
        },
        "id": "4CWSZzTp_OxR",
        "outputId": "6d18259e-f360-4ef5-d720-a5547fd09dbf"
      },
      "execution_count": 36,
      "outputs": [
        {
          "output_type": "execute_result",
          "data": {
            "text/plain": [
              "[(1, 'John'), (2, 'Alice'), (3, 'Bob')]"
            ]
          },
          "metadata": {},
          "execution_count": 36
        }
      ]
    },
    {
      "cell_type": "code",
      "source": [
        "# Определение именованного кортежа для представления записей в базе данных\n",
        "class Record(NamedTuple):\n",
        "    id: int\n",
        "    name: str\n",
        "    age: int\n",
        "\n",
        "def RECORDREADER():\n",
        "    for record in db_data:\n",
        "        yield (record.id, record)\n",
        "\n",
        "# Операция проекции\n",
        "def MAP(_, record):\n",
        "    projected_record = (record.id, record.name)  # Изменяем формат проецируемого кортежа\n",
        "    yield (record.id, projected_record)  # Используем id в качестве ключа\n",
        "\n",
        "# Функция reduce для операции проекции\n",
        "def REDUCE(key, records):\n",
        "    for _, projected_record in records:\n",
        "        yield projected_record  # Возвращаем проекции из каждой группы\n",
        "\n",
        "# Пример данных, аналогичных записям в базе данных\n",
        "db_data = [\n",
        "    Record(id=1, name='John', age=25),\n",
        "    Record(id=2, name='Alice', age=25),\n",
        "    Record(id=3, name='Bob', age=35)\n",
        "]\n",
        "\n",
        "# Вызываем MapReduce для операции проекции\n",
        "output = MapReduce(RECORDREADER, MAP, REDUCE)\n",
        "\n",
        "# Выводим результат операции проекции\n",
        "selected_values = list(output)\n",
        "selected_values"
      ],
      "metadata": {
        "colab": {
          "base_uri": "https://localhost:8080/"
        },
        "id": "i2GN3a9gkAHx",
        "outputId": "b00f562d-0cd1-4c5b-becf-7bfc87539d1c"
      },
      "execution_count": 49,
      "outputs": [
        {
          "output_type": "execute_result",
          "data": {
            "text/plain": [
              "['John', 'Alice', 'Bob']"
            ]
          },
          "metadata": {},
          "execution_count": 49
        }
      ]
    },
    {
      "cell_type": "markdown",
      "metadata": {
        "id": "7gau6lKXvn2R"
      },
      "source": [
        "### Union (Объединение)\n",
        "\n",
        "**The Map Function:** Превратите каждый входной кортеж $t$ в пару ключ-значение $(t, t)$.\n",
        "\n",
        "**The Reduce Function:** С каждым ключом $t$ будет ассоциировано одно или два значений. В обоих случаях создайте $(t, t)$ в качестве выходного значения."
      ]
    },
    {
      "cell_type": "code",
      "metadata": {
        "id": "Sns7a5agv3nw",
        "colab": {
          "base_uri": "https://localhost:8080/"
        },
        "outputId": "9c02e2c5-6ce5-4147-dc05-b837fd675a22"
      },
      "source": [
        "# Определение функции recordreader для объединения данных из таблиц R и S\n",
        "def RECORDREADER():\n",
        "    for record in table_R + table_S:\n",
        "        yield (None, record)  # Превращаем каждую запись в пару (None, record)\n",
        "\n",
        "# Определение функции map для операции объединения\n",
        "def MAP(_, record):\n",
        "    yield (record, record)  # Превращаем каждую запись в пару ключ-значение (t, t)\n",
        "\n",
        "# Определение функции reduce для операции объединения\n",
        "def REDUCE(key, values):\n",
        "    for value in set(values):\n",
        "        yield (value)\n",
        "\n",
        "# Пример данных для таблиц R и S\n",
        "table_R = [\n",
        "    (1, 'John'),\n",
        "    (2, 'Alice'),\n",
        "    (5, 'Bob')\n",
        "]\n",
        "\n",
        "table_S = [\n",
        "    (1, 'John'),\n",
        "    (4, 'Los Angeles'),\n",
        "    (6, 'Chicago')\n",
        "]\n",
        "\n",
        "# Выполнение операции MapReduce\n",
        "output = MapReduce(RECORDREADER, MAP, REDUCE)\n",
        "\n",
        "# Получение результата операции Union\n",
        "result = list(output)\n",
        "\n",
        "# Вывод результата\n",
        "result\n"
      ],
      "execution_count": 56,
      "outputs": [
        {
          "output_type": "execute_result",
          "data": {
            "text/plain": [
              "[(1, 'John'), (2, 'Alice'), (5, 'Bob'), (4, 'Los Angeles'), (6, 'Chicago')]"
            ]
          },
          "metadata": {},
          "execution_count": 56
        }
      ]
    },
    {
      "cell_type": "code",
      "source": [
        "# Пример данных для таблиц R и S\n",
        "table_R = [\n",
        "    (1, 'John'),\n",
        "    (2, 'Alice'),\n",
        "    (5, 'Bob')\n",
        "]\n",
        "\n",
        "table_S = [\n",
        "    (1, 'John'),\n",
        "    (4, 'Los Angeles'),\n",
        "    (6, 'Chicago')\n",
        "]\n",
        "\n",
        "# Определение функции recordreader\n",
        "def RECORDREADER():\n",
        "    for record in table_R + table_S:\n",
        "        yield (None, record)  # Каждая запись представляется парой (None, record)\n",
        "\n",
        "# Определение функции map для объединения данных из таблиц R и S\n",
        "def MAP(_, record):\n",
        "    yield (record, record)  # Просто возвращаем каждую запись как пару ключ-значение\n",
        "\n",
        "# Определение функции reduce для операции Union\n",
        "def REDUCE(key, values):\n",
        "    unique_values = set()  # Создаем множество для хранения уникальных значений\n",
        "    for value in values:\n",
        "        # Если значение уже есть в множестве, пропускаем его\n",
        "        if value[1] in unique_values:\n",
        "            continue\n",
        "        unique_values.add(value[1])  # Добавляем значение в множество\n",
        "        yield value  # Возвращаем уникальное значение\n",
        "\n",
        "# Выполнение операции MapReduce\n",
        "output = MapReduce(RECORDREADER, MAP, REDUCE)\n",
        "\n",
        "# Получение результата операции Union\n",
        "result = list(output)\n",
        "\n",
        "# Вывод результата\n",
        "result\n"
      ],
      "metadata": {
        "colab": {
          "base_uri": "https://localhost:8080/"
        },
        "id": "GjgZIHeVoJD1",
        "outputId": "6bc8516f-dda3-4503-dcd1-ee872507a5e0"
      },
      "execution_count": 62,
      "outputs": [
        {
          "output_type": "execute_result",
          "data": {
            "text/plain": [
              "[(1, 'John'), (2, 'Alice'), (5, 'Bob'), (4, 'Los Angeles'), (6, 'Chicago')]"
            ]
          },
          "metadata": {},
          "execution_count": 62
        }
      ]
    },
    {
      "cell_type": "markdown",
      "metadata": {
        "id": "dQ8TuEbjv4J8"
      },
      "source": [
        "### Intersection (Пересечение)\n",
        "\n",
        "**The Map Function:** Превратите каждый кортеж $t$ в пары ключ-значение $(t, t)$.\n",
        "\n",
        "**The Reduce Function:** Если для ключа $t$ есть список из двух элементов $[t, t]$ $-$ создайте пару $(t, t)$. Иначе, ничего не создавайте."
      ]
    },
    {
      "cell_type": "code",
      "metadata": {
        "id": "XKlBZh4IwERR",
        "colab": {
          "base_uri": "https://localhost:8080/"
        },
        "outputId": "13e8fb1e-d2fa-46f2-ba1d-863cbc41241a"
      },
      "source": [
        "# Определение функции recordreader\n",
        "def RECORDREADER():\n",
        "    for record in table_R + table_S:\n",
        "        yield (None, record)  # Каждая запись представляется парой (None, record)\n",
        "\n",
        "# Map Function\n",
        "def MAP(_, record):\n",
        "    # Emit each tuple as a key-value pair with the tuple itself as both key and value\n",
        "    yield (record[1:], record)\n",
        "\n",
        "# Reduce Function\n",
        "def REDUCE(key, values):\n",
        "    # Check if there are two records with matching non-ID attributes for the key\n",
        "    if len(values) == 2 and values[0][1:] == values[1][1:]:\n",
        "        # If such records exist, emit one of them as the result\n",
        "        yield (values[0])\n",
        "\n",
        "# Example data for tables R and S\n",
        "table_R = [\n",
        "    (1, 'John'),\n",
        "    (2, 'Alice'),\n",
        "    (3, 'Bob')\n",
        "]\n",
        "\n",
        "table_S = [\n",
        "    (12, 'Alice'),\n",
        "    (3, 'Bob'),\n",
        "    (4, 'Charlie')\n",
        "]\n",
        "\n",
        "# Perform MapReduce operation\n",
        "output = MapReduce(RECORDREADER, MAP, REDUCE)\n",
        "\n",
        "# Get the result of the intersection operation\n",
        "result = list(output)\n",
        "\n",
        "# Display the result\n",
        "result\n"
      ],
      "execution_count": 94,
      "outputs": [
        {
          "output_type": "execute_result",
          "data": {
            "text/plain": [
              "[(2, 'Alice'), (3, 'Bob')]"
            ]
          },
          "metadata": {},
          "execution_count": 94
        }
      ]
    },
    {
      "cell_type": "markdown",
      "metadata": {
        "id": "AVOpqoY3wE5k"
      },
      "source": [
        "### Difference (Разница)\n",
        "\n",
        "**The Map Function:** Для кортежа $t \\in R$, создайте пару $(t, R)$, и для кортежа $t \\in S$, создайте пару $(t, S)$. Задумка заключается в том, чтобы значение пары было именем отношения $R$ or $S$, которому принадлежит кортеж (а лучше, единичный бит, по которому можно два отношения различить $R$ or $S$), а не весь набор атрибутов отношения.\n",
        "\n",
        "**The Reduce Function:** Для каждого ключа $t$, если соответствующее значение является списком $[R]$, создайте пару $(t, t)$. В иных случаях не предпринимайте действий."
      ]
    },
    {
      "cell_type": "code",
      "metadata": {
        "id": "QE_AC09lwZIZ",
        "colab": {
          "base_uri": "https://localhost:8080/"
        },
        "outputId": "32e6c790-effb-4813-93ed-5e8492031885"
      },
      "source": [
        "# Функция Map\n",
        "def MAP(_, record):\n",
        "    # Создаем пару (t, R) для кортежей из R и пару (t, S) для кортежей из S\n",
        "    if record[1] == 'R':\n",
        "        yield (record[0], 'R')\n",
        "    elif record[1] == 'S':\n",
        "        yield (record[0], 'S')\n",
        "\n",
        "# Функция Reduce\n",
        "def REDUCE(key, values):\n",
        "    # Если значение соответствует только одному отношению, создаем пару (t, t)\n",
        "    if len(values) == 1:\n",
        "        yield (key)\n",
        "\n",
        "# Пример данных для таблиц R и S\n",
        "table_R = [\n",
        "    (1, 'John'),\n",
        "    (2, 'Alice'),\n",
        "    (3, 'Bob')\n",
        "]\n",
        "\n",
        "table_S = [\n",
        "    (2, 'Alice'),\n",
        "    (3, 'Bob'),\n",
        "    (4, 'Charlie')\n",
        "]\n",
        "# Объединяем записи из обеих таблиц в один список, помечая их источник (R или S)\n",
        "combined_data = [(record, 'R') for record in table_R] + [(record, 'S') for record in table_S]\n",
        "\n",
        "# Выполняем операцию MapReduce\n",
        "output = MapReduce(lambda: [(None, record) for record in combined_data], MAP, REDUCE)\n",
        "\n",
        "# Получаем результат операции разницы\n",
        "result = list(output)\n",
        "\n",
        "# Выводим результат\n",
        "result"
      ],
      "execution_count": 166,
      "outputs": [
        {
          "output_type": "execute_result",
          "data": {
            "text/plain": [
              "[(1, 'John'), (4, 'Charlie')]"
            ]
          },
          "metadata": {},
          "execution_count": 166
        }
      ]
    },
    {
      "cell_type": "code",
      "source": [
        "# Определение функции recordreader для объединения данных из таблиц R и S и пометки их источника (R или S)\n",
        "def RECORDREADER():\n",
        "    for record in table_R:\n",
        "        yield (None, record, 'R')  # Метка 'R' для записей из таблицы R\n",
        "    for record in table_S:\n",
        "        yield (None, record, 'S')  # Метка 'S' для записей из таблицы S\n",
        "\n",
        "# Функция Map\n",
        "def MAP(_, record, source):\n",
        "    # Создаем пару (t, 'R') для кортежей из R и пару (t, 'S') для кортежей из S\n",
        "    yield (record, source)\n",
        "\n",
        "# Функция Reduce\n",
        "def REDUCE(key, values):\n",
        "    found_S = False\n",
        "    for value in values:\n",
        "        if len(value) >= 2 and value[1] == 'S':\n",
        "            found_S = True\n",
        "            break\n",
        "    if not found_S:\n",
        "        yield (key)\n",
        "\n",
        "# Пример данных для таблиц R и S\n",
        "table_R = [\n",
        "    (1, 'John'),\n",
        "    (2, 'Alice'),\n",
        "    (3, 'Bob')\n",
        "]\n",
        "\n",
        "table_S = [\n",
        "    (2, 'Alice'),\n",
        "    (3, 'Bob'),\n",
        "    (4, 'Charlie')\n",
        "]\n",
        "\n",
        "# Объединяем записи из обеих таблиц в один список, помечая их источник (R или S)\n",
        "#combined_data = [(record, 'R') for record in table_R] + [(record, 'S') for record in table_S]\n",
        "\n",
        "# Выполняем операцию MapReduce\n",
        "output = MapReduce(RECORDREADER, MAP, REDUCE)\n",
        "\n",
        "# Получаем результат операции Difference\n",
        "result = list(output)\n",
        "\n",
        "# Выводим результат\n",
        "print(result)\n"
      ],
      "metadata": {
        "colab": {
          "base_uri": "https://localhost:8080/"
        },
        "id": "05Xf__wN2wlH",
        "outputId": "0f7ccf7d-a51a-4462-8f48-12ae2928177e"
      },
      "execution_count": 157,
      "outputs": [
        {
          "output_type": "stream",
          "name": "stdout",
          "text": [
            "[(1, 'John'), (2, 'Alice'), (3, 'Bob'), (4, 'Charlie')]\n"
          ]
        }
      ]
    },
    {
      "cell_type": "markdown",
      "metadata": {
        "id": "j8I58V2VwhSm"
      },
      "source": [
        "### Natural Join\n",
        "\n",
        "**The Map Function:** Для каждого кортежа $(a, b)$ отношения $R$, создайте пару $(b,(R, a))$. Для каждого кортежа $(b, c)$ отношения $S$, создайте пару $(b,(S, c))$.\n",
        "\n",
        "**The Reduce Function:** Каждый ключ $b$ будет асоциирован со списком пар, которые принимают форму либо $(R, a)$, либо $(S, c)$. Создайте все пары, одни, состоящие из  первого компонента $R$, а другие, из первого компонента $S$, то есть $(R, a)$ и $(S, c)$. На выходе вы получаете последовательность пар ключ-значение из списков ключей и значений. Ключ не нужен. Каждое значение, это тройка $(a, b, c)$ такая, что $(R, a)$ и $(S, c)$ это принадлежат входному списку значений."
      ]
    },
    {
      "cell_type": "code",
      "metadata": {
        "id": "yHiuuTctw86I",
        "colab": {
          "base_uri": "https://localhost:8080/"
        },
        "outputId": "ecfa3ead-e21e-4af9-b8a8-d040ea66e0db"
      },
      "source": [
        "from collections import defaultdict\n",
        "\n",
        "# Sample data for two tables\n",
        "table_R = [\n",
        "    {'id': 1, 'name': 'John', 'age': 30},\n",
        "    {'id': 2, 'name': 'Alice', 'age': 25},\n",
        "    {'id': 3, 'name': 'Bob', 'age': 35}\n",
        "]\n",
        "\n",
        "table_S = [\n",
        "    {'id': 1, 'city': 'New York'},\n",
        "    {'id': 2, 'city': 'Los Angeles'},\n",
        "    {'id': 4, 'city': 'Chicago'}\n",
        "]\n",
        "\n",
        "# Map task\n",
        "def map_task(table_name, records):\n",
        "    mapped_records = []\n",
        "    for record in records:\n",
        "        # Emit each record with the common attribute as the key\n",
        "        key = record['id']\n",
        "        mapped_records.append((key, (table_name, record)))\n",
        "    return mapped_records\n",
        "\n",
        "# Reduce task\n",
        "def reduce_task(key, values):\n",
        "    # Group values by table name\n",
        "    table_values = defaultdict(list)\n",
        "    for table, record in values:\n",
        "        table_values[table].append(record)\n",
        "\n",
        "    # Check for common records and emit combined records\n",
        "    if 'R' in table_values and 'S' in table_values:\n",
        "        for r_record in table_values['R']:\n",
        "            for s_record in table_values['S']:\n",
        "                if r_record['id'] == s_record['id']:\n",
        "                    combined_record = {**r_record, **s_record}\n",
        "                    yield combined_record\n",
        "\n",
        "# Apply map task to each table\n",
        "mapped_R = map_task('R', table_R)\n",
        "mapped_S = map_task('S', table_S)\n",
        "\n",
        "# Combine mapped records\n",
        "mapped_data = mapped_R + mapped_S\n",
        "\n",
        "# Group mapped records by key (id)\n",
        "grouped_data = defaultdict(list)\n",
        "for key, value in mapped_data:\n",
        "    grouped_data[key].append(value)\n",
        "\n",
        "# Apply reduce task to combined records\n",
        "natural_join_result = []\n",
        "for key, values in grouped_data.items():\n",
        "    natural_join_result.extend(reduce_task(key, values))\n",
        "\n",
        "# Output the result of the natural join operation\n",
        "print(natural_join_result)\n"
      ],
      "execution_count": 43,
      "outputs": [
        {
          "output_type": "stream",
          "name": "stdout",
          "text": [
            "[{'id': 1, 'name': 'John', 'age': 30, 'city': 'New York'}, {'id': 2, 'name': 'Alice', 'age': 25, 'city': 'Los Angeles'}]\n"
          ]
        }
      ]
    },
    {
      "cell_type": "code",
      "source": [
        "# Define the map function for both tables R and S\n",
        "def map_function(_, record):\n",
        "    record_id = record['id']\n",
        "    if 'name' in record:\n",
        "        yield (record_id, ('R', record))  # Emit a key-value pair with table name 'R'\n",
        "    elif 'city' in record:\n",
        "        yield (record_id, ('S', record))  # Emit a key-value pair with table name 'S'\n",
        "\n",
        "# Define the reduce function for the natural join operation\n",
        "def reduce_function(key, values):\n",
        "    records_R = [record for table, record in values if table == 'R']  # Get records from table R\n",
        "    records_S = [record for table, record in values if table == 'S']  # Get records from table S\n",
        "    for record_R in records_R:\n",
        "        for record_S in records_S:\n",
        "            yield (record_R | record_S)  # Emit the combined records as the natural join\n",
        "\n",
        "# Sample data for tables R and S\n",
        "table_R = [\n",
        "    {'id': 1, 'name': 'John', 'age': 30},\n",
        "    {'id': 2, 'name': 'Alice', 'age': 25},\n",
        "    {'id': 3, 'name': 'Bob', 'age': 35}\n",
        "]\n",
        "\n",
        "table_S = [\n",
        "    {'id': 1, 'city': 'New York'},\n",
        "    {'id': 2, 'city': 'Los Angeles'},\n",
        "    {'id': 4, 'city': 'Chicago'}\n",
        "]\n",
        "\n",
        "# Combine the records from both tables into a single list\n",
        "combined_data = table_R + table_S\n",
        "\n",
        "# Perform the MapReduce operation\n",
        "output = MapReduce(lambda: [(None, record) for record in combined_data], map_function, reduce_function)\n",
        "\n",
        "# Retrieve the result of the natural join operation\n",
        "result = list(output)\n",
        "\n",
        "# Display the result\n",
        "result\n"
      ],
      "metadata": {
        "colab": {
          "base_uri": "https://localhost:8080/"
        },
        "id": "fkdy9qDkk-BH",
        "outputId": "7abe4480-cec3-4e18-c99d-09cdfdd3cc39"
      },
      "execution_count": 44,
      "outputs": [
        {
          "output_type": "execute_result",
          "data": {
            "text/plain": [
              "[{'id': 1, 'name': 'John', 'age': 30, 'city': 'New York'},\n",
              " {'id': 2, 'name': 'Alice', 'age': 25, 'city': 'Los Angeles'}]"
            ]
          },
          "metadata": {},
          "execution_count": 44
        }
      ]
    },
    {
      "cell_type": "code",
      "source": [],
      "metadata": {
        "id": "qJCoobRZmkbo"
      },
      "execution_count": 44,
      "outputs": []
    },
    {
      "cell_type": "markdown",
      "metadata": {
        "id": "kYdlr0YUxE27"
      },
      "source": [
        "### Grouping and Aggregation (Группировка и аггрегация)\n",
        "\n",
        "**The Map Function:** Для каждого кортежа $(a, b, c$) создайте пару $(a, b)$.\n",
        "\n",
        "**The Reduce Function:** Ключ представляет ту или иную группу. Примение аггрегирующую операцию $\\theta$ к списку значений $[b1, b2, . . . , bn]$ ассоциированных с ключом $a$. Возвращайте в выходной поток $(a, x)$, где $x$ результат применения  $\\theta$ к списку. Например, если $\\theta$ это $SUM$, тогда $x = b1 + b2 + · · · + bn$, а если $\\theta$ is $MAX$, тогда $x$ это максимальное из значений $b1, b2, . . . , bn$."
      ]
    },
    {
      "cell_type": "code",
      "metadata": {
        "id": "MLPckfEGxico",
        "colab": {
          "base_uri": "https://localhost:8080/"
        },
        "outputId": "f3f303b7-d5b5-4687-be7a-854912f3783d"
      },
      "source": [
        "from collections import defaultdict\n",
        "\n",
        "# Определение функции map для операции группировки и агрегации\n",
        "def map_function(_, record):\n",
        "    # Извлекаем значения a и b из кортежа (a, b, c)\n",
        "    a, b, _ = record\n",
        "    # Создаем пару (a, b)\n",
        "    yield a, b\n",
        "\n",
        "# Определение функции reduce для операции группировки и агрегации\n",
        "def reduce_function(key, values):\n",
        "    # Применяем агрегацию к списку значений, ассоциированных с ключом a\n",
        "    theta = sum  # Пример операции агрегации (можно заменить на max, min, etc.)\n",
        "    result = theta(values)\n",
        "    # Возвращаем результат агрегации\n",
        "    yield key, result\n",
        "\n",
        "# Пример данных для операции\n",
        "data = [\n",
        "    (1, 10, 20),\n",
        "    (2, 15, 25),\n",
        "    (1, 5, 30),\n",
        "    (2, 20, 35)\n",
        "]\n",
        "\n",
        "# Выполнение операции группировки\n",
        "grouped_data = defaultdict(list)\n",
        "for record in data:\n",
        "    key, value = map_function(None, record).__next__()\n",
        "    grouped_data[key].append(value)\n",
        "\n",
        "# Вызываем MapReduce для операции группировки и агрегации\n",
        "output = []\n",
        "for key, values in grouped_data.items():\n",
        "    result = reduce_function(key, values)\n",
        "    output.extend(result)\n",
        "\n",
        "# Выводим результат операции группировки и агрегации\n",
        "print(output)\n"
      ],
      "execution_count": 45,
      "outputs": [
        {
          "output_type": "stream",
          "name": "stdout",
          "text": [
            "[(1, 15), (2, 35)]\n"
          ]
        }
      ]
    },
    {
      "cell_type": "markdown",
      "metadata": {
        "id": "03IffTEOJgOb"
      },
      "source": [
        "#"
      ]
    },
    {
      "cell_type": "markdown",
      "metadata": {
        "id": "IIrRgvG4RIS4"
      },
      "source": [
        "### Matrix-Vector multiplication\n",
        "\n",
        "Случай, когда вектор не помещается в памяти Map задачи\n"
      ]
    },
    {
      "cell_type": "code",
      "metadata": {
        "id": "KQhDbiL3zS9r"
      },
      "source": [],
      "execution_count": 45,
      "outputs": []
    },
    {
      "cell_type": "markdown",
      "metadata": {
        "id": "GIo2t7nNxvA9"
      },
      "source": [
        "## Matrix multiplication (Перемножение матриц)\n",
        "\n",
        "Если у нас есть матрица $M$ с элементами $m_{ij}$ в строке $i$ и столбце $j$, и матрица $N$ с элементами $n_{jk}$ в строке $j$ и столбце $k$, тогда их произведение $P = MN$ есть матрица $P$ с элементами $p_{ik}$ в строке $i$ и столбце $k$, где\n",
        "\n",
        "$$p_{ik} =\\sum_{j} m_{ij}n_{jk}$$\n",
        "\n",
        "Необходимым требованием является одинаковое количество столбцов в $M$ и строк в $N$, чтобы операция суммирования по  $j$ была осмысленной. Мы можем размышлять о матрице, как об отношении с тремя атрибутами: номер строки, номер столбца, само значение. Таким образом матрица $M$ предстваляется как отношение $ M(I, J, V )$, с кортежами $(i, j, m_{ij})$, и, аналогично, матрица $N$ представляется как отношение $N(J, K, W)$, с кортежами $(j, k, n_{jk})$. Так как большие матрицы как правило разреженные (большинство значений равно 0), и так как мы можем нулевыми значениями пренебречь (не хранить), такое реляционное представление достаточно эффективно для больших матриц. Однако, возможно, что координаты $i$, $j$, и $k$ неявно закодированы в смещение позиции элемента относительно начала файла, вместо явного хранения. Тогда, функция Map (или Reader) должна быть разработана таким образом, чтобы реконструировать компоненты $I$, $J$, и $K$ кортежей из смещения.\n",
        "\n",
        "Произведение $MN$ это фактически join, за которым следуют группировка по ключу и аггрегация. Таким образом join отношений $M(I, J, V )$ и $N(J, K, W)$, имеющих общим только атрибут $J$, создаст кортежи $(i, j, k, v, w)$ из каждого кортежа $(i, j, v) \\in M$ и кортежа $(j, k, w) \\in N$. Такой 5 компонентный кортеж представляет пару элементов матрицы $(m_{ij} , n_{jk})$. Что нам хотелось бы получить на самом деле, это произведение этих элементов, то есть, 4 компонентный кортеж$(i, j, k, v \\times w)$, так как он представляет произведение $m_{ij}n_{jk}$. Мы представляем отношение как результат одной MapReduce операции, в которой мы можем произвести группировку и аггрегацию, с $I$ и $K$  атрибутами, по которым идёт группировка, и суммой  $V \\times W$.\n",
        "\n",
        "\n",
        "\n"
      ]
    },
    {
      "cell_type": "code",
      "metadata": {
        "id": "1MBkGaLAYVCt"
      },
      "source": [
        "# MapReduce model\n",
        "def flatten(nested_iterable):\n",
        "  for iterable in nested_iterable:\n",
        "    for element in iterable:\n",
        "      yield element\n",
        "\n",
        "def groupbykey(iterable):\n",
        "  t = {}\n",
        "  for (k2, v2) in iterable:\n",
        "    t[k2] = t.get(k2, []) + [v2]\n",
        "  return t.items()\n",
        "\n",
        "def MapReduce(RECORDREADER, MAP, REDUCE):\n",
        "  return flatten(map(lambda x: REDUCE(*x), groupbykey(flatten(map(lambda x: MAP(*x), RECORDREADER())))))"
      ],
      "execution_count": 46,
      "outputs": []
    },
    {
      "cell_type": "markdown",
      "metadata": {
        "id": "sMspsOT0ZB35"
      },
      "source": [
        "Реализуйте перемножение матриц с использованием модельного кода MapReduce для одной машины в случае, когда одна матрица хранится в памяти, а другая генерируется RECORDREADER-ом."
      ]
    },
    {
      "cell_type": "code",
      "metadata": {
        "id": "psP1XekbsEjS"
      },
      "source": [
        "import numpy as np\n",
        "I = 2\n",
        "J = 3\n",
        "K = 4*10\n",
        "small_mat = np.random.rand(I,J) # it is legal to access this from RECORDREADER, MAP, REDUCE\n",
        "big_mat = np.random.rand(J,K)\n",
        "\n",
        "def RECORDREADER():\n",
        "  for j in range(big_mat.shape[0]):\n",
        "    for k in range(big_mat.shape[1]):\n",
        "      yield ((j,k), big_mat[j,k])\n",
        "\n",
        "def MAP(k1, v1):\n",
        "  (j, k) = k1\n",
        "  w = v1\n",
        "  # solution code that yield(k2,v2) pairs\n",
        "\n",
        "def REDUCE(key, values):\n",
        "  (i, k) = key\n",
        "  # solution code that yield(k3,v3) pairs"
      ],
      "execution_count": 47,
      "outputs": []
    },
    {
      "cell_type": "markdown",
      "metadata": {
        "id": "rnt306LHhHrm"
      },
      "source": [
        "Проверьте своё решение"
      ]
    },
    {
      "cell_type": "code",
      "metadata": {
        "id": "Ewy_ZNYqW5a2",
        "colab": {
          "base_uri": "https://localhost:8080/",
          "height": 356
        },
        "outputId": "148b2ce3-1a3b-4261-b28f-48e1f8f8570d"
      },
      "source": [
        "# CHECK THE SOLUTION\n",
        "reference_solution = np.matmul(small_mat, big_mat)\n",
        "solution = MapReduce(RECORDREADER, MAP, REDUCE)\n",
        "\n",
        "def asmatrix(reduce_output):\n",
        "  reduce_output = list(reduce_output)\n",
        "  I = max(i for ((i,k), vw) in reduce_output)+1\n",
        "  K = max(k for ((i,k), vw) in reduce_output)+1\n",
        "  mat = np.empty(shape=(I,K))\n",
        "  for ((i,k), vw) in reduce_output:\n",
        "    mat[i,k] = vw\n",
        "  return mat\n",
        "\n",
        "np.allclose(reference_solution, asmatrix(solution)) # should return true"
      ],
      "execution_count": 48,
      "outputs": [
        {
          "output_type": "error",
          "ename": "TypeError",
          "evalue": "'NoneType' object is not iterable",
          "traceback": [
            "\u001b[0;31m---------------------------------------------------------------------------\u001b[0m",
            "\u001b[0;31mTypeError\u001b[0m                                 Traceback (most recent call last)",
            "\u001b[0;32m<ipython-input-48-472201e31917>\u001b[0m in \u001b[0;36m<cell line: 3>\u001b[0;34m()\u001b[0m\n\u001b[1;32m      1\u001b[0m \u001b[0;31m# CHECK THE SOLUTION\u001b[0m\u001b[0;34m\u001b[0m\u001b[0;34m\u001b[0m\u001b[0m\n\u001b[1;32m      2\u001b[0m \u001b[0mreference_solution\u001b[0m \u001b[0;34m=\u001b[0m \u001b[0mnp\u001b[0m\u001b[0;34m.\u001b[0m\u001b[0mmatmul\u001b[0m\u001b[0;34m(\u001b[0m\u001b[0msmall_mat\u001b[0m\u001b[0;34m,\u001b[0m \u001b[0mbig_mat\u001b[0m\u001b[0;34m)\u001b[0m\u001b[0;34m\u001b[0m\u001b[0;34m\u001b[0m\u001b[0m\n\u001b[0;32m----> 3\u001b[0;31m \u001b[0msolution\u001b[0m \u001b[0;34m=\u001b[0m \u001b[0mMapReduce\u001b[0m\u001b[0;34m(\u001b[0m\u001b[0mRECORDREADER\u001b[0m\u001b[0;34m,\u001b[0m \u001b[0mMAP\u001b[0m\u001b[0;34m,\u001b[0m \u001b[0mREDUCE\u001b[0m\u001b[0;34m)\u001b[0m\u001b[0;34m\u001b[0m\u001b[0;34m\u001b[0m\u001b[0m\n\u001b[0m\u001b[1;32m      4\u001b[0m \u001b[0;34m\u001b[0m\u001b[0m\n\u001b[1;32m      5\u001b[0m \u001b[0;32mdef\u001b[0m \u001b[0masmatrix\u001b[0m\u001b[0;34m(\u001b[0m\u001b[0mreduce_output\u001b[0m\u001b[0;34m)\u001b[0m\u001b[0;34m:\u001b[0m\u001b[0;34m\u001b[0m\u001b[0;34m\u001b[0m\u001b[0m\n",
            "\u001b[0;32m<ipython-input-46-257a25e51583>\u001b[0m in \u001b[0;36mMapReduce\u001b[0;34m(RECORDREADER, MAP, REDUCE)\u001b[0m\n\u001b[1;32m     12\u001b[0m \u001b[0;34m\u001b[0m\u001b[0m\n\u001b[1;32m     13\u001b[0m \u001b[0;32mdef\u001b[0m \u001b[0mMapReduce\u001b[0m\u001b[0;34m(\u001b[0m\u001b[0mRECORDREADER\u001b[0m\u001b[0;34m,\u001b[0m \u001b[0mMAP\u001b[0m\u001b[0;34m,\u001b[0m \u001b[0mREDUCE\u001b[0m\u001b[0;34m)\u001b[0m\u001b[0;34m:\u001b[0m\u001b[0;34m\u001b[0m\u001b[0;34m\u001b[0m\u001b[0m\n\u001b[0;32m---> 14\u001b[0;31m   \u001b[0;32mreturn\u001b[0m \u001b[0mflatten\u001b[0m\u001b[0;34m(\u001b[0m\u001b[0mmap\u001b[0m\u001b[0;34m(\u001b[0m\u001b[0;32mlambda\u001b[0m \u001b[0mx\u001b[0m\u001b[0;34m:\u001b[0m \u001b[0mREDUCE\u001b[0m\u001b[0;34m(\u001b[0m\u001b[0;34m*\u001b[0m\u001b[0mx\u001b[0m\u001b[0;34m)\u001b[0m\u001b[0;34m,\u001b[0m \u001b[0mgroupbykey\u001b[0m\u001b[0;34m(\u001b[0m\u001b[0mflatten\u001b[0m\u001b[0;34m(\u001b[0m\u001b[0mmap\u001b[0m\u001b[0;34m(\u001b[0m\u001b[0;32mlambda\u001b[0m \u001b[0mx\u001b[0m\u001b[0;34m:\u001b[0m \u001b[0mMAP\u001b[0m\u001b[0;34m(\u001b[0m\u001b[0;34m*\u001b[0m\u001b[0mx\u001b[0m\u001b[0;34m)\u001b[0m\u001b[0;34m,\u001b[0m \u001b[0mRECORDREADER\u001b[0m\u001b[0;34m(\u001b[0m\u001b[0;34m)\u001b[0m\u001b[0;34m)\u001b[0m\u001b[0;34m)\u001b[0m\u001b[0;34m)\u001b[0m\u001b[0;34m)\u001b[0m\u001b[0;34m)\u001b[0m\u001b[0;34m\u001b[0m\u001b[0;34m\u001b[0m\u001b[0m\n\u001b[0m",
            "\u001b[0;32m<ipython-input-46-257a25e51583>\u001b[0m in \u001b[0;36mgroupbykey\u001b[0;34m(iterable)\u001b[0m\n\u001b[1;32m      7\u001b[0m \u001b[0;32mdef\u001b[0m \u001b[0mgroupbykey\u001b[0m\u001b[0;34m(\u001b[0m\u001b[0miterable\u001b[0m\u001b[0;34m)\u001b[0m\u001b[0;34m:\u001b[0m\u001b[0;34m\u001b[0m\u001b[0;34m\u001b[0m\u001b[0m\n\u001b[1;32m      8\u001b[0m   \u001b[0mt\u001b[0m \u001b[0;34m=\u001b[0m \u001b[0;34m{\u001b[0m\u001b[0;34m}\u001b[0m\u001b[0;34m\u001b[0m\u001b[0;34m\u001b[0m\u001b[0m\n\u001b[0;32m----> 9\u001b[0;31m   \u001b[0;32mfor\u001b[0m \u001b[0;34m(\u001b[0m\u001b[0mk2\u001b[0m\u001b[0;34m,\u001b[0m \u001b[0mv2\u001b[0m\u001b[0;34m)\u001b[0m \u001b[0;32min\u001b[0m \u001b[0miterable\u001b[0m\u001b[0;34m:\u001b[0m\u001b[0;34m\u001b[0m\u001b[0;34m\u001b[0m\u001b[0m\n\u001b[0m\u001b[1;32m     10\u001b[0m     \u001b[0mt\u001b[0m\u001b[0;34m[\u001b[0m\u001b[0mk2\u001b[0m\u001b[0;34m]\u001b[0m \u001b[0;34m=\u001b[0m \u001b[0mt\u001b[0m\u001b[0;34m.\u001b[0m\u001b[0mget\u001b[0m\u001b[0;34m(\u001b[0m\u001b[0mk2\u001b[0m\u001b[0;34m,\u001b[0m \u001b[0;34m[\u001b[0m\u001b[0;34m]\u001b[0m\u001b[0;34m)\u001b[0m \u001b[0;34m+\u001b[0m \u001b[0;34m[\u001b[0m\u001b[0mv2\u001b[0m\u001b[0;34m]\u001b[0m\u001b[0;34m\u001b[0m\u001b[0;34m\u001b[0m\u001b[0m\n\u001b[1;32m     11\u001b[0m   \u001b[0;32mreturn\u001b[0m \u001b[0mt\u001b[0m\u001b[0;34m.\u001b[0m\u001b[0mitems\u001b[0m\u001b[0;34m(\u001b[0m\u001b[0;34m)\u001b[0m\u001b[0;34m\u001b[0m\u001b[0;34m\u001b[0m\u001b[0m\n",
            "\u001b[0;32m<ipython-input-46-257a25e51583>\u001b[0m in \u001b[0;36mflatten\u001b[0;34m(nested_iterable)\u001b[0m\n\u001b[1;32m      2\u001b[0m \u001b[0;32mdef\u001b[0m \u001b[0mflatten\u001b[0m\u001b[0;34m(\u001b[0m\u001b[0mnested_iterable\u001b[0m\u001b[0;34m)\u001b[0m\u001b[0;34m:\u001b[0m\u001b[0;34m\u001b[0m\u001b[0;34m\u001b[0m\u001b[0m\n\u001b[1;32m      3\u001b[0m   \u001b[0;32mfor\u001b[0m \u001b[0miterable\u001b[0m \u001b[0;32min\u001b[0m \u001b[0mnested_iterable\u001b[0m\u001b[0;34m:\u001b[0m\u001b[0;34m\u001b[0m\u001b[0;34m\u001b[0m\u001b[0m\n\u001b[0;32m----> 4\u001b[0;31m     \u001b[0;32mfor\u001b[0m \u001b[0melement\u001b[0m \u001b[0;32min\u001b[0m \u001b[0miterable\u001b[0m\u001b[0;34m:\u001b[0m\u001b[0;34m\u001b[0m\u001b[0;34m\u001b[0m\u001b[0m\n\u001b[0m\u001b[1;32m      5\u001b[0m       \u001b[0;32myield\u001b[0m \u001b[0melement\u001b[0m\u001b[0;34m\u001b[0m\u001b[0;34m\u001b[0m\u001b[0m\n\u001b[1;32m      6\u001b[0m \u001b[0;34m\u001b[0m\u001b[0m\n",
            "\u001b[0;31mTypeError\u001b[0m: 'NoneType' object is not iterable"
          ]
        }
      ]
    },
    {
      "cell_type": "code",
      "metadata": {
        "id": "TK7v4CEcfxqf"
      },
      "source": [
        "reduce_output = list(MapReduce(RECORDREADER, MAP, REDUCE))\n",
        "max(i for ((i,k), vw) in reduce_output)"
      ],
      "execution_count": null,
      "outputs": []
    },
    {
      "cell_type": "markdown",
      "metadata": {
        "id": "i4yyg3kOZqJJ"
      },
      "source": [
        "Реализуйте перемножение матриц  с использованием модельного кода MapReduce для одной машины в случае, когда обе матрицы генерируются в RECORDREADER. Например, сначала одна, а потом другая."
      ]
    },
    {
      "cell_type": "code",
      "metadata": {
        "id": "3B7rIAJCaHZq"
      },
      "source": [],
      "execution_count": null,
      "outputs": []
    },
    {
      "cell_type": "markdown",
      "metadata": {
        "id": "mXyzQi1DaIwo"
      },
      "source": [
        "Реализуйте перемножение матриц с использованием модельного кода MapReduce Distributed, когда каждая матрица генерируется в своём RECORDREADER."
      ]
    },
    {
      "cell_type": "code",
      "metadata": {
        "id": "TDM_s78Rb5eR"
      },
      "source": [],
      "execution_count": null,
      "outputs": []
    },
    {
      "cell_type": "markdown",
      "metadata": {
        "id": "ZuSA2P9Db6UM"
      },
      "source": [
        "Обобщите предыдущее решение на случай, когда каждая матрица генерируется несколькими RECORDREADER-ами, и проверьте его работоспособность. Будет ли работать решение, если RECORDREADER-ы будут генерировать случайное подмножество элементов матрицы?"
      ]
    },
    {
      "cell_type": "code",
      "metadata": {
        "id": "ehN0FqRDcwU5"
      },
      "source": [],
      "execution_count": null,
      "outputs": []
    }
  ]
}