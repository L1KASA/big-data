{
  "nbformat": 4,
  "nbformat_minor": 0,
  "metadata": {
    "colab": {
      "provenance": [],
      "include_colab_link": true
    },
    "kernelspec": {
      "name": "python3",
      "display_name": "Python 3"
    },
    "language_info": {
      "name": "python"
    }
  },
  "cells": [
    {
      "cell_type": "markdown",
      "metadata": {
        "id": "view-in-github",
        "colab_type": "text"
      },
      "source": [
        "<a href=\"https://colab.research.google.com/github/L1KASA/big-data/blob/main/lab3/6409_%D0%A2%D0%B0%D1%85%D0%BC%D0%B0%D0%B7%D0%BE%D0%B2%D0%B0%D0%90%D0%A8_%D0%9B%D0%A03.ipynb\" target=\"_parent\"><img src=\"https://colab.research.google.com/assets/colab-badge.svg\" alt=\"Open In Colab\"/></a>"
      ]
    },
    {
      "cell_type": "markdown",
      "source": [
        "# Подготовка среды"
      ],
      "metadata": {
        "id": "OMKfS37t8lWG"
      }
    },
    {
      "cell_type": "code",
      "source": [
        "# Установка Java 8\n",
        "!apt-get update\n",
        "!apt-get install openjdk-8-jdk-headless -qq > /dev/null\n",
        "\n",
        "# Загрузка бинарного файла Apache Spark: Эта ссылка может измениться в зависимости от версии. Обновите эту ссылку перед использованием на последнюю версию\n",
        "!wget -q https://archive.apache.org/dist/spark/spark-3.0.2/spark-3.0.2-bin-hadoop2.7.tgz\n",
        "\n",
        "# Распаковка файла\n",
        "!tar xf spark-3.0.2-bin-hadoop2.7.tgz\n",
        "\n",
        "# Установка findspark: Добавляет PySpark в sys.path во время выполнения\n",
        "!pip install -q findspark\n",
        "\n",
        "# Установка pyspark\n",
        "!pip install pyspark\n",
        "\n",
        "# Добавление переменных среды\n",
        "import os\n",
        "os.environ[\"JAVA_HOME\"] = \"/usr/lib/jvm/java-8-openjdk-amd64\"\n",
        "os.environ[\"SPARK_HOME\"] = \"/content/spark-3.0.2-bin-hadoop2.7\"\n",
        "\n",
        "# findspark определит расположение Spark в системе\n",
        "import findspark\n",
        "findspark.init()"
      ],
      "metadata": {
        "id": "gVGHkqT6Um91",
        "colab": {
          "base_uri": "https://localhost:8080/"
        },
        "outputId": "2744d070-0631-478e-f4b5-4817fcdb3379"
      },
      "execution_count": 1,
      "outputs": [
        {
          "output_type": "stream",
          "name": "stdout",
          "text": [
            "\r0% [Working]\r            \rGet:1 https://cloud.r-project.org/bin/linux/ubuntu jammy-cran40/ InRelease [3,626 B]\n",
            "\r0% [Waiting for headers] [Connecting to security.ubuntu.com] [1 InRelease 0 B/3,626 B 0%] [Connectin\r0% [Waiting for headers] [Connecting to security.ubuntu.com] [Connecting to ppa.launchpadcontent.net\r                                                                                                    \rHit:2 https://developer.download.nvidia.com/compute/cuda/repos/ubuntu2204/x86_64  InRelease\n",
            "Hit:3 http://archive.ubuntu.com/ubuntu jammy InRelease\n",
            "Get:4 http://archive.ubuntu.com/ubuntu jammy-updates InRelease [119 kB]\n",
            "Get:5 http://security.ubuntu.com/ubuntu jammy-security InRelease [110 kB]\n",
            "Hit:6 http://archive.ubuntu.com/ubuntu jammy-backports InRelease\n",
            "Hit:7 https://ppa.launchpadcontent.net/c2d4u.team/c2d4u4.0+/ubuntu jammy InRelease\n",
            "Get:8 http://archive.ubuntu.com/ubuntu jammy-updates/restricted amd64 Packages [2,107 kB]\n",
            "Hit:9 https://ppa.launchpadcontent.net/deadsnakes/ppa/ubuntu jammy InRelease\n",
            "Hit:10 https://ppa.launchpadcontent.net/graphics-drivers/ppa/ubuntu jammy InRelease\n",
            "Hit:11 https://ppa.launchpadcontent.net/ubuntugis/ppa/ubuntu jammy InRelease\n",
            "Get:12 http://archive.ubuntu.com/ubuntu jammy-updates/multiverse amd64 Packages [61.2 kB]\n",
            "Get:13 http://archive.ubuntu.com/ubuntu jammy-updates/main amd64 Packages [1,920 kB]\n",
            "Get:14 http://archive.ubuntu.com/ubuntu jammy-updates/universe amd64 Packages [1,357 kB]\n",
            "Get:15 http://security.ubuntu.com/ubuntu jammy-security/main amd64 Packages [1,641 kB]\n",
            "Get:16 http://security.ubuntu.com/ubuntu jammy-security/universe amd64 Packages [1,081 kB]\n",
            "Fetched 8,401 kB in 2s (4,043 kB/s)\n",
            "Reading package lists... Done\n",
            "Collecting pyspark\n",
            "  Downloading pyspark-3.5.1.tar.gz (317.0 MB)\n",
            "\u001b[2K     \u001b[90m━━━━━━━━━━━━━━━━━━━━━━━━━━━━━━━━━━━━━━━━\u001b[0m \u001b[32m317.0/317.0 MB\u001b[0m \u001b[31m3.3 MB/s\u001b[0m eta \u001b[36m0:00:00\u001b[0m\n",
            "\u001b[?25h  Preparing metadata (setup.py) ... \u001b[?25l\u001b[?25hdone\n",
            "Requirement already satisfied: py4j==0.10.9.7 in /usr/local/lib/python3.10/dist-packages (from pyspark) (0.10.9.7)\n",
            "Building wheels for collected packages: pyspark\n",
            "  Building wheel for pyspark (setup.py) ... \u001b[?25l\u001b[?25hdone\n",
            "  Created wheel for pyspark: filename=pyspark-3.5.1-py2.py3-none-any.whl size=317488491 sha256=8ff2b2e64a4d39bde57c7ba9d24d01bfb0130a91e059750baf9472b6bea1a4ff\n",
            "  Stored in directory: /root/.cache/pip/wheels/80/1d/60/2c256ed38dddce2fdd93be545214a63e02fbd8d74fb0b7f3a6\n",
            "Successfully built pyspark\n",
            "Installing collected packages: pyspark\n",
            "Successfully installed pyspark-3.5.1\n"
          ]
        }
      ]
    },
    {
      "cell_type": "code",
      "source": [
        "import os\n",
        "os.environ[\"JAVA_HOME\"] = \"/usr/lib/jvm/java-8-openjdk-amd64\"\n",
        "os.environ[\"SPARK_HOME\"] = \"/content/spark-3.1.1-bin-hadoop3.2\""
      ],
      "metadata": {
        "id": "htIu2LgWMUBv"
      },
      "execution_count": 2,
      "outputs": []
    },
    {
      "cell_type": "code",
      "source": [
        "#!pip install findspark\n",
        "import findspark\n",
        "findspark.init()"
      ],
      "metadata": {
        "id": "TdhUsSjvLZ5Q"
      },
      "execution_count": 6,
      "outputs": []
    },
    {
      "cell_type": "code",
      "source": [
        "!pip install pyspark py4j"
      ],
      "metadata": {
        "colab": {
          "base_uri": "https://localhost:8080/"
        },
        "id": "gIGoJEBCV5oW",
        "outputId": "898f2b3a-9871-44f0-a3b9-78b8c5bb80d5"
      },
      "execution_count": 4,
      "outputs": [
        {
          "output_type": "stream",
          "name": "stdout",
          "text": [
            "Requirement already satisfied: pyspark in /usr/local/lib/python3.10/dist-packages (3.5.1)\n",
            "Requirement already satisfied: py4j in /usr/local/lib/python3.10/dist-packages (0.10.9.7)\n"
          ]
        }
      ]
    },
    {
      "cell_type": "markdown",
      "source": [
        "# Импортирование нужных библиотек"
      ],
      "metadata": {
        "id": "DFJLtQHY8w7l"
      }
    },
    {
      "cell_type": "code",
      "execution_count": 5,
      "metadata": {
        "id": "rYCR_a6PUUL0"
      },
      "outputs": [],
      "source": [
        "import re\n",
        "from typing import List\n",
        "import pyspark.sql as sql\n",
        "from pyspark import SparkContext, SparkConf\n",
        "from pyspark.sql import SparkSession\n",
        "from pyspark.sql.window import Window\n",
        "from pyspark.sql.types import DoubleType, IntegerType, ArrayType, StringType\n",
        "from pyspark.sql.functions import udf, explode, rank, col, max, sum, desc, countDistinct\n",
        "import os"
      ]
    },
    {
      "cell_type": "markdown",
      "source": [
        "# Инициализация сессии"
      ],
      "metadata": {
        "id": "p-fPDfXCqKEd"
      }
    },
    {
      "cell_type": "code",
      "source": [
        "os.environ[\"JAVA_HOME\"] = \"/usr/lib/jvm/java-8-openjdk-amd64\"\n",
        "os.environ[\"SPARK_HOME\"] = \"/content/spark-3.0.2-bin-hadoop2.7\""
      ],
      "metadata": {
        "id": "smfRoykwaP_8"
      },
      "execution_count": 10,
      "outputs": []
    },
    {
      "cell_type": "code",
      "source": [
        "spark = SparkSession.builder.appName(\"L2_reports_with_apache_spark\").getOrCreate()"
      ],
      "metadata": {
        "id": "aI368Q--NHNd"
      },
      "execution_count": 11,
      "outputs": []
    },
    {
      "cell_type": "code",
      "source": [
        "spark.version"
      ],
      "metadata": {
        "colab": {
          "base_uri": "https://localhost:8080/",
          "height": 35
        },
        "id": "_HRe-nkOjild",
        "outputId": "bdacf6b4-190e-47d1-860e-a31084e41255"
      },
      "execution_count": 12,
      "outputs": [
        {
          "output_type": "execute_result",
          "data": {
            "text/plain": [
              "'3.0.2'"
            ],
            "application/vnd.google.colaboratory.intrinsic+json": {
              "type": "string"
            }
          },
          "metadata": {},
          "execution_count": 12
        }
      ]
    },
    {
      "cell_type": "markdown",
      "source": [
        "# Загрузка данных"
      ],
      "metadata": {
        "id": "mLv3u2Y4qgeu"
      }
    },
    {
      "cell_type": "code",
      "source": [
        "posts_path = '/content/posts_sample.xml'\n",
        "programming_languages_path = '/content/programming-languages.csv'"
      ],
      "metadata": {
        "id": "5E_JuVlujmCw"
      },
      "execution_count": 30,
      "outputs": []
    },
    {
      "cell_type": "code",
      "source": [
        "posts_data = spark.read.format('xml').options(rowTag='row').load(posts_path)\n",
        "print(\"Posts\")\n",
        "posts_data.printSchema()"
      ],
      "metadata": {
        "colab": {
          "base_uri": "https://localhost:8080/"
        },
        "id": "pcBcwLGtjxIb",
        "outputId": "c98d84cd-c9b5-4eca-fe10-962d31d45b6c"
      },
      "execution_count": 31,
      "outputs": [
        {
          "output_type": "stream",
          "name": "stdout",
          "text": [
            "Posts\n",
            "root\n",
            " |-- _AcceptedAnswerId: long (nullable = true)\n",
            " |-- _AnswerCount: long (nullable = true)\n",
            " |-- _Body: string (nullable = true)\n",
            " |-- _ClosedDate: timestamp (nullable = true)\n",
            " |-- _CommentCount: long (nullable = true)\n",
            " |-- _CommunityOwnedDate: timestamp (nullable = true)\n",
            " |-- _CreationDate: timestamp (nullable = true)\n",
            " |-- _FavoriteCount: long (nullable = true)\n",
            " |-- _Id: long (nullable = true)\n",
            " |-- _LastActivityDate: timestamp (nullable = true)\n",
            " |-- _LastEditDate: timestamp (nullable = true)\n",
            " |-- _LastEditorDisplayName: string (nullable = true)\n",
            " |-- _LastEditorUserId: long (nullable = true)\n",
            " |-- _OwnerDisplayName: string (nullable = true)\n",
            " |-- _OwnerUserId: long (nullable = true)\n",
            " |-- _ParentId: long (nullable = true)\n",
            " |-- _PostTypeId: long (nullable = true)\n",
            " |-- _Score: long (nullable = true)\n",
            " |-- _Tags: string (nullable = true)\n",
            " |-- _Title: string (nullable = true)\n",
            " |-- _ViewCount: long (nullable = true)\n",
            "\n"
          ]
        }
      ]
    },
    {
      "cell_type": "code",
      "source": [
        "programming_languages_data = spark.read \\\n",
        "    .option(\"header\", True) \\\n",
        "    .option(\"inferSchema\", True) \\\n",
        "    .csv(programming_languages_path)"
      ],
      "metadata": {
        "id": "-mVsCnuv4ru4"
      },
      "execution_count": 32,
      "outputs": []
    },
    {
      "cell_type": "markdown",
      "source": [
        "# Работа с данными"
      ],
      "metadata": {
        "id": "GPGvcZTyrUQB"
      }
    },
    {
      "cell_type": "markdown",
      "source": [
        "## Прописываем функцию для определения языка программирования, связанного с каждым постом на основе тегов"
      ],
      "metadata": {
        "id": "IKT4QQpl5kdj"
      }
    },
    {
      "cell_type": "code",
      "source": [
        "def check_lang(x, csv_list):\n",
        "    tags_lower = x._Tags.lower()\n",
        "    language = next((language for language in csv_list if f\"<{language.lower()}>\" in tags_lower), None)\n",
        "    return (x._Id, language) if language else None"
      ],
      "metadata": {
        "id": "9W7g9E8W4vGV"
      },
      "execution_count": 33,
      "outputs": []
    },
    {
      "cell_type": "markdown",
      "source": [
        "## Извлечение названий языков программирования из CSV"
      ],
      "metadata": {
        "id": "bDbcgXd28ReL"
      }
    },
    {
      "cell_type": "code",
      "source": [
        "csv_list = programming_languages_data.selectExpr(\"name\").rdd.flatMap(lambda x: x).collect()"
      ],
      "metadata": {
        "id": "Z64rUH0z8TOR"
      },
      "execution_count": 34,
      "outputs": []
    },
    {
      "cell_type": "markdown",
      "source": [
        "## Получение минимального и максимального года"
      ],
      "metadata": {
        "id": "di7w9U7G5nuw"
      }
    },
    {
      "cell_type": "code",
      "source": [
        "min_year = int(posts_data.selectExpr(\"min(substring(_CreationDate, 0, 4))\").first()[0])\n",
        "max_year = int(posts_data.selectExpr(\"max(substring(_CreationDate, 0, 4))\").first()[0])\n",
        "\n",
        "print(min_year)\n",
        "print(max_year)"
      ],
      "metadata": {
        "id": "EWZhi7O_4xDr",
        "colab": {
          "base_uri": "https://localhost:8080/"
        },
        "outputId": "0bc3018a-be31-4fcf-a131-6d8bf5529c8b"
      },
      "execution_count": 35,
      "outputs": [
        {
          "output_type": "stream",
          "name": "stdout",
          "text": [
            "2008\n",
            "2019\n"
          ]
        }
      ]
    },
    {
      "cell_type": "markdown",
      "source": [
        "## Анализ топ языков программирования по годам"
      ],
      "metadata": {
        "id": "6CKi64zp5rOo"
      }
    },
    {
      "cell_type": "code",
      "source": [
        "result = {}\n",
        "\n",
        "for year in range(int(min_year), int(max_year) + 1):\n",
        "    # Фильтрация данных по году\n",
        "    filtered_data = posts_data.filter((col(\"_Tags\").isNotNull()) & (col(\"_CreationDate\").substr(0, 4) == str(year)))\n",
        "\n",
        "    # Применение функции check_lang к данным и фильтрация None значений\n",
        "    mapped_data = filtered_data.rdd.map(lambda x: check_lang(x, csv_list)).filter(lambda x: x is not None)\n",
        "\n",
        "    # Агрегация данных\n",
        "    aggregated_data = mapped_data \\\n",
        "        .map(lambda x: (x[1], 1)) \\\n",
        "        .reduceByKey(lambda x, y: x + y) \\\n",
        "        .map(lambda x: (x[0], int(x[1])))  # Преобразование счетчика в целочисленный тип\n",
        "\n",
        "    # Преобразование RDD в DataFrame\n",
        "    sorted_data = spark.createDataFrame(aggregated_data, [\"Language\", f\"{year}_year\"]) \\\n",
        "        .orderBy(col(f\"{year}_year\").desc()) \\\n",
        "        .limit(10)\n",
        "\n",
        "    result[year] = sorted_data\n",
        "    print(f\"Топ 10 языков программирования за {year} год:\")\n",
        "    result[year].show()\n",
        "\n",
        "    # Сохранение результата в формате Parquet\n",
        "    sorted_data.write.parquet(f\"top_programming_languages_{year}.parquet\")"
      ],
      "metadata": {
        "id": "VzaXPwCxoq5Q",
        "colab": {
          "base_uri": "https://localhost:8080/"
        },
        "outputId": "696b6020-b194-4e77-b12d-9daf1cbbd7d2"
      },
      "execution_count": 36,
      "outputs": [
        {
          "output_type": "stream",
          "name": "stdout",
          "text": [
            "Топ 10 языков программирования за 2008 год:\n",
            "+----------+---------+\n",
            "|  Language|2008_year|\n",
            "+----------+---------+\n",
            "|      Java|        4|\n",
            "|      Ruby|        3|\n",
            "|JavaScript|        2|\n",
            "|         C|        2|\n",
            "|    Groovy|        1|\n",
            "|    Python|        1|\n",
            "|       X++|        1|\n",
            "|        Io|        1|\n",
            "|       PHP|        1|\n",
            "+----------+---------+\n",
            "\n",
            "Топ 10 языков программирования за 2009 год:\n",
            "+-----------+---------+\n",
            "|   Language|2009_year|\n",
            "+-----------+---------+\n",
            "|       Java|       28|\n",
            "|     Python|       22|\n",
            "|        PHP|       22|\n",
            "| JavaScript|       12|\n",
            "|     Delphi|        7|\n",
            "|       Ruby|        7|\n",
            "|          C|        6|\n",
            "|Objective-C|        5|\n",
            "|    Haskell|        4|\n",
            "|       Bash|        3|\n",
            "+-----------+---------+\n",
            "\n",
            "Топ 10 языков программирования за 2010 год:\n",
            "+-----------+---------+\n",
            "|   Language|2010_year|\n",
            "+-----------+---------+\n",
            "|       Java|       52|\n",
            "| JavaScript|       44|\n",
            "|        PHP|       42|\n",
            "|     Python|       25|\n",
            "|Objective-C|       23|\n",
            "|          C|       20|\n",
            "|       Ruby|       11|\n",
            "|     Delphi|        7|\n",
            "|          R|        3|\n",
            "|       Bash|        3|\n",
            "+-----------+---------+\n",
            "\n",
            "Топ 10 языков программирования за 2011 год:\n",
            "+-----------+---------+\n",
            "|   Language|2011_year|\n",
            "+-----------+---------+\n",
            "|        PHP|       97|\n",
            "|       Java|       92|\n",
            "| JavaScript|       82|\n",
            "|     Python|       35|\n",
            "|Objective-C|       33|\n",
            "|          C|       24|\n",
            "|       Ruby|       17|\n",
            "|     Delphi|        8|\n",
            "|       Perl|        8|\n",
            "|       Bash|        7|\n",
            "+-----------+---------+\n",
            "\n",
            "Топ 10 языков программирования за 2012 год:\n",
            "+-----------+---------+\n",
            "|   Language|2012_year|\n",
            "+-----------+---------+\n",
            "|        PHP|      136|\n",
            "| JavaScript|      129|\n",
            "|       Java|      124|\n",
            "|     Python|       65|\n",
            "|Objective-C|       45|\n",
            "|          C|       27|\n",
            "|       Ruby|       25|\n",
            "|       Bash|        9|\n",
            "|          R|        9|\n",
            "|     MATLAB|        6|\n",
            "+-----------+---------+\n",
            "\n",
            "Топ 10 языков программирования за 2013 год:\n",
            "+-----------+---------+\n",
            "|   Language|2013_year|\n",
            "+-----------+---------+\n",
            "| JavaScript|      196|\n",
            "|       Java|      191|\n",
            "|        PHP|      173|\n",
            "|     Python|       87|\n",
            "|Objective-C|       40|\n",
            "|          C|       36|\n",
            "|       Ruby|       30|\n",
            "|          R|       25|\n",
            "|       Bash|       11|\n",
            "|      Scala|       10|\n",
            "+-----------+---------+\n",
            "\n",
            "Топ 10 языков программирования за 2014 год:\n",
            "+-----------+---------+\n",
            "|   Language|2014_year|\n",
            "+-----------+---------+\n",
            "| JavaScript|      235|\n",
            "|       Java|      228|\n",
            "|        PHP|      154|\n",
            "|     Python|      103|\n",
            "|          C|       52|\n",
            "|Objective-C|       49|\n",
            "|          R|       28|\n",
            "|       Ruby|       20|\n",
            "|     MATLAB|       16|\n",
            "|       Bash|       13|\n",
            "+-----------+---------+\n",
            "\n",
            "Топ 10 языков программирования за 2015 год:\n",
            "+-----------+---------+\n",
            "|   Language|2015_year|\n",
            "+-----------+---------+\n",
            "| JavaScript|      270|\n",
            "|       Java|      208|\n",
            "|        PHP|      147|\n",
            "|     Python|      119|\n",
            "|          R|       43|\n",
            "|          C|       38|\n",
            "|Objective-C|       30|\n",
            "|       Ruby|       21|\n",
            "|     MATLAB|       16|\n",
            "|      Scala|       13|\n",
            "+-----------+---------+\n",
            "\n",
            "Топ 10 языков программирования за 2016 год:\n",
            "+----------+---------+\n",
            "|  Language|2016_year|\n",
            "+----------+---------+\n",
            "|JavaScript|      272|\n",
            "|      Java|      179|\n",
            "|    Python|      141|\n",
            "|       PHP|      126|\n",
            "|         R|       50|\n",
            "|         C|       32|\n",
            "|      Ruby|       21|\n",
            "|      Bash|       16|\n",
            "|     Scala|       16|\n",
            "|    MATLAB|       15|\n",
            "+----------+---------+\n",
            "\n",
            "Топ 10 языков программирования за 2017 год:\n",
            "+-----------+---------+\n",
            "|   Language|2017_year|\n",
            "+-----------+---------+\n",
            "| JavaScript|      244|\n",
            "|       Java|      204|\n",
            "|     Python|      185|\n",
            "|        PHP|      122|\n",
            "|          R|       53|\n",
            "|          C|       24|\n",
            "|Objective-C|       19|\n",
            "|       Ruby|       16|\n",
            "| TypeScript|       14|\n",
            "| PowerShell|       14|\n",
            "+-----------+---------+\n",
            "\n",
            "Топ 10 языков программирования за 2018 год:\n",
            "+----------+---------+\n",
            "|  Language|2018_year|\n",
            "+----------+---------+\n",
            "|    Python|      214|\n",
            "|JavaScript|      196|\n",
            "|      Java|      145|\n",
            "|       PHP|       99|\n",
            "|         R|       63|\n",
            "|         C|       24|\n",
            "|     Scala|       22|\n",
            "|TypeScript|       21|\n",
            "|PowerShell|       13|\n",
            "|      Bash|       12|\n",
            "+----------+---------+\n",
            "\n",
            "Топ 10 языков программирования за 2019 год:\n",
            "+----------+---------+\n",
            "|  Language|2019_year|\n",
            "+----------+---------+\n",
            "|    Python|      162|\n",
            "|JavaScript|      131|\n",
            "|      Java|       95|\n",
            "|       PHP|       59|\n",
            "|         R|       36|\n",
            "|         C|       14|\n",
            "|        Go|        9|\n",
            "|    MATLAB|        9|\n",
            "|      Dart|        9|\n",
            "|      Bash|        8|\n",
            "+----------+---------+\n",
            "\n"
          ]
        }
      ]
    },
    {
      "cell_type": "markdown",
      "source": [
        "## Остановка SparkSession"
      ],
      "metadata": {
        "id": "hAyCvor05smS"
      }
    },
    {
      "cell_type": "code",
      "source": [
        "spark.stop()"
      ],
      "metadata": {
        "id": "0wsOTP9s5fG9"
      },
      "execution_count": 37,
      "outputs": []
    },
    {
      "cell_type": "markdown",
      "source": [
        "## Проверка работы с файлами Parquet"
      ],
      "metadata": {
        "id": "CxB8eO8Te90s"
      }
    },
    {
      "cell_type": "code",
      "source": [
        "import pandas as pd\n",
        "\n",
        "# Чтение файла Parquet\n",
        "df = pd.read_parquet(\"top_programming_languages_2009.parquet\")\n",
        "\n",
        "# Просмотр данных\n",
        "print(df)\n"
      ],
      "metadata": {
        "id": "0amv7tvi9D5p",
        "colab": {
          "base_uri": "https://localhost:8080/"
        },
        "outputId": "d187c2da-e66f-4be1-83a4-69b39bcb5eeb"
      },
      "execution_count": 38,
      "outputs": [
        {
          "output_type": "stream",
          "name": "stdout",
          "text": [
            "      Language  2009_year\n",
            "0         Java         28\n",
            "1       Python         22\n",
            "2          PHP         22\n",
            "3   JavaScript         12\n",
            "4       Delphi          7\n",
            "5         Ruby          7\n",
            "6            C          6\n",
            "7  Objective-C          5\n",
            "8      Haskell          4\n",
            "9         Bash          3\n"
          ]
        }
      ]
    }
  ]
}