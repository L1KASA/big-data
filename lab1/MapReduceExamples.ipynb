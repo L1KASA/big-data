{
  "nbformat": 4,
  "nbformat_minor": 0,
  "metadata": {
    "colab": {
      "provenance": [],
      "include_colab_link": true
    },
    "kernelspec": {
      "name": "python3",
      "display_name": "Python 3"
    }
  },
  "cells": [
    {
      "cell_type": "markdown",
      "metadata": {
        "id": "view-in-github",
        "colab_type": "text"
      },
      "source": [
        "<a href=\"https://colab.research.google.com/github/L1KASA/big-data/blob/main/lab1/MapReduceExamples.ipynb\" target=\"_parent\"><img src=\"https://colab.research.google.com/assets/colab-badge.svg\" alt=\"Open In Colab\"/></a>"
      ]
    },
    {
      "cell_type": "markdown",
      "metadata": {
        "id": "82OvPKEiEqjc"
      },
      "source": [
        "# Введение в MapReduce модель на Python\n"
      ]
    },
    {
      "cell_type": "code",
      "metadata": {
        "id": "JQ2cvXLjICmI"
      },
      "source": [
        "from typing import NamedTuple # requires python 3.6+\n",
        "from typing import Iterator"
      ],
      "execution_count": 256,
      "outputs": []
    },
    {
      "cell_type": "code",
      "metadata": {
        "id": "yjPHumVwEyEg"
      },
      "source": [
        "def MAP(_, row:NamedTuple):\n",
        "  if (row.gender == 'female'):\n",
        "    yield (row.age, row)\n",
        "\n",
        "def REDUCE(age:str, rows:Iterator[NamedTuple]):\n",
        "  sum = 0\n",
        "  count = 0\n",
        "  for row in rows:\n",
        "    sum += row.social_contacts\n",
        "    count += 1\n",
        "  if (count > 0):\n",
        "    yield (age, sum/count)\n",
        "  else:\n",
        "    yield (age, 0)"
      ],
      "execution_count": 257,
      "outputs": []
    },
    {
      "cell_type": "markdown",
      "metadata": {
        "id": "vBKMgpG_ilaZ"
      },
      "source": [
        "Модель элемента данных"
      ]
    },
    {
      "cell_type": "code",
      "metadata": {
        "id": "Rv-XIjhTJPx3"
      },
      "source": [
        "class User(NamedTuple):\n",
        "  id: int\n",
        "  age: str\n",
        "  social_contacts: int\n",
        "  gender: str"
      ],
      "execution_count": 258,
      "outputs": []
    },
    {
      "cell_type": "code",
      "metadata": {
        "id": "5KV0Ze2vQgu5"
      },
      "source": [
        "input_collection = [\n",
        "    User(id=0, age=55, gender='male', social_contacts=20),\n",
        "    User(id=1, age=25, gender='female', social_contacts=240),\n",
        "    User(id=2, age=25, gender='female', social_contacts=500),\n",
        "    User(id=3, age=33, gender='female', social_contacts=800)\n",
        "]"
      ],
      "execution_count": 259,
      "outputs": []
    },
    {
      "cell_type": "markdown",
      "metadata": {
        "id": "YFeqzyZxZIFZ"
      },
      "source": [
        "Функция RECORDREADER моделирует чтение элементов с диска или по сети."
      ]
    },
    {
      "cell_type": "code",
      "metadata": {
        "id": "S5HR4E_GQoMJ"
      },
      "source": [
        "def RECORDREADER():\n",
        "  return [(u.id, u) for u in input_collection]"
      ],
      "execution_count": 260,
      "outputs": []
    },
    {
      "cell_type": "code",
      "metadata": {
        "id": "NeEoWla-ROUy",
        "colab": {
          "base_uri": "https://localhost:8080/"
        },
        "outputId": "89d8b53d-3d24-4d5a-8503-774666d67638"
      },
      "source": [
        "list(RECORDREADER())"
      ],
      "execution_count": 261,
      "outputs": [
        {
          "output_type": "execute_result",
          "data": {
            "text/plain": [
              "[(0, User(id=0, age=55, social_contacts=20, gender='male')),\n",
              " (1, User(id=1, age=25, social_contacts=240, gender='female')),\n",
              " (2, User(id=2, age=25, social_contacts=500, gender='female')),\n",
              " (3, User(id=3, age=33, social_contacts=800, gender='female'))]"
            ]
          },
          "metadata": {},
          "execution_count": 261
        }
      ]
    },
    {
      "cell_type": "code",
      "metadata": {
        "id": "YB8orgPSZs8M"
      },
      "source": [
        "def flatten(nested_iterable):\n",
        "  for iterable in nested_iterable:\n",
        "    for element in iterable:\n",
        "      yield element"
      ],
      "execution_count": 262,
      "outputs": []
    },
    {
      "cell_type": "code",
      "metadata": {
        "id": "74oyvDLaRmd5",
        "colab": {
          "base_uri": "https://localhost:8080/"
        },
        "outputId": "27f528c1-beed-4235-f41c-55a88c9cef3b"
      },
      "source": [
        "map_output = flatten(map(lambda x: MAP(*x), RECORDREADER()))\n",
        "map_output = list(map_output) # materialize\n",
        "map_output"
      ],
      "execution_count": 263,
      "outputs": [
        {
          "output_type": "execute_result",
          "data": {
            "text/plain": [
              "[(25, User(id=1, age=25, social_contacts=240, gender='female')),\n",
              " (25, User(id=2, age=25, social_contacts=500, gender='female')),\n",
              " (33, User(id=3, age=33, social_contacts=800, gender='female'))]"
            ]
          },
          "metadata": {},
          "execution_count": 263
        }
      ]
    },
    {
      "cell_type": "code",
      "metadata": {
        "id": "8ncYDJ3-VzDn"
      },
      "source": [
        "def groupbykey(iterable):\n",
        "  t = {}\n",
        "  for (k2, v2) in iterable:\n",
        "    t[k2] = t.get(k2, []) + [v2]\n",
        "  return t.items()"
      ],
      "execution_count": 264,
      "outputs": []
    },
    {
      "cell_type": "code",
      "metadata": {
        "id": "cKzY_6COWOA2",
        "colab": {
          "base_uri": "https://localhost:8080/"
        },
        "outputId": "94c05cfb-224a-4b04-cabb-eb5ab3f2cd8f"
      },
      "source": [
        "shuffle_output = groupbykey(map_output)\n",
        "shuffle_output = list(shuffle_output)\n",
        "shuffle_output"
      ],
      "execution_count": 265,
      "outputs": [
        {
          "output_type": "execute_result",
          "data": {
            "text/plain": [
              "[(25,\n",
              "  [User(id=1, age=25, social_contacts=240, gender='female'),\n",
              "   User(id=2, age=25, social_contacts=500, gender='female')]),\n",
              " (33, [User(id=3, age=33, social_contacts=800, gender='female')])]"
            ]
          },
          "metadata": {},
          "execution_count": 265
        }
      ]
    },
    {
      "cell_type": "code",
      "metadata": {
        "id": "NlA7lkDDYL0t",
        "colab": {
          "base_uri": "https://localhost:8080/"
        },
        "outputId": "33f8b289-88a2-4ecd-d78c-06eecab2106c"
      },
      "source": [
        "reduce_output = flatten(map(lambda x: REDUCE(*x), shuffle_output))\n",
        "reduce_output = list(reduce_output)\n",
        "reduce_output"
      ],
      "execution_count": 266,
      "outputs": [
        {
          "output_type": "execute_result",
          "data": {
            "text/plain": [
              "[(25, 370.0), (33, 800.0)]"
            ]
          },
          "metadata": {},
          "execution_count": 266
        }
      ]
    },
    {
      "cell_type": "markdown",
      "metadata": {
        "id": "xf6qhHEtd6bI"
      },
      "source": [
        "Все действия одним конвейером!"
      ]
    },
    {
      "cell_type": "code",
      "metadata": {
        "id": "dZaQGYxCdpw5",
        "colab": {
          "base_uri": "https://localhost:8080/"
        },
        "outputId": "1442ce1a-dd98-4867-c230-4419c033670a"
      },
      "source": [
        "list(flatten(map(lambda x: REDUCE(*x), groupbykey(flatten(map(lambda x: MAP(*x), RECORDREADER()))))))"
      ],
      "execution_count": 267,
      "outputs": [
        {
          "output_type": "execute_result",
          "data": {
            "text/plain": [
              "[(25, 370.0), (33, 800.0)]"
            ]
          },
          "metadata": {},
          "execution_count": 267
        }
      ]
    },
    {
      "cell_type": "markdown",
      "metadata": {
        "id": "Vq3EWRIpwSiJ"
      },
      "source": [
        "# **MapReduce**\n",
        "Выделим общую для всех пользователей часть системы в отдельную функцию высшего порядка. Это наиболее простая модель MapReduce, без учёта распределённого хранения данных.\n",
        "\n",
        "Пользователь для решения своей задачи реализует RECORDREADER, MAP, REDUCE."
      ]
    },
    {
      "cell_type": "code",
      "metadata": {
        "id": "V1PZeQMwwVjc"
      },
      "source": [
        "def flatten(nested_iterable):\n",
        "  for iterable in nested_iterable:\n",
        "    for element in iterable:\n",
        "      yield element\n",
        "\n",
        "def groupbykey(iterable):\n",
        "  t = {}\n",
        "  for (k2, v2) in iterable:\n",
        "    t[k2] = t.get(k2, []) + [v2]\n",
        "  return t.items()\n",
        "\n",
        "def MapReduce(RECORDREADER, MAP, REDUCE):\n",
        "  return flatten(map(lambda x: REDUCE(*x), groupbykey(flatten(map(lambda x: MAP(*x), RECORDREADER())))))"
      ],
      "execution_count": 268,
      "outputs": []
    },
    {
      "cell_type": "markdown",
      "metadata": {
        "id": "iFIVrimep678"
      },
      "source": [
        "## Спецификация MapReduce\n",
        "\n",
        "\n",
        "\n",
        "```\n",
        "f (k1, v1) -> (k2,v2)*\n",
        "g (k2, v2*) -> (k3,v3)*\n",
        "\n",
        "mapreduce ((k1,v1)*) -> (k3,v3)*\n",
        "groupby ((k2,v2)*) -> (k2,v2*)*\n",
        "flatten (e2**) -> e2*\n",
        "\n",
        "mapreduce .map(f).flatten.groupby(k2).map(g).flatten\n",
        "```\n",
        "\n",
        "\n"
      ]
    },
    {
      "cell_type": "markdown",
      "metadata": {
        "id": "QtTFyqke3KGe"
      },
      "source": [
        "# Примеры"
      ]
    },
    {
      "cell_type": "markdown",
      "metadata": {
        "id": "BNhh5763w5Vn"
      },
      "source": [
        "## SQL"
      ]
    },
    {
      "cell_type": "code",
      "metadata": {
        "id": "QkyurnvGxBGk",
        "colab": {
          "base_uri": "https://localhost:8080/"
        },
        "outputId": "2f7960ca-b548-48d0-d648-0c262556840e"
      },
      "source": [
        "from typing import NamedTuple # requires python 3.6+\n",
        "from typing import Iterator\n",
        "\n",
        "class User(NamedTuple):\n",
        "  id: int\n",
        "  age: str\n",
        "  social_contacts: int\n",
        "  gender: str\n",
        "\n",
        "input_collection = [\n",
        "    User(id=0, age=55, gender='male', social_contacts=20),\n",
        "    User(id=1, age=25, gender='female', social_contacts=240),\n",
        "    User(id=2, age=25, gender='female', social_contacts=500),\n",
        "    User(id=3, age=33, gender='female', social_contacts=800)\n",
        "]\n",
        "\n",
        "def MAP(_, row:NamedTuple):\n",
        "  if (row.gender == 'female'):\n",
        "    yield (row.age, row)\n",
        "\n",
        "def REDUCE(age:str, rows:Iterator[NamedTuple]):\n",
        "  sum = 0\n",
        "  count = 0\n",
        "  for row in rows:\n",
        "    sum += row.social_contacts\n",
        "    count += 1\n",
        "  if (count > 0):\n",
        "    yield (age, sum/count)\n",
        "  else:\n",
        "    yield (age, 0)\n",
        "\n",
        "def RECORDREADER():\n",
        "  return [(u.id, u) for u in input_collection]\n",
        "\n",
        "output = MapReduce(RECORDREADER, MAP, REDUCE)\n",
        "output = list(output)\n",
        "output"
      ],
      "execution_count": 269,
      "outputs": [
        {
          "output_type": "execute_result",
          "data": {
            "text/plain": [
              "[(25, 370.0), (33, 800.0)]"
            ]
          },
          "metadata": {},
          "execution_count": 269
        }
      ]
    },
    {
      "cell_type": "markdown",
      "metadata": {
        "id": "kNKYIeerx0nY"
      },
      "source": [
        "## Matrix-Vector multiplication"
      ]
    },
    {
      "cell_type": "code",
      "metadata": {
        "id": "rwcntRcCyi1V",
        "colab": {
          "base_uri": "https://localhost:8080/"
        },
        "outputId": "5e4de317-3ad8-4c27-abd4-9de1966ee75e"
      },
      "source": [
        "from typing import Iterator\n",
        "import numpy as np\n",
        "\n",
        "mat = np.ones((5,4))\n",
        "vec = np.random.rand(4) # in-memory vector in all map tasks\n",
        "\n",
        "def MAP(coordinates:(int, int), value:int):\n",
        "  i, j = coordinates\n",
        "  yield (i, value*vec[j])\n",
        "\n",
        "def REDUCE(i:int, products:Iterator[NamedTuple]):\n",
        "  sum = 0\n",
        "  for p in products:\n",
        "    sum += p\n",
        "  yield (i, sum)\n",
        "\n",
        "def RECORDREADER():\n",
        "  for i in range(mat.shape[0]):\n",
        "    for j in range(mat.shape[1]):\n",
        "      yield ((i, j), mat[i,j])\n",
        "\n",
        "output = MapReduce(RECORDREADER, MAP, REDUCE)\n",
        "output = list(output)\n",
        "output"
      ],
      "execution_count": 270,
      "outputs": [
        {
          "output_type": "execute_result",
          "data": {
            "text/plain": [
              "[(0, 2.8139407778783943),\n",
              " (1, 2.8139407778783943),\n",
              " (2, 2.8139407778783943),\n",
              " (3, 2.8139407778783943),\n",
              " (4, 2.8139407778783943)]"
            ]
          },
          "metadata": {},
          "execution_count": 270
        }
      ]
    },
    {
      "cell_type": "markdown",
      "metadata": {
        "id": "ruZREYdi2o4O"
      },
      "source": [
        "## Inverted index"
      ]
    },
    {
      "cell_type": "code",
      "metadata": {
        "id": "vt9H9Alf3TYv",
        "colab": {
          "base_uri": "https://localhost:8080/"
        },
        "outputId": "bfbf10c1-6dc2-4b3e-8cd4-656479052231"
      },
      "source": [
        "from typing import Iterator\n",
        "\n",
        "d1 = \"it is what it is\"\n",
        "d2 = \"what is it\"\n",
        "d3 = \"it is a banana\"\n",
        "documents = [d1, d2, d3]\n",
        "\n",
        "def RECORDREADER():\n",
        "  for (docid, document) in enumerate(documents):\n",
        "    yield (\"{}\".format(docid), document)\n",
        "\n",
        "def MAP(docId:str, body:str):\n",
        "  for word in set(body.split(' ')):\n",
        "    yield (word, docId)\n",
        "\n",
        "def REDUCE(word:str, docIds:Iterator[str]):\n",
        "  yield (word, sorted(docIds))\n",
        "\n",
        "output = MapReduce(RECORDREADER, MAP, REDUCE)\n",
        "output = list(output)\n",
        "output"
      ],
      "execution_count": 271,
      "outputs": [
        {
          "output_type": "execute_result",
          "data": {
            "text/plain": [
              "[('what', ['0', '1']),\n",
              " ('is', ['0', '1', '2']),\n",
              " ('it', ['0', '1', '2']),\n",
              " ('a', ['2']),\n",
              " ('banana', ['2'])]"
            ]
          },
          "metadata": {},
          "execution_count": 271
        }
      ]
    },
    {
      "cell_type": "markdown",
      "metadata": {
        "id": "R7az-6DA6qr2"
      },
      "source": [
        "## WordCount"
      ]
    },
    {
      "cell_type": "code",
      "metadata": {
        "id": "dN-nbtgG6uYG",
        "colab": {
          "base_uri": "https://localhost:8080/"
        },
        "outputId": "1c398fcf-be5d-4324-95a8-a1c429ef21d7"
      },
      "source": [
        "from typing import Iterator\n",
        "\n",
        "d1 = \"\"\"\n",
        "it is what it is\n",
        "it is what it is\n",
        "it is what it is\"\"\"\n",
        "d2 = \"\"\"\n",
        "what is it\n",
        "what is it\"\"\"\n",
        "d3 = \"\"\"\n",
        "it is a banana\"\"\"\n",
        "documents = [d1, d2, d3]\n",
        "\n",
        "def RECORDREADER():\n",
        "  for (docid, document) in enumerate(documents):\n",
        "    for (lineid, line) in enumerate(document.split('\\n')):\n",
        "      yield (\"{}:{}\".format(docid,lineid), line)\n",
        "\n",
        "def MAP(docId:str, line:str):\n",
        "  for word in line.split(\" \"):\n",
        "    yield (word, 1)\n",
        "\n",
        "def REDUCE(word:str, counts:Iterator[int]):\n",
        "  sum = 0\n",
        "  for c in counts:\n",
        "    sum += c\n",
        "  yield (word, sum)\n",
        "\n",
        "output = MapReduce(RECORDREADER, MAP, REDUCE)\n",
        "output = list(output)\n",
        "output"
      ],
      "execution_count": 272,
      "outputs": [
        {
          "output_type": "execute_result",
          "data": {
            "text/plain": [
              "[('', 3), ('it', 9), ('is', 9), ('what', 5), ('a', 1), ('banana', 1)]"
            ]
          },
          "metadata": {},
          "execution_count": 272
        }
      ]
    },
    {
      "cell_type": "markdown",
      "metadata": {
        "id": "h-jRAcYCAkkk"
      },
      "source": [
        "# MapReduce Distributed\n",
        "\n",
        "Добавляется в модель фабрика RECORDREARER-ов --- INPUTFORMAT, функция распределения промежуточных результатов по партициям PARTITIONER, и функция COMBINER для частичной аггрегации промежуточных результатов до распределения по новым партициям."
      ]
    },
    {
      "cell_type": "code",
      "metadata": {
        "id": "nw-b-xJsApgW"
      },
      "source": [
        "def flatten(nested_iterable):\n",
        "  for iterable in nested_iterable:\n",
        "    for element in iterable:\n",
        "      yield element\n",
        "\n",
        "def groupbykey(iterable):\n",
        "  t = {}\n",
        "  for (k2, v2) in iterable:\n",
        "    t[k2] = t.get(k2, []) + [v2]\n",
        "  return t.items()\n",
        "\n",
        "def groupbykey_distributed(map_partitions, PARTITIONER):\n",
        "  global reducers\n",
        "  partitions = [dict() for _ in range(reducers)]\n",
        "  for map_partition in map_partitions:\n",
        "    for (k2, v2) in map_partition:\n",
        "      p = partitions[PARTITIONER(k2)]\n",
        "      p[k2] = p.get(k2, []) + [v2]\n",
        "  return [(partition_id, sorted(partition.items(), key=lambda x: x[0])) for (partition_id, partition) in enumerate(partitions)]\n",
        "\n",
        "def PARTITIONER(obj):\n",
        "  global reducers\n",
        "  return hash(obj) % reducers\n",
        "\n",
        "def MapReduceDistributed(INPUTFORMAT, MAP, REDUCE, PARTITIONER=PARTITIONER, COMBINER=None):\n",
        "  map_partitions = map(lambda record_reader: flatten(map(lambda k1v1: MAP(*k1v1), record_reader)), INPUTFORMAT())\n",
        "  if COMBINER != None:\n",
        "    map_partitions = map(lambda map_partition: flatten(map(lambda k2v2: COMBINER(*k2v2), groupbykey(map_partition))), map_partitions)\n",
        "  reduce_partitions = groupbykey_distributed(map_partitions, PARTITIONER) # shuffle\n",
        "  reduce_outputs = map(lambda reduce_partition: (reduce_partition[0], flatten(map(lambda reduce_input_group: REDUCE(*reduce_input_group), reduce_partition[1]))), reduce_partitions)\n",
        "\n",
        "  print(\"{} key-value pairs were sent over a network.\".format(sum([len(vs) for (k,vs) in flatten([partition for (partition_id, partition) in reduce_partitions])])))\n",
        "  return reduce_outputs"
      ],
      "execution_count": 273,
      "outputs": []
    },
    {
      "cell_type": "markdown",
      "metadata": {
        "id": "kxirlf3XqZxY"
      },
      "source": [
        "## Спецификация MapReduce Distributed\n",
        "\n",
        "\n",
        "```\n",
        "f (k1, v1) -> (k2,v2)*\n",
        "g (k2, v2*) -> (k3,v3)*\n",
        "\n",
        "e1 (k1, v1)\n",
        "e2 (k2, v2)\n",
        "partition1 (k2, v2)*\n",
        "partition2 (k2, v2*)*\n",
        "\n",
        "flatmap (e1->e2*, e1*) -> partition1*\n",
        "groupby (partition1*) -> partition2*\n",
        "\n",
        "mapreduce ((k1,v1)*) -> (k3,v3)*\n",
        "mapreduce .flatmap(f).groupby(k2).flatmap(g)\n",
        "```\n",
        "\n"
      ]
    },
    {
      "cell_type": "markdown",
      "metadata": {
        "id": "CWYw_CpbbY3C"
      },
      "source": [
        "## WordCount"
      ]
    },
    {
      "cell_type": "code",
      "metadata": {
        "id": "uR_zfGFkMZlp",
        "colab": {
          "base_uri": "https://localhost:8080/"
        },
        "outputId": "3386d7cf-c0aa-4ba3-efe9-0fc35dda083f"
      },
      "source": [
        "from typing import Iterator\n",
        "import numpy as np\n",
        "\n",
        "d1 = \"\"\"\n",
        "it is what it is\n",
        "it is what it is\n",
        "it is what it is\"\"\"\n",
        "d2 = \"\"\"\n",
        "what is it\n",
        "what is it\"\"\"\n",
        "d3 = \"\"\"\n",
        "it is a banana\"\"\"\n",
        "documents = [d1, d2, d3, d1, d2, d3]\n",
        "\n",
        "maps = 3\n",
        "reducers = 2\n",
        "\n",
        "def INPUTFORMAT():\n",
        "  global maps\n",
        "\n",
        "  def RECORDREADER(split):\n",
        "    for (docid, document) in enumerate(split):\n",
        "      for (lineid, line) in enumerate(document.split('\\n')):\n",
        "        yield (\"{}:{}\".format(docid,lineid), line)\n",
        "\n",
        "  split_size =  int(np.ceil(len(documents)/maps))\n",
        "  for i in range(0, len(documents), split_size):\n",
        "    yield RECORDREADER(documents[i:i+split_size])\n",
        "\n",
        "def MAP(docId:str, line:str):\n",
        "  for word in line.split(\" \"):\n",
        "    yield (word, 1)\n",
        "\n",
        "def REDUCE(word:str, counts:Iterator[int]):\n",
        "  sum = 0\n",
        "  for c in counts:\n",
        "    sum += c\n",
        "  yield (word, sum)\n",
        "\n",
        "# try to set COMBINER=REDUCER and look at the number of values sent over the network\n",
        "partitioned_output = MapReduceDistributed(INPUTFORMAT, MAP, REDUCE, COMBINER=None)\n",
        "partitioned_output = [(partition_id, list(partition)) for (partition_id, partition) in partitioned_output]\n",
        "partitioned_output"
      ],
      "execution_count": 274,
      "outputs": [
        {
          "output_type": "stream",
          "name": "stdout",
          "text": [
            "56 key-value pairs were sent over a network.\n"
          ]
        },
        {
          "output_type": "execute_result",
          "data": {
            "text/plain": [
              "[(0, [('', 6), ('banana', 2), ('is', 18)]),\n",
              " (1, [('a', 2), ('it', 18), ('what', 10)])]"
            ]
          },
          "metadata": {},
          "execution_count": 274
        }
      ]
    },
    {
      "cell_type": "markdown",
      "metadata": {
        "id": "gCJGx8IQ87xS"
      },
      "source": [
        "## TeraSort"
      ]
    },
    {
      "cell_type": "code",
      "metadata": {
        "id": "P2v8v1v_8_YR",
        "colab": {
          "base_uri": "https://localhost:8080/"
        },
        "outputId": "9acf30bb-2a01-4db3-8ac7-5bd030247ec6"
      },
      "source": [
        "import numpy as np\n",
        "\n",
        "input_values = np.random.rand(30)\n",
        "maps = 3\n",
        "reducers = 2\n",
        "min_value = 0.0\n",
        "max_value = 1.0\n",
        "\n",
        "def INPUTFORMAT():\n",
        "  global maps\n",
        "\n",
        "  def RECORDREADER(split):\n",
        "    for value in split:\n",
        "        yield (value, None)\n",
        "\n",
        "  split_size =  int(np.ceil(len(input_values)/maps))\n",
        "  for i in range(0, len(input_values), split_size):\n",
        "    yield RECORDREADER(input_values[i:i+split_size])\n",
        "\n",
        "def MAP(value:int, _):\n",
        "  yield (value, None)\n",
        "\n",
        "def PARTITIONER(key):\n",
        "  global reducers\n",
        "  global max_value\n",
        "  global min_value\n",
        "  bucket_size = (max_value-min_value)/reducers\n",
        "  bucket_id = 0\n",
        "  while((key>(bucket_id+1)*bucket_size) and ((bucket_id+1)*bucket_size<max_value)):\n",
        "    bucket_id += 1\n",
        "  return bucket_id\n",
        "\n",
        "def REDUCE(value:int, _):\n",
        "  yield (None,value)\n",
        "\n",
        "partitioned_output = MapReduceDistributed(INPUTFORMAT, MAP, REDUCE, COMBINER=None, PARTITIONER=PARTITIONER)\n",
        "partitioned_output = [(partition_id, list(partition)) for (partition_id, partition) in partitioned_output]\n",
        "partitioned_output"
      ],
      "execution_count": 275,
      "outputs": [
        {
          "output_type": "stream",
          "name": "stdout",
          "text": [
            "30 key-value pairs were sent over a network.\n"
          ]
        },
        {
          "output_type": "execute_result",
          "data": {
            "text/plain": [
              "[(0,\n",
              "  [(None, 0.03811908039622347),\n",
              "   (None, 0.09844276698811327),\n",
              "   (None, 0.12808151318675554),\n",
              "   (None, 0.13472699827629842),\n",
              "   (None, 0.1793609340498422),\n",
              "   (None, 0.19351475062696388),\n",
              "   (None, 0.21373810064841747),\n",
              "   (None, 0.2511235876302418),\n",
              "   (None, 0.25340396246782404),\n",
              "   (None, 0.2557372930023939),\n",
              "   (None, 0.26128664434470583),\n",
              "   (None, 0.2992171621324127),\n",
              "   (None, 0.31030604297858433),\n",
              "   (None, 0.3445486252662734),\n",
              "   (None, 0.35170435953060575),\n",
              "   (None, 0.3851197901992395),\n",
              "   (None, 0.4580485489418825),\n",
              "   (None, 0.4672499462932693)]),\n",
              " (1,\n",
              "  [(None, 0.534887201355016),\n",
              "   (None, 0.5389104331894736),\n",
              "   (None, 0.561903651045434),\n",
              "   (None, 0.5683899104447481),\n",
              "   (None, 0.5828852004562367),\n",
              "   (None, 0.6227616698444466),\n",
              "   (None, 0.6476466130773871),\n",
              "   (None, 0.6504297906177653),\n",
              "   (None, 0.664084749969569),\n",
              "   (None, 0.7504797975693598),\n",
              "   (None, 0.9310218295343683),\n",
              "   (None, 0.9339042328930829)])]"
            ]
          },
          "metadata": {},
          "execution_count": 275
        }
      ]
    },
    {
      "cell_type": "markdown",
      "metadata": {
        "id": "Iy65YJTH99iT"
      },
      "source": [
        "# Упражнения\n",
        "Упражнения взяты из Rajaraman A., Ullman J. D. Mining of massive datasets. – Cambridge University Press, 2011.\n",
        "\n",
        "\n",
        "Для выполнения заданий переопределите функции RECORDREADER, MAP, REDUCE. Для модели распределённой системы может потребоваться переопределение функций PARTITION и COMBINER."
      ]
    },
    {
      "cell_type": "markdown",
      "metadata": {
        "id": "cfvAeZm3S8S8"
      },
      "source": [
        "### Максимальное значение ряда\n",
        "\n",
        "Разработайте MapReduce алгоритм, который находит максимальное число входного списка чисел."
      ]
    },
    {
      "cell_type": "code",
      "metadata": {
        "id": "3GRA1JR-Tkbg",
        "colab": {
          "base_uri": "https://localhost:8080/"
        },
        "outputId": "13cf0317-5711-453b-8711-5d56ef1c0837"
      },
      "source": [
        "from typing import Iterator\n",
        "import numpy as np\n",
        "\n",
        "def RECORDREADER(size: int):\n",
        "    data = [(index, num) for (index, num) in enumerate(np.random.randint(1000, size=size))]\n",
        "    print(data)\n",
        "    return data\n",
        "\n",
        "def MAP(_, number):\n",
        "    yield (None, number)\n",
        "\n",
        "def REDUCE(_, numbers: Iterator[int]):\n",
        "    max_number = max(numbers)\n",
        "    yield max_number\n",
        "\n",
        "output = MapReduce(lambda: RECORDREADER(10), MAP, REDUCE)\n",
        "max_number = list(output)\n",
        "max_number"
      ],
      "execution_count": 276,
      "outputs": [
        {
          "output_type": "stream",
          "name": "stdout",
          "text": [
            "[(0, 50), (1, 790), (2, 191), (3, 924), (4, 262), (5, 696), (6, 322), (7, 191), (8, 622), (9, 160)]\n"
          ]
        },
        {
          "output_type": "execute_result",
          "data": {
            "text/plain": [
              "[924]"
            ]
          },
          "metadata": {},
          "execution_count": 276
        }
      ]
    },
    {
      "cell_type": "markdown",
      "metadata": {
        "id": "k86bXnqZTk-U"
      },
      "source": [
        "### Арифметическое среднее\n",
        "\n",
        "Разработайте MapReduce алгоритм, который находит арифметическое среднее.\n",
        "\n",
        "$$\\overline{X} = \\frac{1}{n}\\sum_{i=0}^{n} x_i$$\n"
      ]
    },
    {
      "cell_type": "code",
      "metadata": {
        "id": "MPoY5pkfUNZf",
        "colab": {
          "base_uri": "https://localhost:8080/"
        },
        "outputId": "6fb6fc80-b4a3-41cc-dc26-03280d6b9480"
      },
      "source": [
        "from typing import Iterator\n",
        "\n",
        "def RECORDREADER(size):\n",
        "    data = [(index, num) for (index, num) in enumerate(np.random.randint(1000, size=size))]\n",
        "    print(data)\n",
        "    return data\n",
        "\n",
        "def MAP(_, number):\n",
        "    yield (1, number)\n",
        "\n",
        "def REDUCE(_, numbers: Iterator[int]):\n",
        "    total_sum = 0\n",
        "    count = 0\n",
        "    for num in numbers:\n",
        "        total_sum += num\n",
        "        count += 1\n",
        "    if count > 0:\n",
        "        average = total_sum / count\n",
        "        yield average\n",
        "\n",
        "output = MapReduce(lambda: RECORDREADER(10), MAP, REDUCE)\n",
        "output = list(output)\n",
        "output"
      ],
      "execution_count": 277,
      "outputs": [
        {
          "output_type": "stream",
          "name": "stdout",
          "text": [
            "[(0, 551), (1, 163), (2, 948), (3, 392), (4, 823), (5, 236), (6, 390), (7, 432), (8, 172), (9, 996)]\n"
          ]
        },
        {
          "output_type": "execute_result",
          "data": {
            "text/plain": [
              "[510.3]"
            ]
          },
          "metadata": {},
          "execution_count": 277
        }
      ]
    },
    {
      "cell_type": "markdown",
      "metadata": {
        "id": "xanzszhsIlLe"
      },
      "source": [
        "### GroupByKey на основе сортировки\n",
        "\n",
        "Реализуйте groupByKey на основе сортировки, проверьте его работу на примерах"
      ]
    },
    {
      "cell_type": "code",
      "metadata": {
        "id": "hQPn3USsIkEC",
        "colab": {
          "base_uri": "https://localhost:8080/"
        },
        "outputId": "2dc9c2b7-9ca9-4960-d3ea-990cacd15b9e"
      },
      "source": [
        "def groupbykey_sorted(iterable):\n",
        "    # Сортируем входной итерируемый объект по первому элементу (ключу) каждого кортежа\n",
        "    sorted_iterable = sorted(iterable, key=lambda x: x[0])\n",
        "    result = []  # Создаем пустой список для хранения результирующих групп\n",
        "    current_key = None  # Инициализируем переменную для отслеживания текущего ключа\n",
        "    for key, value in sorted_iterable:  # Проходим по отсортированному списку\n",
        "        if key != current_key:  # Если текущий ключ отличается от предыдущего\n",
        "            if current_key is not None:  # Если это не первая итерация\n",
        "                result.append((current_key, sorted(current_group)))  # Добавляем группу значений в результат, предварительно отсортировав ее\n",
        "            current_key = key  # Обновляем текущий ключ\n",
        "            current_group = [value]  # Создаем новую группу значений\n",
        "        else:  # Если ключ совпадает с текущим\n",
        "            current_group.append(value)  # Добавляем значение в текущую группу\n",
        "    if current_key is not None:  # Если есть последняя группа значений\n",
        "        result.append((current_key, sorted(current_group)))  # Добавляем последнюю группу значений в результат, предварительно отсортировав ее\n",
        "    return result\n",
        "\n",
        "def MAP(key: int, value: int):\n",
        "    yield (1, value)\n",
        "\n",
        "def RECORDREADER():\n",
        "    numbers = [(index, num) for (index, num) in enumerate(np.random.randint(1000, size=10))]\n",
        "    print(numbers)\n",
        "    return numbers\n",
        "\n",
        "print(groupbykey_sorted(flatten(map(lambda x: MAP(*x), RECORDREADER()))))"
      ],
      "execution_count": 278,
      "outputs": [
        {
          "output_type": "stream",
          "name": "stdout",
          "text": [
            "[(0, 492), (1, 196), (2, 187), (3, 234), (4, 96), (5, 990), (6, 119), (7, 103), (8, 564), (9, 248)]\n",
            "[(1, [96, 103, 119, 187, 196, 234, 248, 492, 564, 990])]\n"
          ]
        }
      ]
    },
    {
      "cell_type": "markdown",
      "metadata": {
        "id": "5SgEjCZyGnu6"
      },
      "source": [
        "# Drop duplicates (set construction, unique elements, distinct)\n",
        "\n",
        "Реализуйте распределённую операцию исключения дубликатов"
      ]
    },
    {
      "cell_type": "code",
      "metadata": {
        "id": "okjbyApjGhMt",
        "colab": {
          "base_uri": "https://localhost:8080/"
        },
        "outputId": "b6352271-408b-40d7-b065-6df9f5eef41c"
      },
      "source": [
        "def RECORDREADER(size):\n",
        "    data = [(index, value) for (index, value) in enumerate(np.random.randint(10, size=size))]\n",
        "    print(data, '\\n')\n",
        "    return data\n",
        "\n",
        "def MAP(_, value):\n",
        "    yield (value, value)\n",
        "\n",
        "def REDUCE(key, _):\n",
        "    yield (key)\n",
        "\n",
        "output = MapReduce(lambda: RECORDREADER(10), MAP, REDUCE)\n",
        "output = list(output)\n",
        "print(output)"
      ],
      "execution_count": 279,
      "outputs": [
        {
          "output_type": "stream",
          "name": "stdout",
          "text": [
            "[(0, 1), (1, 0), (2, 0), (3, 6), (4, 5), (5, 4), (6, 0), (7, 4), (8, 0), (9, 8)] \n",
            "\n",
            "[1, 0, 6, 5, 4, 8]\n"
          ]
        }
      ]
    },
    {
      "cell_type": "markdown",
      "metadata": {
        "id": "e7sRGoTXuJze"
      },
      "source": [
        "#Операторы реляционной алгебры\n",
        "### Selection (Выборка)\n",
        "\n",
        "**The Map Function**: Для  каждого кортежа $t \\in R$ вычисляется истинность предиката $C$. В случае истины создаётся пара ключ-значение $(t, t)$. В паре ключ и значение одинаковы, равны $t$.\n",
        "\n",
        "**The Reduce Function:** Роль функции Reduce выполняет функция идентичности, которая возвращает то же значение, что получила на вход.\n",
        "\n"
      ]
    },
    {
      "cell_type": "code",
      "metadata": {
        "colab": {
          "base_uri": "https://localhost:8080/"
        },
        "outputId": "96c35708-8212-46db-9b41-b0d761fd8289",
        "id": "SIw_mNduwPFK"
      },
      "source": [
        "db_data = [\n",
        "    {'id': 1, 'name': 'John', 'age': 25},\n",
        "    {'id': 2, 'name': 'Alice', 'age': 25},\n",
        "    {'id': 3, 'name': 'Bob', 'age': 35}\n",
        "]\n",
        "\n",
        "def RECORDREADER():\n",
        "    for record in db_data:\n",
        "        yield (record['id'], record)  # Используем 'id' в качестве ключа, предполагая, что это уникальный и хешируемый идентификатор\n",
        "\n",
        "def MAP(_, record):\n",
        "    if record['age'] == 25:  # Проверяем значение атрибута 'age'\n",
        "        yield (record['id'], record)  # Возвращаем кортеж, удовлетворяющий условию\n",
        "\n",
        "def REDUCE(key, tuples):\n",
        "    for record in tuples:\n",
        "        yield record  # Возвращаем только записи, удовлетворяющие условию\n",
        "\n",
        "output = MapReduce(RECORDREADER, MAP, REDUCE)\n",
        "\n",
        "selected_values = list(output)\n",
        "print(selected_values)"
      ],
      "execution_count": 280,
      "outputs": [
        {
          "output_type": "stream",
          "name": "stdout",
          "text": [
            "[{'id': 1, 'name': 'John', 'age': 25}, {'id': 2, 'name': 'Alice', 'age': 25}]\n"
          ]
        }
      ]
    },
    {
      "cell_type": "markdown",
      "source": [
        "Со вложенными кортежами"
      ],
      "metadata": {
        "id": "GWqZlpLNmSCc"
      }
    },
    {
      "cell_type": "code",
      "source": [
        "from typing import NamedTuple\n",
        "\n",
        "class Record(NamedTuple):\n",
        "    id: int\n",
        "    name: str\n",
        "    age: int\n",
        "\n",
        "def RECORDREADER():\n",
        "    for record in db_data:\n",
        "        yield (record.id, record)  # Каждая запись представляется парой (id, record)\n",
        "\n",
        "def MAP(_, record):\n",
        "    if record.age == 25:  # Проверяем значение атрибута 'name'\n",
        "        yield record, record  # Возвращаем кортеж с ключом None и значением - именованным кортежем Record\n",
        "\n",
        "db_data = [\n",
        "    Record(id = 1, name = 'John', age = 25),\n",
        "    Record(id = 2, name = 'Alice', age = 25),\n",
        "    Record(id = 3, name = 'Bob', age = 35)\n",
        "]\n",
        "\n",
        "output = MapReduce(RECORDREADER, MAP, REDUCE)\n",
        "\n",
        "selected_values = [tuple(record) for record in output]\n",
        "selected_values"
      ],
      "metadata": {
        "colab": {
          "base_uri": "https://localhost:8080/"
        },
        "id": "2f-qzF8U56yB",
        "outputId": "73b998e4-905a-4293-afb5-506393d919f0"
      },
      "execution_count": 281,
      "outputs": [
        {
          "output_type": "execute_result",
          "data": {
            "text/plain": [
              "[(1, 'John', 25), (2, 'Alice', 25)]"
            ]
          },
          "metadata": {},
          "execution_count": 281
        }
      ]
    },
    {
      "cell_type": "markdown",
      "metadata": {
        "id": "w27Ca-_Ku85V"
      },
      "source": [
        "### Projection (Проекция)\n",
        "\n",
        "Проекция на множество атрибутов $S$.\n",
        "\n",
        "**The Map Function:** Для каждого кортежа $t \\in R$ создайте кортеж $t′$, исключая  из $t$ те значения, атрибуты которых не принадлежат  $S$. Верните пару $(t′, t′)$.\n",
        "\n",
        "**The Reduce Function:** Для каждого ключа $t′$, созданного любой Map задачей, вы получаете одну или несколько пар $(t′, t′)$. Reduce функция преобразует $(t′, [t′, t′, . . . , t′])$ в $(t′, t′)$, так, что для ключа $t′$ возвращается одна пара  $(t′, t′)$."
      ]
    },
    {
      "cell_type": "code",
      "metadata": {
        "id": "BEvuY4GqvhS6",
        "colab": {
          "base_uri": "https://localhost:8080/"
        },
        "outputId": "29854060-56da-4333-91ed-9d6c4d38a29d"
      },
      "source": [
        "# Пример данных, аналогичных записям в базе данных\n",
        "db_data = [\n",
        "    {'id': 1, 'name': 'John', 'age': 25},\n",
        "    {'id': 2, 'name': 'Alice', 'age': 25},\n",
        "    {'id': 3, 'name': 'Bob', 'age': 35}\n",
        "]\n",
        "\n",
        "def MAP(_, record):\n",
        "    attributes_to_keep = ['id', 'name']  # Имена атрибутов, которые мы хотим оставить\n",
        "    projected_record = tuple(record[attr] for attr in attributes_to_keep)\n",
        "    yield (record['id'], projected_record)  # Используем id в качестве ключа\n",
        "\n",
        "def REDUCE(key, records):\n",
        "    yield records[0]  # Возвращаем первый кортеж из списка кортежей с одинаковым ключом\n",
        "\n",
        "def RECORDREADER():\n",
        "    for record in db_data:\n",
        "        yield (record['id'], record)  # Каждая запись представляется парой (id, record)\n",
        "\n",
        "output = MapReduce(RECORDREADER, MAP, REDUCE)\n",
        "\n",
        "selected_values = list(output)\n",
        "selected_values"
      ],
      "execution_count": 282,
      "outputs": [
        {
          "output_type": "execute_result",
          "data": {
            "text/plain": [
              "[(1, 'John'), (2, 'Alice'), (3, 'Bob')]"
            ]
          },
          "metadata": {},
          "execution_count": 282
        }
      ]
    },
    {
      "cell_type": "code",
      "source": [
        "from typing import NamedTuple\n",
        "\n",
        "class Record(NamedTuple):\n",
        "    id: int\n",
        "    name: str\n",
        "    age: int\n",
        "\n",
        "db_data = [\n",
        "    Record(id=1, name='John', age=25),\n",
        "    Record(id=2, name='Alice', age=25),\n",
        "    Record(id=3, name='Bob', age=35)\n",
        "]\n",
        "\n",
        "def RECORDREADER():\n",
        "    for record in db_data:\n",
        "        yield (record.id, record)  # Каждая запись представляется парой (None, record)\n",
        "\n",
        "def MAP(_, record):\n",
        "    projected_record = (record.id, record.age)  # Изменяем формат проецируемого кортежа\n",
        "    yield (record.id, projected_record)  # Используем id в качестве ключа\n",
        "\n",
        "def REDUCE(key, records):\n",
        "    for _, projected_record in records:\n",
        "        yield projected_record  # Возвращаем проекции из каждой группы\n",
        "\n",
        "output = MapReduce(RECORDREADER, MAP, REDUCE)\n",
        "\n",
        "selected_values = list(output)\n",
        "selected_values"
      ],
      "metadata": {
        "colab": {
          "base_uri": "https://localhost:8080/"
        },
        "id": "4CWSZzTp_OxR",
        "outputId": "4112e90d-b330-45ee-97ee-db4534eb59a5"
      },
      "execution_count": 290,
      "outputs": [
        {
          "output_type": "execute_result",
          "data": {
            "text/plain": [
              "[25, 25, 35]"
            ]
          },
          "metadata": {},
          "execution_count": 290
        }
      ]
    },
    {
      "cell_type": "code",
      "source": [
        "from typing import NamedTuple\n",
        "from collections import defaultdict\n",
        "\n",
        "# Определение именованного кортежа для представления записей в базе данных\n",
        "class Record(NamedTuple):\n",
        "    id: int\n",
        "    name: str\n",
        "    age: int\n",
        "\n",
        "# Пример данных, аналогичных записям в базе данных\n",
        "db_data = [\n",
        "    Record(id=1, name='John', age=25),\n",
        "    Record(id=2, name='Alice', age=25),\n",
        "    Record(id=3, name='Bob', age=35)\n",
        "]\n",
        "\n",
        "def MAP(_, record):\n",
        "    yield (record.id, record.name)  # Возвращаем id, name и age\n",
        "\n",
        "def REDUCE(key, records):\n",
        "    yield (key, records[0])  # Возвращаем первое значение для каждого ключа\n",
        "\n",
        "def RECORDREADER():\n",
        "    for record in db_data:\n",
        "        yield record.id, record  # Возвращаем идентификатор и запись\n",
        "\n",
        "output = MapReduce(RECORDREADER, MAP, REDUCE)\n",
        "\n",
        "selected_values = list(output)\n",
        "selected_values"
      ],
      "metadata": {
        "colab": {
          "base_uri": "https://localhost:8080/"
        },
        "id": "dWAvMBHdMYw1",
        "outputId": "3c8bba69-a603-4ebf-efb7-4c2a5f85a1e9"
      },
      "execution_count": 289,
      "outputs": [
        {
          "output_type": "execute_result",
          "data": {
            "text/plain": [
              "[(1, 'John'), (2, 'Alice'), (3, 'Bob')]"
            ]
          },
          "metadata": {},
          "execution_count": 289
        }
      ]
    },
    {
      "cell_type": "markdown",
      "metadata": {
        "id": "7gau6lKXvn2R"
      },
      "source": [
        "### Union (Объединение)\n",
        "\n",
        "**The Map Function:** Превратите каждый входной кортеж $t$ в пару ключ-значение $(t, t)$.\n",
        "\n",
        "**The Reduce Function:** С каждым ключом $t$ будет ассоциировано одно или два значений. В обоих случаях создайте $(t, t)$ в качестве выходного значения."
      ]
    },
    {
      "cell_type": "code",
      "metadata": {
        "id": "Sns7a5agv3nw",
        "colab": {
          "base_uri": "https://localhost:8080/"
        },
        "outputId": "5eacb80a-43af-4b96-cde6-b96500ecc5ec"
      },
      "source": [
        "def RECORDREADER():\n",
        "    for record in table_R + table_S:\n",
        "        yield (None, record)  # Превращаем каждую запись в пару (None, record)\n",
        "\n",
        "def MAP(_, record):\n",
        "    yield (record, record)  # Превращаем каждую запись в пару ключ-значение (t, t)\n",
        "\n",
        "def REDUCE(key, values):\n",
        "    for value in set(values):\n",
        "        yield (value)\n",
        "\n",
        "table_R = [\n",
        "    (1, 'John'),\n",
        "    (2, 'Alice'),\n",
        "    (5, 'Bob')\n",
        "]\n",
        "\n",
        "table_S = [\n",
        "    (1, 'John'),\n",
        "    (4, 'Los Angeles'),\n",
        "    (6, 'Chicago')\n",
        "]\n",
        "\n",
        "# Выполнение операции MapReduce\n",
        "output = MapReduce(RECORDREADER, MAP, REDUCE)\n",
        "\n",
        "result = list(output)\n",
        "\n",
        "result"
      ],
      "execution_count": 285,
      "outputs": [
        {
          "output_type": "execute_result",
          "data": {
            "text/plain": [
              "[(1, 'John'), (2, 'Alice'), (5, 'Bob'), (4, 'Los Angeles'), (6, 'Chicago')]"
            ]
          },
          "metadata": {},
          "execution_count": 285
        }
      ]
    },
    {
      "cell_type": "code",
      "source": [
        "# Пример данных для таблиц R и S\n",
        "table_R = [\n",
        "    (1, 'John'),\n",
        "    (2, 'Alice'),\n",
        "    (5, 'Bob')\n",
        "]\n",
        "\n",
        "table_S = [\n",
        "    (1, 'John'),\n",
        "    (4, 'Los Angeles'),\n",
        "    (6, 'Chicago')\n",
        "]\n",
        "\n",
        "def RECORDREADER():\n",
        "    for record in table_R + table_S:\n",
        "        yield (None, record)  # Каждая запись представляется парой (None, record)\n",
        "\n",
        "def MAP(_, record):\n",
        "    yield (record, record)  # Просто возвращаем каждую запись как пару ключ-значение\n",
        "\n",
        "def REDUCE(key, values):\n",
        "    unique_values = set()  # Создаем множество для хранения уникальных значений\n",
        "    for value in values:\n",
        "        # Если значение уже есть в множестве, пропускаем его\n",
        "        if value[1] in unique_values:\n",
        "            continue\n",
        "        unique_values.add(value[1])  # Добавляем значение в множество\n",
        "        yield value  # Возвращаем уникальное значение\n",
        "\n",
        "output = MapReduce(RECORDREADER, MAP, REDUCE)\n",
        "\n",
        "result = list(output)\n",
        "\n",
        "result"
      ],
      "metadata": {
        "colab": {
          "base_uri": "https://localhost:8080/"
        },
        "id": "GjgZIHeVoJD1",
        "outputId": "43412c6c-dfce-45d0-f53c-28ab20eeac71"
      },
      "execution_count": 286,
      "outputs": [
        {
          "output_type": "execute_result",
          "data": {
            "text/plain": [
              "[(1, 'John'), (2, 'Alice'), (5, 'Bob'), (4, 'Los Angeles'), (6, 'Chicago')]"
            ]
          },
          "metadata": {},
          "execution_count": 286
        }
      ]
    },
    {
      "cell_type": "markdown",
      "source": [
        "Со вложенными классами"
      ],
      "metadata": {
        "id": "o8v2X0f9d9BV"
      }
    },
    {
      "cell_type": "code",
      "source": [
        "from typing import NamedTuple\n",
        "\n",
        "class Record(NamedTuple):\n",
        "    id: int\n",
        "    name: str\n",
        "    age: int\n",
        "\n",
        "def RECORDREADER():\n",
        "    for record in table_R + table_S:\n",
        "        yield (None, record)\n",
        "\n",
        "def MAP(_, record):\n",
        "    yield (record, record)\n",
        "\n",
        "def REDUCE(key, values):\n",
        "    for value in set(values):\n",
        "        yield (value)\n",
        "\n",
        "table_R = [\n",
        "    Record(id=1, name='John', age=20),\n",
        "    Record(id=2, name='Alice', age=25),\n",
        "    Record(id=3, name='Bob', age=30)\n",
        "]\n",
        "\n",
        "table_S = [\n",
        "    Record(id=4, name='Charlie', age=22),\n",
        "    Record(id=5, name='David', age=27),\n",
        "    Record(id=6, name='Emma', age=32)\n",
        "]\n",
        "\n",
        "output = MapReduce(RECORDREADER, MAP, REDUCE)\n",
        "result = list(output)\n",
        "\n",
        "# Преобразование результатов к нужному формату\n",
        "result = [tuple(record) for record in result]\n",
        "\n",
        "# Вывод результата\n",
        "result"
      ],
      "metadata": {
        "colab": {
          "base_uri": "https://localhost:8080/"
        },
        "id": "znetiTjqdusO",
        "outputId": "da0db2d8-3fec-4d4e-8b3b-4c8f785aff12"
      },
      "execution_count": 287,
      "outputs": [
        {
          "output_type": "execute_result",
          "data": {
            "text/plain": [
              "[(1, 'John', 20),\n",
              " (2, 'Alice', 25),\n",
              " (3, 'Bob', 30),\n",
              " (4, 'Charlie', 22),\n",
              " (5, 'David', 27),\n",
              " (6, 'Emma', 32)]"
            ]
          },
          "metadata": {},
          "execution_count": 287
        }
      ]
    },
    {
      "cell_type": "markdown",
      "metadata": {
        "id": "dQ8TuEbjv4J8"
      },
      "source": [
        "### Intersection (Пересечение)\n",
        "\n",
        "**The Map Function:** Превратите каждый кортеж $t$ в пары ключ-значение $(t, t)$.\n",
        "\n",
        "**The Reduce Function:** Если для ключа $t$ есть список из двух элементов $[t, t]$ $-$ создайте пару $(t, t)$. Иначе, ничего не создавайте."
      ]
    },
    {
      "cell_type": "code",
      "metadata": {
        "id": "XKlBZh4IwERR",
        "colab": {
          "base_uri": "https://localhost:8080/"
        },
        "outputId": "913dbff5-ca1a-4834-8234-6fddbbcfe112"
      },
      "source": [
        "def RECORDREADER():\n",
        "    for record in table_R + table_S:\n",
        "        yield (None, record)  # Каждая запись представляется парой (None, record)\n",
        "\n",
        "def MAP(_, record):\n",
        "    # Отправляем каждый кортеж в виде пары ключ-значение, где сам кортеж выступает и ключом, и значением\n",
        "    yield (record[1:], record)\n",
        "\n",
        "def REDUCE(key, values):\n",
        "    # Проверяем, есть ли две записи с совпадающими атрибутами, кроме идентификатора\n",
        "    if len(values) == 2 and values[0][1:] == values[1][1:]:\n",
        "        # Если такие записи существуют, отправляем одну из них в качестве результата\n",
        "        yield (values[0])\n",
        "\n",
        "table_R = [\n",
        "    (1, 'John'),\n",
        "    (2, 'Alice'),\n",
        "    (3, 'Bob')\n",
        "]\n",
        "\n",
        "table_S = [\n",
        "    (12, 'Alice'),\n",
        "    (3, 'Bob'),\n",
        "    (4, 'Charlie')\n",
        "]\n",
        "\n",
        "output = MapReduce(RECORDREADER, MAP, REDUCE)\n",
        "\n",
        "result = list(output)\n",
        "\n",
        "result"
      ],
      "execution_count": 288,
      "outputs": [
        {
          "output_type": "execute_result",
          "data": {
            "text/plain": [
              "[(2, 'Alice'), (3, 'Bob')]"
            ]
          },
          "metadata": {},
          "execution_count": 288
        }
      ]
    },
    {
      "cell_type": "markdown",
      "source": [
        "Со вложенными кортежами"
      ],
      "metadata": {
        "id": "lZ7OFynKhA04"
      }
    },
    {
      "cell_type": "code",
      "source": [
        "from typing import NamedTuple\n",
        "\n",
        "class Record(NamedTuple):\n",
        "    id: int\n",
        "    name: str\n",
        "    age: int\n",
        "\n",
        "def RECORDREADER():\n",
        "    for record in table_R + table_S:\n",
        "        yield (None, Record(id=record[0], name=record[1], age=record[2]))  # Каждая запись представляется парой (None, Record)\n",
        "\n",
        "def MAP(_, record):\n",
        "    yield ((record.name, record.age), record)\n",
        "\n",
        "def REDUCE(key, values):\n",
        "    if len(values) == 2 and values[0][1:] == values[1][1:]:\n",
        "        yield (values[0][1:])\n",
        "\n",
        "table_R = [\n",
        "    Record(id=1, name='John', age=25),\n",
        "    Record(id=2, name='Alice', age=30),\n",
        "    Record(id=3, name='Bob', age=35)\n",
        "]\n",
        "\n",
        "table_S = [\n",
        "    Record(id=12, name='Alice', age=10),\n",
        "    Record(id=3, name='Bob', age=35),\n",
        "    Record(id=4, name='Charlie', age=40)\n",
        "]\n",
        "\n",
        "output = MapReduce(RECORDREADER, MAP, REDUCE)\n",
        "\n",
        "result = list(output)\n",
        "\n",
        "result"
      ],
      "metadata": {
        "colab": {
          "base_uri": "https://localhost:8080/"
        },
        "id": "1MHF8JLzhAaO",
        "outputId": "e857c51b-0cf6-40e7-b22e-2a71e3985275"
      },
      "execution_count": 294,
      "outputs": [
        {
          "output_type": "execute_result",
          "data": {
            "text/plain": [
              "[('Bob', 35)]"
            ]
          },
          "metadata": {},
          "execution_count": 294
        }
      ]
    },
    {
      "cell_type": "markdown",
      "metadata": {
        "id": "AVOpqoY3wE5k"
      },
      "source": [
        "### Difference (Разница)\n",
        "\n",
        "**The Map Function:** Для кортежа $t \\in R$, создайте пару $(t, R)$, и для кортежа $t \\in S$, создайте пару $(t, S)$. Задумка заключается в том, чтобы значение пары было именем отношения $R$ or $S$, которому принадлежит кортеж (а лучше, единичный бит, по которому можно два отношения различить $R$ or $S$), а не весь набор атрибутов отношения.\n",
        "\n",
        "**The Reduce Function:** Для каждого ключа $t$, если соответствующее значение является списком $[R]$, создайте пару $(t, t)$. В иных случаях не предпринимайте действий."
      ]
    },
    {
      "cell_type": "code",
      "metadata": {
        "id": "QE_AC09lwZIZ",
        "colab": {
          "base_uri": "https://localhost:8080/"
        },
        "outputId": "56b1c689-0aa4-43f6-f5da-54415991704a"
      },
      "source": [
        "# Функция Map\n",
        "def MAP(_, record):\n",
        "    # Создаем пару (t, R) для кортежей из R и пару (t, S) для кортежей из S\n",
        "    if record[1] == 'R':\n",
        "        yield (record[0], 'R')\n",
        "    elif record[1] == 'S':\n",
        "        yield (record[0], 'S')\n",
        "\n",
        "# Функция Reduce\n",
        "def REDUCE(key, values):\n",
        "    # Если значение соответствует только одному отношению, создаем пару (t, t)\n",
        "    if len(values) == 1:\n",
        "        yield (key)\n",
        "\n",
        "# Функция RECORDREADER\n",
        "def RECORDREADER():\n",
        "    # Создаем пару (None, (record, 'R')) для каждой записи из таблицы R\n",
        "    for record in table_R:\n",
        "        yield (None, (record, 'R'))\n",
        "\n",
        "    # Создаем пару (None, (record, 'S')) для каждой записи из таблицы S\n",
        "    for record in table_S:\n",
        "        yield (None, (record, 'S'))\n",
        "\n",
        "# Пример данных для таблиц R и S\n",
        "table_R = [\n",
        "    (1, 'John'),\n",
        "    (2, 'Alice'),\n",
        "    (3, 'Bob')\n",
        "]\n",
        "\n",
        "table_S = [\n",
        "    (2, 'Alice'),\n",
        "    (3, 'Bob'),\n",
        "    (4, 'Charlie')\n",
        "]\n",
        "\n",
        "# Выполняем операцию MapReduce\n",
        "output = MapReduce(RECORDREADER, MAP, REDUCE)\n",
        "\n",
        "# Получаем результат операции разницы\n",
        "result = list(output)\n",
        "\n",
        "# Выводим результат\n",
        "result"
      ],
      "execution_count": 215,
      "outputs": [
        {
          "output_type": "execute_result",
          "data": {
            "text/plain": [
              "[(1, 'John'), (4, 'Charlie')]"
            ]
          },
          "metadata": {},
          "execution_count": 215
        }
      ]
    },
    {
      "cell_type": "markdown",
      "source": [
        "Со вложенными кортежами"
      ],
      "metadata": {
        "id": "u8E_i-C-L73Z"
      }
    },
    {
      "cell_type": "code",
      "source": [
        "from typing import NamedTuple\n",
        "\n",
        "class Record(NamedTuple):\n",
        "    id: int\n",
        "    name: str\n",
        "\n",
        "def MAP(_, record):\n",
        "    # Создаем пару (name, R) для кортежей из R и пару (name, S) для кортежей из S\n",
        "    if record[1] == 'R':\n",
        "        yield (record[0].name, 'R')\n",
        "    elif record[1] == 'S':\n",
        "        yield (record[0].name, 'S')\n",
        "\n",
        "def REDUCE(key, values):\n",
        "    # Если значение соответствует только одному отношению, создаем пару (name, name)\n",
        "    if len(values) == 1:\n",
        "        yield (key)\n",
        "\n",
        "def RECORDREADER():\n",
        "    # Создаем пару (None, (record, 'R')) для каждой записи из таблицы R\n",
        "    for record in table_R:\n",
        "        yield (None, (record, 'R'))\n",
        "\n",
        "    # Создаем пару (None, (record, 'S')) для каждой записи из таблицы S\n",
        "    for record in table_S:\n",
        "        yield (None, (record, 'S'))\n",
        "\n",
        "# Пример данных для таблиц R и S\n",
        "table_R = [\n",
        "    Record(id=1, name='John'),\n",
        "    Record(id=2, name='Alice'),\n",
        "    Record(id=3, name='Bob')\n",
        "]\n",
        "\n",
        "table_S = [\n",
        "    Record(id=12, name='Alice'),\n",
        "    Record(id=3, name='Bob'),\n",
        "    Record(id=4, name='Charlie')\n",
        "]\n",
        "\n",
        "# Выполняем операцию MapReduce\n",
        "output = MapReduce(RECORDREADER, MAP, REDUCE)\n",
        "\n",
        "# Получаем результат операции разницы\n",
        "result = list(output)\n",
        "\n",
        "# Выводим результат\n",
        "print(result)"
      ],
      "metadata": {
        "colab": {
          "base_uri": "https://localhost:8080/"
        },
        "id": "6tRUfbc_L_Xn",
        "outputId": "c3131521-2e85-41fc-d2e4-ed5e0598677b"
      },
      "execution_count": 216,
      "outputs": [
        {
          "output_type": "stream",
          "name": "stdout",
          "text": [
            "['John', 'Charlie']\n"
          ]
        }
      ]
    },
    {
      "cell_type": "markdown",
      "metadata": {
        "id": "j8I58V2VwhSm"
      },
      "source": [
        "### Natural Join\n",
        "\n",
        "**The Map Function:** Для каждого кортежа $(a, b)$ отношения $R$, создайте пару $(b,(R, a))$. Для каждого кортежа $(b, c)$ отношения $S$, создайте пару $(b,(S, c))$.\n",
        "\n",
        "**The Reduce Function:** Каждый ключ $b$ будет асоциирован со списком пар, которые принимают форму либо $(R, a)$, либо $(S, c)$. Создайте все пары, одни, состоящие из  первого компонента $R$, а другие, из первого компонента $S$, то есть $(R, a)$ и $(S, c)$. На выходе вы получаете последовательность пар ключ-значение из списков ключей и значений. Ключ не нужен. Каждое значение, это тройка $(a, b, c)$ такая, что $(R, a)$ и $(S, c)$ это принадлежат входному списку значений."
      ]
    },
    {
      "cell_type": "code",
      "source": [
        "def MAP(_, record):\n",
        "    record_id = record['id']\n",
        "    if 'name' in record:\n",
        "        yield (record_id, ('R', record))  # Отправка пары ключ-значение с именем таблицы 'R'\n",
        "    elif 'city' in record:\n",
        "        yield (record_id, ('S', record))  # Отправка пары ключ-значение с именем таблицы 'S'\n",
        "\n",
        "def REDUCE(key, values):\n",
        "    records_R = [record for table, record in values if table == 'R']  # Получение записей из таблицы R\n",
        "    records_S = [record for table, record in values if table == 'S']  # Получение записей из таблицы S\n",
        "    for record_R in records_R:\n",
        "        for record_S in records_S:\n",
        "            yield (record_R | record_S)  # Отправка объединенных записей как естественное объединение\n",
        "\n",
        "table_R = [\n",
        "    {'id': 1, 'name': 'John', 'age': 30},\n",
        "    {'id': 2, 'name': 'Alice', 'age': 25},\n",
        "    {'id': 3, 'name': 'Bob', 'age': 35}\n",
        "]\n",
        "\n",
        "table_S = [\n",
        "    {'id': 1, 'city': 'New York'},\n",
        "    {'id': 2, 'city': 'Los Angeles'},\n",
        "    {'id': 4, 'city': 'Chicago'}\n",
        "]\n",
        "\n",
        "combined_data = table_R + table_S\n",
        "\n",
        "output = MapReduce(lambda: [(None, record) for record in combined_data], MAP, REDUCE)\n",
        "\n",
        "result = list(output)\n",
        "\n",
        "result"
      ],
      "metadata": {
        "colab": {
          "base_uri": "https://localhost:8080/"
        },
        "id": "fkdy9qDkk-BH",
        "outputId": "f90b0496-8f89-4617-875d-7b4f65525ce6"
      },
      "execution_count": 293,
      "outputs": [
        {
          "output_type": "execute_result",
          "data": {
            "text/plain": [
              "[{'id': 1, 'name': 'John', 'age': 30, 'city': 'New York'},\n",
              " {'id': 2, 'name': 'Alice', 'age': 25, 'city': 'Los Angeles'}]"
            ]
          },
          "metadata": {},
          "execution_count": 293
        }
      ]
    },
    {
      "cell_type": "code",
      "source": [
        "def MAP(_, record):\n",
        "    record_id = record[0]  # Извлечение идентификатора из кортежа записи\n",
        "    if len(record) == 3:  # Проверка, является ли запись из таблицы R\n",
        "        yield (record_id, ('R', record))  # Отправка пары ключ-значение с именем таблицы 'R'\n",
        "    elif len(record) == 2:  # Проверка, является ли запись из таблицы S\n",
        "        yield (record_id, ('S', record))  # Отправка пары ключ-значение с именем таблицы 'S'\n",
        "\n",
        "def REDUCE(key, values):\n",
        "    records_R = [record for table, record in values if table == 'R']  # Получение записей из таблицы R\n",
        "    records_S = [record for table, record in values if table == 'S']  # Получение записей из таблицы S\n",
        "    for record_R in records_R:\n",
        "        for record_S in records_S:\n",
        "            yield (record_R + record_S[1:])  # Отправка объединенных записей как естественное объединение\n",
        "\n",
        "def RECORDREADER():\n",
        "    # Передача записей из таблицы R\n",
        "    for record in table_R:\n",
        "        yield (None, record)\n",
        "\n",
        "    # Передача записей из таблицы S\n",
        "    for record in table_S:\n",
        "        yield (None, record)\n",
        "\n",
        "table_R = [\n",
        "    (1, 'John', 30),\n",
        "    (2, 'Alice', 25),\n",
        "    (3, 'Bob', 35)\n",
        "]\n",
        "\n",
        "table_S = [\n",
        "    (1, 'New York'),\n",
        "    (2, 'Los Angeles'),\n",
        "    (4, 'Chicago')\n",
        "]\n",
        "\n",
        "output = MapReduce(RECORDREADER, MAP, REDUCE)\n",
        "\n",
        "result = list(output)\n",
        "\n",
        "result"
      ],
      "metadata": {
        "colab": {
          "base_uri": "https://localhost:8080/"
        },
        "id": "j-mbbvdnwDKM",
        "outputId": "4ffc931a-d044-493d-f310-3816f48583e4"
      },
      "execution_count": 292,
      "outputs": [
        {
          "output_type": "execute_result",
          "data": {
            "text/plain": [
              "[(1, 'John', 30, 'New York'), (2, 'Alice', 25, 'Los Angeles')]"
            ]
          },
          "metadata": {},
          "execution_count": 292
        }
      ]
    },
    {
      "cell_type": "markdown",
      "source": [
        "Со вложенными кортежами"
      ],
      "metadata": {
        "id": "84WGCc4DpZYa"
      }
    },
    {
      "cell_type": "code",
      "source": [
        "from typing import NamedTuple\n",
        "\n",
        "class RecordR(NamedTuple):\n",
        "    id: int\n",
        "    name: str\n",
        "    age: int\n",
        "\n",
        "class RecordS(NamedTuple):\n",
        "    id: int\n",
        "    city: str\n",
        "\n",
        "def MAP(_, record):\n",
        "    record_id = record[0]  # Извлечение идентификатора из кортежа записи\n",
        "    if len(record) == 3:  # Проверка, является ли запись из таблицы R\n",
        "        yield (record_id, ('R', record))  # Отправка пары ключ-значение с именем таблицы 'R'\n",
        "    elif len(record) == 2:  # Проверка, является ли запись из таблицы S\n",
        "        yield (record_id, ('S', record))  # Отправка пары ключ-значение с именем таблицы 'S'\n",
        "\n",
        "def REDUCE(key, values):\n",
        "    records_R = [record for table, record in values if table == 'R']  # Получение записей из таблицы R\n",
        "    records_S = [record for table, record in values if table == 'S']  # Получение записей из таблицы S\n",
        "    for record_R in records_R:\n",
        "        for record_S in records_S:\n",
        "            yield (record_R + record_S[1:])  # Отправка объединенных записей как естественное объединение\n",
        "\n",
        "def RECORDREADER():\n",
        "    # Передача записей из таблицы R\n",
        "    for record in table_R:\n",
        "        yield (None, record)\n",
        "\n",
        "    # Передача записей из таблицы S\n",
        "    for record in table_S:\n",
        "        yield (None, record)\n",
        "\n",
        "table_R = [\n",
        "    RecordR(id=1, name='John', age=30),\n",
        "    RecordR(id=2, name='Alice', age=25),\n",
        "    RecordR(id=3, name='Bob', age=35)\n",
        "]\n",
        "\n",
        "table_S = [\n",
        "    RecordS(id=1, city='New York'),\n",
        "    RecordS(id=2, city='Los Angeles'),\n",
        "    RecordS(id=4, city='Chicago')\n",
        "]\n",
        "\n",
        "output = MapReduce(RECORDREADER, MAP, REDUCE)\n",
        "result = list(output)\n",
        "\n",
        "result"
      ],
      "metadata": {
        "id": "qJCoobRZmkbo",
        "colab": {
          "base_uri": "https://localhost:8080/"
        },
        "outputId": "bef9254a-7e2a-45a6-c327-87bc88c5ebd4"
      },
      "execution_count": 291,
      "outputs": [
        {
          "output_type": "execute_result",
          "data": {
            "text/plain": [
              "[(1, 'John', 30, 'New York'), (2, 'Alice', 25, 'Los Angeles')]"
            ]
          },
          "metadata": {},
          "execution_count": 291
        }
      ]
    },
    {
      "cell_type": "markdown",
      "metadata": {
        "id": "kYdlr0YUxE27"
      },
      "source": [
        "### Grouping and Aggregation (Группировка и аггрегация)\n",
        "\n",
        "**The Map Function:** Для каждого кортежа $(a, b, c$) создайте пару $(a, b)$.\n",
        "\n",
        "**The Reduce Function:** Ключ представляет ту или иную группу. Примение аггрегирующую операцию $\\theta$ к списку значений $[b1, b2, . . . , bn]$ ассоциированных с ключом $a$. Возвращайте в выходной поток $(a, x)$, где $x$ результат применения  $\\theta$ к списку. Например, если $\\theta$ это $SUM$, тогда $x = b1 + b2 + · · · + bn$, а если $\\theta$ is $MAX$, тогда $x$ это максимальное из значений $b1, b2, . . . , bn$."
      ]
    },
    {
      "cell_type": "code",
      "source": [
        "# Функция Map\n",
        "def MAP(record):\n",
        "    # Создаем пару (a, b) для каждого кортежа (a, b, c)\n",
        "    a, b, _ = record\n",
        "    yield (a, b)\n",
        "\n",
        "# Функция Reduce\n",
        "def REDUCE(key, values):\n",
        "    # Извлекаем числовые значения из кортежей\n",
        "    numeric_values = [value for value in values if isinstance(value, int)]\n",
        "    # Применяем операцию суммирования к числовым значениям\n",
        "    result = sum(numeric_values)\n",
        "    # Возвращаем пару (a, x), где x - результат агрегации\n",
        "    yield (key, result)\n",
        "\n",
        "# Функция RECORDREADER\n",
        "def RECORDREADER():\n",
        "    # Перебираем все записи из примера данных\n",
        "    for record in data:\n",
        "        yield (record,)\n",
        "\n",
        "# Пример данных для операции\n",
        "data = [\n",
        "    (1, 10, 20),\n",
        "    (2, 15, 25),\n",
        "    (1, 5, 30),\n",
        "    (2, 20, 35)\n",
        "]\n",
        "\n",
        "# Выполняем операцию MapReduce\n",
        "output = MapReduce(RECORDREADER, MAP, REDUCE)\n",
        "\n",
        "# Получаем результат операции группировки и агрегации\n",
        "result = list(output)\n",
        "\n",
        "# Выводим результат\n",
        "print(result)"
      ],
      "metadata": {
        "colab": {
          "base_uri": "https://localhost:8080/"
        },
        "id": "Kk7F7aau3vyo",
        "outputId": "9e754c8f-8467-404a-ae10-3b13b7ac5517"
      },
      "execution_count": 220,
      "outputs": [
        {
          "output_type": "stream",
          "name": "stdout",
          "text": [
            "[(1, 15), (2, 35)]\n"
          ]
        }
      ]
    },
    {
      "cell_type": "code",
      "source": [
        "from typing import NamedTuple\n",
        "\n",
        "# Определение именованного кортежа для представления записей в базе данных\n",
        "class DataRecord(NamedTuple):\n",
        "    a: int\n",
        "    b: int\n",
        "    c: int\n",
        "\n",
        "# Пример данных для операции\n",
        "data = [\n",
        "    DataRecord(a=1, b=10, c=20),\n",
        "    DataRecord(a=2, b=15, c=25),\n",
        "    DataRecord(a=1, b=5, c=30),\n",
        "    DataRecord(a=2, b=20, c=35)\n",
        "]\n",
        "\n",
        "# Функция Map\n",
        "def MAP(record):\n",
        "    # Создаем пару (a, b) для каждого экземпляра класса DataRecord\n",
        "    yield (record[0].a, record[0].b)\n",
        "\n",
        "# Функция Reduce\n",
        "def REDUCE(key, values):\n",
        "    # Извлекаем числовые значения из values\n",
        "    numeric_values = [value for value in values if isinstance(value, int)]\n",
        "    # Применяем операцию суммирования к числовым значениям\n",
        "    result = sum(numeric_values)\n",
        "    # Возвращаем пару (a, x), где x - результат агрегации\n",
        "    yield (key, result)\n",
        "\n",
        "# Функция RECORDREADER\n",
        "def RECORDREADER():\n",
        "    # Перебираем все записи из примера данных\n",
        "    for record in data:\n",
        "        yield (record,)\n",
        "\n",
        "# Функция MapReduce\n",
        "def MapReduce(record_reader, mapper, reducer):\n",
        "    intermediate = {}\n",
        "    for record in record_reader():\n",
        "        for mapped_key, mapped_value in mapper(record):\n",
        "            intermediate.setdefault(mapped_key, []).append(mapped_value)\n",
        "    for key, values in intermediate.items():\n",
        "        for reduced in reducer(key, values):\n",
        "            yield reduced\n",
        "\n",
        "# Выполняем операцию MapReduce\n",
        "output = MapReduce(RECORDREADER, MAP, REDUCE)\n",
        "\n",
        "# Получаем результат операции группировки и агрегации\n",
        "result = list(output)\n",
        "\n",
        "# Выводим результат\n",
        "print(result)"
      ],
      "metadata": {
        "colab": {
          "base_uri": "https://localhost:8080/"
        },
        "id": "wP7OOT5vQ8Kb",
        "outputId": "fa36543a-23fb-407a-de43-0dab80fa1bae"
      },
      "execution_count": 223,
      "outputs": [
        {
          "output_type": "stream",
          "name": "stdout",
          "text": [
            "[(1, 15), (2, 35)]\n"
          ]
        }
      ]
    },
    {
      "cell_type": "markdown",
      "metadata": {
        "id": "IIrRgvG4RIS4"
      },
      "source": [
        "### Matrix-Vector multiplication\n",
        "\n",
        "Случай, когда вектор не помещается в памяти Map задачи\n"
      ]
    },
    {
      "cell_type": "code",
      "metadata": {
        "id": "KQhDbiL3zS9r"
      },
      "source": [],
      "execution_count": null,
      "outputs": []
    },
    {
      "cell_type": "markdown",
      "metadata": {
        "id": "GIo2t7nNxvA9"
      },
      "source": [
        "## Matrix multiplication (Перемножение матриц)\n",
        "\n",
        "Если у нас есть матрица $M$ с элементами $m_{ij}$ в строке $i$ и столбце $j$, и матрица $N$ с элементами $n_{jk}$ в строке $j$ и столбце $k$, тогда их произведение $P = MN$ есть матрица $P$ с элементами $p_{ik}$ в строке $i$ и столбце $k$, где\n",
        "\n",
        "$$p_{ik} =\\sum_{j} m_{ij}n_{jk}$$\n",
        "\n",
        "Необходимым требованием является одинаковое количество столбцов в $M$ и строк в $N$, чтобы операция суммирования по  $j$ была осмысленной. Мы можем размышлять о матрице, как об отношении с тремя атрибутами: номер строки, номер столбца, само значение. Таким образом матрица $M$ предстваляется как отношение $ M(I, J, V )$, с кортежами $(i, j, m_{ij})$, и, аналогично, матрица $N$ представляется как отношение $N(J, K, W)$, с кортежами $(j, k, n_{jk})$. Так как большие матрицы как правило разреженные (большинство значений равно 0), и так как мы можем нулевыми значениями пренебречь (не хранить), такое реляционное представление достаточно эффективно для больших матриц. Однако, возможно, что координаты $i$, $j$, и $k$ неявно закодированы в смещение позиции элемента относительно начала файла, вместо явного хранения. Тогда, функция Map (или Reader) должна быть разработана таким образом, чтобы реконструировать компоненты $I$, $J$, и $K$ кортежей из смещения.\n",
        "\n",
        "Произведение $MN$ это фактически join, за которым следуют группировка по ключу и аггрегация. Таким образом join отношений $M(I, J, V )$ и $N(J, K, W)$, имеющих общим только атрибут $J$, создаст кортежи $(i, j, k, v, w)$ из каждого кортежа $(i, j, v) \\in M$ и кортежа $(j, k, w) \\in N$. Такой 5 компонентный кортеж представляет пару элементов матрицы $(m_{ij} , n_{jk})$. Что нам хотелось бы получить на самом деле, это произведение этих элементов, то есть, 4 компонентный кортеж$(i, j, k, v \\times w)$, так как он представляет произведение $m_{ij}n_{jk}$. Мы представляем отношение как результат одной MapReduce операции, в которой мы можем произвести группировку и аггрегацию, с $I$ и $K$  атрибутами, по которым идёт группировка, и суммой  $V \\times W$.\n",
        "\n",
        "\n",
        "\n"
      ]
    },
    {
      "cell_type": "code",
      "metadata": {
        "id": "1MBkGaLAYVCt"
      },
      "source": [
        "# MapReduce model\n",
        "def flatten(nested_iterable):\n",
        "  for iterable in nested_iterable:\n",
        "    for element in iterable:\n",
        "      yield element\n",
        "\n",
        "def groupbykey(iterable):\n",
        "  t = {}\n",
        "  for (k2, v2) in iterable:\n",
        "    t[k2] = t.get(k2, []) + [v2]\n",
        "  return t.items()\n",
        "\n",
        "def MapReduce(RECORDREADER, MAP, REDUCE):\n",
        "  return flatten(map(lambda x: REDUCE(*x), groupbykey(flatten(map(lambda x: MAP(*x), RECORDREADER())))))"
      ],
      "execution_count": 224,
      "outputs": []
    },
    {
      "cell_type": "markdown",
      "metadata": {
        "id": "sMspsOT0ZB35"
      },
      "source": [
        "Реализуйте перемножение матриц с использованием модельного кода MapReduce для одной машины в случае, когда одна матрица хранится в памяти, а другая генерируется RECORDREADER-ом."
      ]
    },
    {
      "cell_type": "code",
      "metadata": {
        "id": "psP1XekbsEjS",
        "colab": {
          "base_uri": "https://localhost:8080/"
        },
        "outputId": "c436a5a8-439b-4ef4-f30c-fc9a2a025c3f"
      },
      "source": [
        "import numpy as np\n",
        "I = 2\n",
        "J = 3\n",
        "K = 4*10\n",
        "small_mat = np.random.rand(I,J)\n",
        "big_mat = np.random.rand(J,K)\n",
        "\n",
        "def RECORDREADER():\n",
        "  for j in range(J):\n",
        "    for k in range(K):\n",
        "      yield ((j, k), big_mat[j, k])\n",
        "\n",
        "def MAP(k1, v1):\n",
        "  (j, k) = k1\n",
        "  w = v1\n",
        "  for i in range(I):\n",
        "    yield ((i, k), small_mat[i, j] * w)\n",
        "\n",
        "def REDUCE(key, values):\n",
        "  (i, k) = key\n",
        "  yield ((i, k), sum(values))\n",
        "\n",
        "# CHECK THE SOLUTION\n",
        "reference_solution = np.matmul(small_mat, big_mat)\n",
        "solution = MapReduce(RECORDREADER, MAP, REDUCE)\n",
        "\n",
        "def asmatrix(reduce_output):\n",
        "  reduce_output = list(reduce_output)\n",
        "  I = max(i for ((i,k), vw) in reduce_output)+1\n",
        "  K = max(k for ((i,k), vw) in reduce_output)+1\n",
        "  mat = np.empty(shape=(I,K))\n",
        "  for ((i,k), vw) in reduce_output:\n",
        "    mat[i,k] = vw\n",
        "  return mat\n",
        "\n",
        "np.allclose(reference_solution, asmatrix(solution))"
      ],
      "execution_count": 251,
      "outputs": [
        {
          "output_type": "execute_result",
          "data": {
            "text/plain": [
              "True"
            ]
          },
          "metadata": {},
          "execution_count": 251
        }
      ]
    },
    {
      "cell_type": "code",
      "metadata": {
        "id": "TK7v4CEcfxqf",
        "colab": {
          "base_uri": "https://localhost:8080/"
        },
        "outputId": "503a73e6-0ea5-467a-a02f-d88bb0f6d825"
      },
      "source": [
        "reduce_output = list(MapReduce(RECORDREADER, MAP, REDUCE))\n",
        "max(i for ((i,k), vw) in reduce_output)"
      ],
      "execution_count": 230,
      "outputs": [
        {
          "output_type": "execute_result",
          "data": {
            "text/plain": [
              "1"
            ]
          },
          "metadata": {},
          "execution_count": 230
        }
      ]
    },
    {
      "cell_type": "markdown",
      "metadata": {
        "id": "i4yyg3kOZqJJ"
      },
      "source": [
        "Реализуйте перемножение матриц  с использованием модельного кода MapReduce для одной машины в случае, когда обе матрицы генерируются в RECORDREADER. Например, сначала одна, а потом другая."
      ]
    },
    {
      "cell_type": "code",
      "metadata": {
        "id": "3B7rIAJCaHZq",
        "colab": {
          "base_uri": "https://localhost:8080/"
        },
        "outputId": "633296f9-86d2-44a1-c04d-495425f42d55"
      },
      "source": [
        "I = 2\n",
        "J = 3\n",
        "K = 4 * 10\n",
        "small_mat = np.random.rand(I, J)\n",
        "big_mat = np.random.rand(J, K)\n",
        "\n",
        "def RECORDREADER():\n",
        "  for i in range(I):\n",
        "    for j in range(J):\n",
        "      yield ((0, i, j), small_mat[i, j])\n",
        "\n",
        "  for j in range(J):\n",
        "    for k in range(K):\n",
        "      yield ((1, j, k), big_mat[j, k])\n",
        "\n",
        "def MAP(k1, v1):\n",
        "  (matrix_index, row_index, col_index) = k1\n",
        "  if matrix_index == 0:\n",
        "    yield (col_index, (matrix_index, row_index, v1))\n",
        "  else:\n",
        "    yield (row_index, (matrix_index, col_index, v1))\n",
        "\n",
        "\n",
        "def REDUCE(key, values):\n",
        "  first_matrix = [el for el in values if el[0] == 0]\n",
        "  second_matrix = [el for el in values if el[0] == 1]\n",
        "\n",
        "  for first_el in first_matrix:\n",
        "    for second_el in second_matrix:\n",
        "      (_, first_index, first_value) = first_el\n",
        "      (_, second_index, second_value) = second_el\n",
        "      yield ((first_index, second_index), first_value * second_value)\n",
        "\n",
        "\n",
        "def MAP_IDENTITY(*args):\n",
        "  yield args\n",
        "\n",
        "def REDUCE_AGREGATE(key, values):\n",
        "  yield (key, sum(values))\n",
        "\n",
        "def GET_RECORDREADER(iterable):\n",
        "  def func():\n",
        "    for el in iterable:\n",
        "      yield el\n",
        "  return func\n",
        "\n",
        "# CHECK THE SOLUTION\n",
        "reference_solution = np.matmul(small_mat, big_mat)\n",
        "partial_solution = MapReduce(RECORDREADER, MAP, REDUCE)\n",
        "solution = MapReduce(GET_RECORDREADER(partial_solution), MAP_IDENTITY, REDUCE_AGREGATE)\n",
        "\n",
        "def asmatrix(reduce_output):\n",
        "  reduce_output = list(reduce_output)\n",
        "  I = max(i for ((i, k), vw) in reduce_output) + 1\n",
        "  K = max(k for ((i, k), vw) in reduce_output) + 1\n",
        "  mat = np.empty(shape=(I, K))\n",
        "  for ((i, k), vw) in reduce_output:\n",
        "    mat[i, k] = vw\n",
        "  return mat\n",
        "\n",
        "np.allclose(reference_solution, asmatrix(solution))"
      ],
      "execution_count": 255,
      "outputs": [
        {
          "output_type": "execute_result",
          "data": {
            "text/plain": [
              "True"
            ]
          },
          "metadata": {},
          "execution_count": 255
        }
      ]
    },
    {
      "cell_type": "markdown",
      "metadata": {
        "id": "mXyzQi1DaIwo"
      },
      "source": [
        "Реализуйте перемножение матриц с использованием модельного кода MapReduce Distributed, когда каждая матрица генерируется в своём RECORDREADER."
      ]
    },
    {
      "cell_type": "code",
      "metadata": {
        "id": "TDM_s78Rb5eR",
        "colab": {
          "base_uri": "https://localhost:8080/"
        },
        "outputId": "093ce928-750f-424d-c3ae-aea0e1b5f510"
      },
      "source": [
        "import numpy as np\n",
        "\n",
        "# Определение размерностей матриц\n",
        "I = 2  # Количество строк в результате умножения матриц\n",
        "J = 3  # Количество столбцов в первой матрице и количество строк во второй\n",
        "K = 4 * 10  # Количество столбцов в результате умножения матриц (увеличенное)\n",
        "\n",
        "# Генерация случайных матриц\n",
        "small_mat = np.random.rand(I, J)  # Генерация случайной матрицы размером IxJ\n",
        "big_mat = np.random.rand(J, K)  # Генерация случайной матрицы размером JxK\n",
        "\n",
        "def RECORDREADER():\n",
        "    for i in range(I):\n",
        "        for j in range(J):\n",
        "            yield ((0, i, j), small_mat[i, j])  # Вывод индексов и значения элемента из маленькой матрицы\n",
        "\n",
        "    for j in range(J):\n",
        "        for k in range(K):\n",
        "            yield ((1, j, k), big_mat[j, k])  # Вывод индексов и значения элемента из большой матрицы\n",
        "\n",
        "def MAP(k1, v1):\n",
        "    (matrix_index, row_index, col_index) = k1  # Получение индексов\n",
        "    if matrix_index == 0:\n",
        "        yield (col_index, (matrix_index, row_index, v1))  # Вывод индекса, индекса строки и значения элемента маленькой матрицы\n",
        "    else:\n",
        "        yield (row_index, (matrix_index, col_index, v1))  # Вывод индекса, индекса столбца и значения элемента большой матрицы\n",
        "\n",
        "def REDUCE(key, values):\n",
        "    first_matrix = [el for el in values if el[0] == 0]  # Выделение элементов первой матрицы\n",
        "    second_matrix = [el for el in values if el[0] == 1]  # Выделение элементов второй матрицы\n",
        "    for first_el in first_matrix:\n",
        "        for second_el in second_matrix:\n",
        "            (_, first_index, first_value) = first_el  # Извлечение индекса и значения элемента первой матрицы\n",
        "            (_, second_index, second_value) = second_el  # Извлечение индекса и значения элемента второй матрицы\n",
        "            yield ((first_index, second_index), first_value * second_value)  # Вывод индекса и произведения значений элементов\n",
        "\n",
        "def MAP_IDENTITY(*args):\n",
        "    yield args\n",
        "\n",
        "def REDUCE_AGREGATE(key, values):\n",
        "    yield (key, sum(values))\n",
        "\n",
        "def GET_RECORDREADER(iterable):\n",
        "    def func():\n",
        "        for el in iterable:\n",
        "            yield el\n",
        "    return func\n",
        "\n",
        "reference_solution = np.matmul(small_mat, big_mat)\n",
        "\n",
        "partial_solution = MapReduce(RECORDREADER, MAP, REDUCE)\n",
        "solution = MapReduce(GET_RECORDREADER(partial_solution), MAP_IDENTITY, REDUCE_AGREGATE)\n",
        "\n",
        "def asmatrix(reduce_output):\n",
        "    reduce_output = list(reduce_output)\n",
        "    I = max(i for ((i, k), vw) in reduce_output) + 1\n",
        "    K = max(k for ((i, k), vw) in reduce_output) + 1\n",
        "    mat = np.empty(shape=(I, K))\n",
        "    for ((i, k), vw) in reduce_output:\n",
        "        mat[i, k] = vw\n",
        "    return mat\n",
        "\n",
        "np.allclose(reference_solution, asmatrix(solution))"
      ],
      "execution_count": 252,
      "outputs": [
        {
          "output_type": "execute_result",
          "data": {
            "text/plain": [
              "True"
            ]
          },
          "metadata": {},
          "execution_count": 252
        }
      ]
    }
  ]
}