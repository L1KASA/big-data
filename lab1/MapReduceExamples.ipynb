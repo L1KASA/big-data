{
  "nbformat": 4,
  "nbformat_minor": 0,
  "metadata": {
    "colab": {
      "provenance": [],
      "collapsed_sections": [
        "5SgEjCZyGnu6"
      ],
      "include_colab_link": true
    },
    "kernelspec": {
      "name": "python3",
      "display_name": "Python 3"
    }
  },
  "cells": [
    {
      "cell_type": "markdown",
      "metadata": {
        "id": "view-in-github",
        "colab_type": "text"
      },
      "source": [
        "<a href=\"https://colab.research.google.com/github/L1KASA/big-data/blob/main/lab1/MapReduceExamples.ipynb\" target=\"_parent\"><img src=\"https://colab.research.google.com/assets/colab-badge.svg\" alt=\"Open In Colab\"/></a>"
      ]
    },
    {
      "cell_type": "markdown",
      "metadata": {
        "id": "82OvPKEiEqjc"
      },
      "source": [
        "# Введение в MapReduce модель на Python\n"
      ]
    },
    {
      "cell_type": "code",
      "metadata": {
        "id": "JQ2cvXLjICmI"
      },
      "source": [
        "from typing import NamedTuple # requires python 3.6+\n",
        "from typing import Iterator"
      ],
      "execution_count": 1,
      "outputs": []
    },
    {
      "cell_type": "code",
      "metadata": {
        "id": "yjPHumVwEyEg"
      },
      "source": [
        "def MAP(_, row:NamedTuple):\n",
        "  if (row.gender == 'female'):\n",
        "    yield (row.age, row)\n",
        "\n",
        "def REDUCE(age:str, rows:Iterator[NamedTuple]):\n",
        "  sum = 0\n",
        "  count = 0\n",
        "  for row in rows:\n",
        "    sum += row.social_contacts\n",
        "    count += 1\n",
        "  if (count > 0):\n",
        "    yield (age, sum/count)\n",
        "  else:\n",
        "    yield (age, 0)"
      ],
      "execution_count": 2,
      "outputs": []
    },
    {
      "cell_type": "markdown",
      "metadata": {
        "id": "vBKMgpG_ilaZ"
      },
      "source": [
        "Модель элемента данных"
      ]
    },
    {
      "cell_type": "code",
      "metadata": {
        "id": "Rv-XIjhTJPx3"
      },
      "source": [
        "class User(NamedTuple):\n",
        "  id: int\n",
        "  age: str\n",
        "  social_contacts: int\n",
        "  gender: str"
      ],
      "execution_count": 3,
      "outputs": []
    },
    {
      "cell_type": "code",
      "metadata": {
        "id": "5KV0Ze2vQgu5"
      },
      "source": [
        "input_collection = [\n",
        "    User(id=0, age=55, gender='male', social_contacts=20),\n",
        "    User(id=1, age=25, gender='female', social_contacts=240),\n",
        "    User(id=2, age=25, gender='female', social_contacts=500),\n",
        "    User(id=3, age=33, gender='female', social_contacts=800)\n",
        "]"
      ],
      "execution_count": 4,
      "outputs": []
    },
    {
      "cell_type": "markdown",
      "metadata": {
        "id": "YFeqzyZxZIFZ"
      },
      "source": [
        "Функция RECORDREADER моделирует чтение элементов с диска или по сети."
      ]
    },
    {
      "cell_type": "code",
      "metadata": {
        "id": "S5HR4E_GQoMJ"
      },
      "source": [
        "def RECORDREADER():\n",
        "  return [(u.id, u) for u in input_collection]"
      ],
      "execution_count": 5,
      "outputs": []
    },
    {
      "cell_type": "code",
      "metadata": {
        "id": "NeEoWla-ROUy",
        "colab": {
          "base_uri": "https://localhost:8080/"
        },
        "outputId": "8476f5fb-4545-4c95-80cc-4200efe7f2ae"
      },
      "source": [
        "list(RECORDREADER())"
      ],
      "execution_count": 6,
      "outputs": [
        {
          "output_type": "execute_result",
          "data": {
            "text/plain": [
              "[(0, User(id=0, age=55, social_contacts=20, gender='male')),\n",
              " (1, User(id=1, age=25, social_contacts=240, gender='female')),\n",
              " (2, User(id=2, age=25, social_contacts=500, gender='female')),\n",
              " (3, User(id=3, age=33, social_contacts=800, gender='female'))]"
            ]
          },
          "metadata": {},
          "execution_count": 6
        }
      ]
    },
    {
      "cell_type": "code",
      "metadata": {
        "id": "YB8orgPSZs8M"
      },
      "source": [
        "def flatten(nested_iterable):\n",
        "  for iterable in nested_iterable:\n",
        "    for element in iterable:\n",
        "      yield element"
      ],
      "execution_count": 7,
      "outputs": []
    },
    {
      "cell_type": "code",
      "metadata": {
        "id": "74oyvDLaRmd5",
        "colab": {
          "base_uri": "https://localhost:8080/"
        },
        "outputId": "e77f8f24-dbac-400a-d769-a69a5195e4ac"
      },
      "source": [
        "map_output = flatten(map(lambda x: MAP(*x), RECORDREADER()))\n",
        "map_output = list(map_output) # materialize\n",
        "map_output"
      ],
      "execution_count": 8,
      "outputs": [
        {
          "output_type": "execute_result",
          "data": {
            "text/plain": [
              "[(25, User(id=1, age=25, social_contacts=240, gender='female')),\n",
              " (25, User(id=2, age=25, social_contacts=500, gender='female')),\n",
              " (33, User(id=3, age=33, social_contacts=800, gender='female'))]"
            ]
          },
          "metadata": {},
          "execution_count": 8
        }
      ]
    },
    {
      "cell_type": "code",
      "metadata": {
        "id": "8ncYDJ3-VzDn"
      },
      "source": [
        "def groupbykey(iterable):\n",
        "  t = {}\n",
        "  for (k2, v2) in iterable:\n",
        "    t[k2] = t.get(k2, []) + [v2]\n",
        "  return t.items()"
      ],
      "execution_count": 9,
      "outputs": []
    },
    {
      "cell_type": "code",
      "metadata": {
        "id": "cKzY_6COWOA2",
        "colab": {
          "base_uri": "https://localhost:8080/"
        },
        "outputId": "88bb7948-31e5-4576-9307-8fa072f27fd3"
      },
      "source": [
        "shuffle_output = groupbykey(map_output)\n",
        "shuffle_output = list(shuffle_output)\n",
        "shuffle_output"
      ],
      "execution_count": 10,
      "outputs": [
        {
          "output_type": "execute_result",
          "data": {
            "text/plain": [
              "[(25,\n",
              "  [User(id=1, age=25, social_contacts=240, gender='female'),\n",
              "   User(id=2, age=25, social_contacts=500, gender='female')]),\n",
              " (33, [User(id=3, age=33, social_contacts=800, gender='female')])]"
            ]
          },
          "metadata": {},
          "execution_count": 10
        }
      ]
    },
    {
      "cell_type": "code",
      "metadata": {
        "id": "NlA7lkDDYL0t",
        "colab": {
          "base_uri": "https://localhost:8080/"
        },
        "outputId": "8b574d86-e333-41d4-932d-4f345d75c18d"
      },
      "source": [
        "reduce_output = flatten(map(lambda x: REDUCE(*x), shuffle_output))\n",
        "reduce_output = list(reduce_output)\n",
        "reduce_output"
      ],
      "execution_count": 11,
      "outputs": [
        {
          "output_type": "execute_result",
          "data": {
            "text/plain": [
              "[(25, 370.0), (33, 800.0)]"
            ]
          },
          "metadata": {},
          "execution_count": 11
        }
      ]
    },
    {
      "cell_type": "markdown",
      "metadata": {
        "id": "xf6qhHEtd6bI"
      },
      "source": [
        "Все действия одним конвейером!"
      ]
    },
    {
      "cell_type": "code",
      "metadata": {
        "id": "dZaQGYxCdpw5",
        "colab": {
          "base_uri": "https://localhost:8080/"
        },
        "outputId": "dc51d315-0175-4a58-f103-dd5bca1804b8"
      },
      "source": [
        "list(flatten(map(lambda x: REDUCE(*x), groupbykey(flatten(map(lambda x: MAP(*x), RECORDREADER()))))))"
      ],
      "execution_count": 12,
      "outputs": [
        {
          "output_type": "execute_result",
          "data": {
            "text/plain": [
              "[(25, 370.0), (33, 800.0)]"
            ]
          },
          "metadata": {},
          "execution_count": 12
        }
      ]
    },
    {
      "cell_type": "markdown",
      "metadata": {
        "id": "Vq3EWRIpwSiJ"
      },
      "source": [
        "# **MapReduce**\n",
        "Выделим общую для всех пользователей часть системы в отдельную функцию высшего порядка. Это наиболее простая модель MapReduce, без учёта распределённого хранения данных.\n",
        "\n",
        "Пользователь для решения своей задачи реализует RECORDREADER, MAP, REDUCE."
      ]
    },
    {
      "cell_type": "code",
      "metadata": {
        "id": "V1PZeQMwwVjc"
      },
      "source": [
        "def flatten(nested_iterable):\n",
        "  for iterable in nested_iterable:\n",
        "    for element in iterable:\n",
        "      yield element\n",
        "\n",
        "def groupbykey(iterable):\n",
        "  t = {}\n",
        "  for (k2, v2) in iterable:\n",
        "    t[k2] = t.get(k2, []) + [v2]\n",
        "  return t.items()\n",
        "\n",
        "# groupbykey на основе сортировки\n",
        "def groupbykey1(iterable):\n",
        "    sorted_iterable = sorted(iterable, key=lambda x: x[0])\n",
        "    result = []\n",
        "    current_key = None\n",
        "    for key, value in sorted_iterable:\n",
        "        if key != current_key:\n",
        "            if current_key is not None:\n",
        "                result.append((current_key, current_group))\n",
        "            current_key = key\n",
        "            current_group = [value]\n",
        "        else:\n",
        "            current_group.append(value)\n",
        "    result.append((current_key, current_group))\n",
        "    return result\n",
        "\n",
        "def MapReduce(RECORDREADER, MAP, REDUCE):\n",
        "  return flatten(map(lambda x: REDUCE(*x), groupbykey(flatten(map(lambda x: MAP(*x), RECORDREADER())))))\n",
        "\n",
        "def MapReduce1(RECORDREADER, MAP, REDUCE):\n",
        "  return flatten(map(lambda x: REDUCE(*x), groupbykey1(flatten(map(lambda x: MAP(*x), RECORDREADER())))))"
      ],
      "execution_count": 13,
      "outputs": []
    },
    {
      "cell_type": "markdown",
      "metadata": {
        "id": "iFIVrimep678"
      },
      "source": [
        "## Спецификация MapReduce\n",
        "\n",
        "\n",
        "\n",
        "```\n",
        "f (k1, v1) -> (k2,v2)*\n",
        "g (k2, v2*) -> (k3,v3)*\n",
        "\n",
        "mapreduce ((k1,v1)*) -> (k3,v3)*\n",
        "groupby ((k2,v2)*) -> (k2,v2*)*\n",
        "flatten (e2**) -> e2*\n",
        "\n",
        "mapreduce .map(f).flatten.groupby(k2).map(g).flatten\n",
        "```\n",
        "\n",
        "\n"
      ]
    },
    {
      "cell_type": "markdown",
      "metadata": {
        "id": "QtTFyqke3KGe"
      },
      "source": [
        "# Примеры"
      ]
    },
    {
      "cell_type": "markdown",
      "metadata": {
        "id": "BNhh5763w5Vn"
      },
      "source": [
        "## SQL"
      ]
    },
    {
      "cell_type": "code",
      "metadata": {
        "id": "QkyurnvGxBGk",
        "colab": {
          "base_uri": "https://localhost:8080/"
        },
        "outputId": "64cd73cc-5b26-4738-8810-d7cc142488dc"
      },
      "source": [
        "from typing import NamedTuple # requires python 3.6+\n",
        "from typing import Iterator\n",
        "\n",
        "class User(NamedTuple):\n",
        "  id: int\n",
        "  age: str\n",
        "  social_contacts: int\n",
        "  gender: str\n",
        "\n",
        "input_collection = [\n",
        "    User(id=0, age=55, gender='male', social_contacts=20),\n",
        "    User(id=1, age=25, gender='female', social_contacts=240),\n",
        "    User(id=2, age=25, gender='female', social_contacts=500),\n",
        "    User(id=3, age=33, gender='female', social_contacts=800)\n",
        "]\n",
        "\n",
        "def MAP(_, row:NamedTuple):\n",
        "  if (row.gender == 'female'):\n",
        "    yield (row.age, row)\n",
        "\n",
        "def REDUCE(age:str, rows:Iterator[NamedTuple]):\n",
        "  sum = 0\n",
        "  count = 0\n",
        "  for row in rows:\n",
        "    sum += row.social_contacts\n",
        "    count += 1\n",
        "  if (count > 0):\n",
        "    yield (age, sum/count)\n",
        "  else:\n",
        "    yield (age, 0)\n",
        "\n",
        "def RECORDREADER():\n",
        "  return [(u.id, u) for u in input_collection]\n",
        "\n",
        "output = MapReduce(RECORDREADER, MAP, REDUCE)\n",
        "output = list(output)\n",
        "output"
      ],
      "execution_count": 14,
      "outputs": [
        {
          "output_type": "execute_result",
          "data": {
            "text/plain": [
              "[(25, 370.0), (33, 800.0)]"
            ]
          },
          "metadata": {},
          "execution_count": 14
        }
      ]
    },
    {
      "cell_type": "code",
      "source": [
        "output1 = MapReduce1(RECORDREADER, MAP, REDUCE)\n",
        "output1 = list(output1)\n",
        "output1"
      ],
      "metadata": {
        "colab": {
          "base_uri": "https://localhost:8080/"
        },
        "id": "mC-HoL0ODvPo",
        "outputId": "be624788-7bcf-480d-92b3-1b035497a1ff"
      },
      "execution_count": 15,
      "outputs": [
        {
          "output_type": "execute_result",
          "data": {
            "text/plain": [
              "[(25, 370.0), (33, 800.0)]"
            ]
          },
          "metadata": {},
          "execution_count": 15
        }
      ]
    },
    {
      "cell_type": "markdown",
      "metadata": {
        "id": "kNKYIeerx0nY"
      },
      "source": [
        "## Matrix-Vector multiplication"
      ]
    },
    {
      "cell_type": "code",
      "metadata": {
        "id": "rwcntRcCyi1V",
        "colab": {
          "base_uri": "https://localhost:8080/"
        },
        "outputId": "866e38a9-3942-4a90-c3bd-57628afe48b9"
      },
      "source": [
        "from typing import Iterator\n",
        "import numpy as np\n",
        "\n",
        "mat = np.ones((5,4))\n",
        "vec = np.random.rand(4) # in-memory vector in all map tasks\n",
        "\n",
        "def MAP(coordinates:(int, int), value:int):\n",
        "  i, j = coordinates\n",
        "  yield (i, value*vec[j])\n",
        "\n",
        "def REDUCE(i:int, products:Iterator[NamedTuple]):\n",
        "  sum = 0\n",
        "  for p in products:\n",
        "    sum += p\n",
        "  yield (i, sum)\n",
        "\n",
        "def RECORDREADER():\n",
        "  for i in range(mat.shape[0]):\n",
        "    for j in range(mat.shape[1]):\n",
        "      yield ((i, j), mat[i,j])\n",
        "\n",
        "output = MapReduce(RECORDREADER, MAP, REDUCE)\n",
        "output = list(output)\n",
        "output"
      ],
      "execution_count": 16,
      "outputs": [
        {
          "output_type": "execute_result",
          "data": {
            "text/plain": [
              "[(0, 1.7061981381508153),\n",
              " (1, 1.7061981381508153),\n",
              " (2, 1.7061981381508153),\n",
              " (3, 1.7061981381508153),\n",
              " (4, 1.7061981381508153)]"
            ]
          },
          "metadata": {},
          "execution_count": 16
        }
      ]
    },
    {
      "cell_type": "code",
      "source": [
        "output1 = MapReduce1(RECORDREADER, MAP, REDUCE)\n",
        "output1 = list(output1)\n",
        "output1"
      ],
      "metadata": {
        "colab": {
          "base_uri": "https://localhost:8080/"
        },
        "id": "Clo38bEPD0Pg",
        "outputId": "6125d9ad-be5e-4289-9e3e-1a98af9e329a"
      },
      "execution_count": 17,
      "outputs": [
        {
          "output_type": "execute_result",
          "data": {
            "text/plain": [
              "[(0, 1.7061981381508153),\n",
              " (1, 1.7061981381508153),\n",
              " (2, 1.7061981381508153),\n",
              " (3, 1.7061981381508153),\n",
              " (4, 1.7061981381508153)]"
            ]
          },
          "metadata": {},
          "execution_count": 17
        }
      ]
    },
    {
      "cell_type": "markdown",
      "metadata": {
        "id": "ruZREYdi2o4O"
      },
      "source": [
        "## Inverted index"
      ]
    },
    {
      "cell_type": "code",
      "metadata": {
        "id": "vt9H9Alf3TYv",
        "colab": {
          "base_uri": "https://localhost:8080/"
        },
        "outputId": "ac87b976-a2f7-47ab-b077-65da8c30a805"
      },
      "source": [
        "from typing import Iterator\n",
        "\n",
        "d1 = \"it is what it is\"\n",
        "d2 = \"what is it\"\n",
        "d3 = \"it is a banana\"\n",
        "documents = [d1, d2, d3]\n",
        "\n",
        "def RECORDREADER():\n",
        "  for (docid, document) in enumerate(documents):\n",
        "    yield (\"{}\".format(docid), document)\n",
        "\n",
        "def MAP(docId:str, body:str):\n",
        "  for word in set(body.split(' ')):\n",
        "    yield (word, docId)\n",
        "\n",
        "def REDUCE(word:str, docIds:Iterator[str]):\n",
        "  yield (word, sorted(docIds))\n",
        "\n",
        "output = MapReduce(RECORDREADER, MAP, REDUCE)\n",
        "output = list(output)\n",
        "output"
      ],
      "execution_count": 18,
      "outputs": [
        {
          "output_type": "execute_result",
          "data": {
            "text/plain": [
              "[('what', ['0', '1']),\n",
              " ('it', ['0', '1', '2']),\n",
              " ('is', ['0', '1', '2']),\n",
              " ('a', ['2']),\n",
              " ('banana', ['2'])]"
            ]
          },
          "metadata": {},
          "execution_count": 18
        }
      ]
    },
    {
      "cell_type": "code",
      "source": [
        "output1 = MapReduce1(RECORDREADER, MAP, REDUCE)\n",
        "output1 = list(output1)\n",
        "output1"
      ],
      "metadata": {
        "colab": {
          "base_uri": "https://localhost:8080/"
        },
        "id": "IdiQcPL1D9sT",
        "outputId": "f72e2740-d623-4e15-b10c-f0b02a824591"
      },
      "execution_count": 19,
      "outputs": [
        {
          "output_type": "execute_result",
          "data": {
            "text/plain": [
              "[('a', ['2']),\n",
              " ('banana', ['2']),\n",
              " ('is', ['0', '1', '2']),\n",
              " ('it', ['0', '1', '2']),\n",
              " ('what', ['0', '1'])]"
            ]
          },
          "metadata": {},
          "execution_count": 19
        }
      ]
    },
    {
      "cell_type": "markdown",
      "metadata": {
        "id": "R7az-6DA6qr2"
      },
      "source": [
        "## WordCount"
      ]
    },
    {
      "cell_type": "code",
      "metadata": {
        "id": "dN-nbtgG6uYG",
        "colab": {
          "base_uri": "https://localhost:8080/"
        },
        "outputId": "2f4a7a7e-e856-49bf-b6c9-eeebdd2817c5"
      },
      "source": [
        "from typing import Iterator\n",
        "\n",
        "d1 = \"\"\"\n",
        "it is what it is\n",
        "it is what it is\n",
        "it is what it is\"\"\"\n",
        "d2 = \"\"\"\n",
        "what is it\n",
        "what is it\"\"\"\n",
        "d3 = \"\"\"\n",
        "it is a banana\"\"\"\n",
        "documents = [d1, d2, d3]\n",
        "\n",
        "def RECORDREADER():\n",
        "  for (docid, document) in enumerate(documents):\n",
        "    for (lineid, line) in enumerate(document.split('\\n')):\n",
        "      yield (\"{}:{}\".format(docid,lineid), line)\n",
        "\n",
        "def MAP(docId:str, line:str):\n",
        "  for word in line.split(\" \"):\n",
        "    yield (word, 1)\n",
        "\n",
        "def REDUCE(word:str, counts:Iterator[int]):\n",
        "  sum = 0\n",
        "  for c in counts:\n",
        "    sum += c\n",
        "  yield (word, sum)\n",
        "\n",
        "output = MapReduce(RECORDREADER, MAP, REDUCE)\n",
        "output = list(output)\n",
        "output"
      ],
      "execution_count": 20,
      "outputs": [
        {
          "output_type": "execute_result",
          "data": {
            "text/plain": [
              "[('', 3), ('it', 9), ('is', 9), ('what', 5), ('a', 1), ('banana', 1)]"
            ]
          },
          "metadata": {},
          "execution_count": 20
        }
      ]
    },
    {
      "cell_type": "code",
      "source": [
        "output1 = MapReduce1(RECORDREADER, MAP, REDUCE)\n",
        "output1 = list(output1)\n",
        "output1"
      ],
      "metadata": {
        "colab": {
          "base_uri": "https://localhost:8080/"
        },
        "id": "WjWActImEcJF",
        "outputId": "1e130ebd-ee8c-46c7-d51a-98920512e7e1"
      },
      "execution_count": 21,
      "outputs": [
        {
          "output_type": "execute_result",
          "data": {
            "text/plain": [
              "[('', 3), ('a', 1), ('banana', 1), ('is', 9), ('it', 9), ('what', 5)]"
            ]
          },
          "metadata": {},
          "execution_count": 21
        }
      ]
    },
    {
      "cell_type": "markdown",
      "metadata": {
        "id": "h-jRAcYCAkkk"
      },
      "source": [
        "# MapReduce Distributed\n",
        "\n",
        "Добавляется в модель фабрика RECORDREARER-ов --- INPUTFORMAT, функция распределения промежуточных результатов по партициям PARTITIONER, и функция COMBINER для частичной аггрегации промежуточных результатов до распределения по новым партициям."
      ]
    },
    {
      "cell_type": "code",
      "metadata": {
        "id": "nw-b-xJsApgW"
      },
      "source": [
        "def flatten(nested_iterable):\n",
        "  for iterable in nested_iterable:\n",
        "    for element in iterable:\n",
        "      yield element\n",
        "\n",
        "def groupbykey(iterable):\n",
        "  t = {}\n",
        "  for (k2, v2) in iterable:\n",
        "    t[k2] = t.get(k2, []) + [v2]\n",
        "  return t.items()\n",
        "\n",
        "def groupbykey_distributed(map_partitions, PARTITIONER):\n",
        "  global reducers\n",
        "  partitions = [dict() for _ in range(reducers)]\n",
        "  for map_partition in map_partitions:\n",
        "    for (k2, v2) in map_partition:\n",
        "      p = partitions[PARTITIONER(k2)]\n",
        "      p[k2] = p.get(k2, []) + [v2]\n",
        "  return [(partition_id, sorted(partition.items(), key=lambda x: x[0])) for (partition_id, partition) in enumerate(partitions)]\n",
        "\n",
        "def PARTITIONER(obj):\n",
        "  global reducers\n",
        "  return hash(obj) % reducers\n",
        "\n",
        "def MapReduceDistributed(INPUTFORMAT, MAP, REDUCE, PARTITIONER=PARTITIONER, COMBINER=None):\n",
        "  map_partitions = map(lambda record_reader: flatten(map(lambda k1v1: MAP(*k1v1), record_reader)), INPUTFORMAT())\n",
        "  if COMBINER != None:\n",
        "    map_partitions = map(lambda map_partition: flatten(map(lambda k2v2: COMBINER(*k2v2), groupbykey(map_partition))), map_partitions)\n",
        "  reduce_partitions = groupbykey_distributed(map_partitions, PARTITIONER) # shuffle\n",
        "  reduce_outputs = map(lambda reduce_partition: (reduce_partition[0], flatten(map(lambda reduce_input_group: REDUCE(*reduce_input_group), reduce_partition[1]))), reduce_partitions)\n",
        "\n",
        "  print(\"{} key-value pairs were sent over a network.\".format(sum([len(vs) for (k,vs) in flatten([partition for (partition_id, partition) in reduce_partitions])])))\n",
        "  return reduce_outputs"
      ],
      "execution_count": 22,
      "outputs": []
    },
    {
      "cell_type": "code",
      "source": [
        "def MapReduceDistributed1(INPUTFORMAT, MAP, REDUCE, PARTITIONER=PARTITIONER, COMBINER=None):\n",
        "  map_partitions = map(lambda record_reader: flatten(map(lambda k1v1: MAP(*k1v1), record_reader)), INPUTFORMAT())\n",
        "  if COMBINER != None:\n",
        "    map_partitions = map(lambda map_partition: flatten(map(lambda k2v2: COMBINER(*k2v2), groupbykey1(map_partition))), map_partitions)\n",
        "  reduce_partitions = groupbykey_distributed(map_partitions, PARTITIONER) # shuffle\n",
        "  reduce_outputs = map(lambda reduce_partition: (reduce_partition[0], flatten(map(lambda reduce_input_group: REDUCE(*reduce_input_group), reduce_partition[1]))), reduce_partitions)\n",
        "\n",
        "  print(\"{} key-value pairs were sent over a network.\".format(sum([len(vs) for (k,vs) in flatten([partition for (partition_id, partition) in reduce_partitions])])))\n",
        "  return reduce_outputs"
      ],
      "metadata": {
        "id": "ebUgTQK1E08h"
      },
      "execution_count": 23,
      "outputs": []
    },
    {
      "cell_type": "markdown",
      "metadata": {
        "id": "kxirlf3XqZxY"
      },
      "source": [
        "## Спецификация MapReduce Distributed\n",
        "\n",
        "\n",
        "```\n",
        "f (k1, v1) -> (k2,v2)*\n",
        "g (k2, v2*) -> (k3,v3)*\n",
        "\n",
        "e1 (k1, v1)\n",
        "e2 (k2, v2)\n",
        "partition1 (k2, v2)*\n",
        "partition2 (k2, v2*)*\n",
        "\n",
        "flatmap (e1->e2*, e1*) -> partition1*\n",
        "groupby (partition1*) -> partition2*\n",
        "\n",
        "mapreduce ((k1,v1)*) -> (k3,v3)*\n",
        "mapreduce .flatmap(f).groupby(k2).flatmap(g)\n",
        "```\n",
        "\n"
      ]
    },
    {
      "cell_type": "markdown",
      "metadata": {
        "id": "CWYw_CpbbY3C"
      },
      "source": [
        "## WordCount"
      ]
    },
    {
      "cell_type": "code",
      "metadata": {
        "id": "uR_zfGFkMZlp",
        "colab": {
          "base_uri": "https://localhost:8080/"
        },
        "outputId": "d6b1d032-7632-4772-bd19-2a6540cd6ac2"
      },
      "source": [
        "from typing import Iterator\n",
        "import numpy as np\n",
        "\n",
        "d1 = \"\"\"\n",
        "it is what it is\n",
        "it is what it is\n",
        "it is what it is\"\"\"\n",
        "d2 = \"\"\"\n",
        "what is it\n",
        "what is it\"\"\"\n",
        "d3 = \"\"\"\n",
        "it is a banana\"\"\"\n",
        "documents = [d1, d2, d3, d1, d2, d3]\n",
        "\n",
        "maps = 3\n",
        "reducers = 2\n",
        "\n",
        "def INPUTFORMAT():\n",
        "  global maps\n",
        "\n",
        "  def RECORDREADER(split):\n",
        "    for (docid, document) in enumerate(split):\n",
        "      for (lineid, line) in enumerate(document.split('\\n')):\n",
        "        yield (\"{}:{}\".format(docid,lineid), line)\n",
        "\n",
        "  split_size =  int(np.ceil(len(documents)/maps))\n",
        "  for i in range(0, len(documents), split_size):\n",
        "    yield RECORDREADER(documents[i:i+split_size])\n",
        "\n",
        "def MAP(docId:str, line:str):\n",
        "  for word in line.split(\" \"):\n",
        "    yield (word, 1)\n",
        "\n",
        "def REDUCE(word:str, counts:Iterator[int]):\n",
        "  sum = 0\n",
        "  for c in counts:\n",
        "    sum += c\n",
        "  yield (word, sum)\n",
        "\n",
        "# try to set COMBINER=REDUCER and look at the number of values sent over the network\n",
        "partitioned_output = MapReduceDistributed(INPUTFORMAT, MAP, REDUCE, COMBINER=None)\n",
        "partitioned_output = [(partition_id, list(partition)) for (partition_id, partition) in partitioned_output]\n",
        "partitioned_output"
      ],
      "execution_count": 24,
      "outputs": [
        {
          "output_type": "stream",
          "name": "stdout",
          "text": [
            "56 key-value pairs were sent over a network.\n"
          ]
        },
        {
          "output_type": "execute_result",
          "data": {
            "text/plain": [
              "[(0, [('', 6), ('a', 2), ('banana', 2), ('is', 18)]),\n",
              " (1, [('it', 18), ('what', 10)])]"
            ]
          },
          "metadata": {},
          "execution_count": 24
        }
      ]
    },
    {
      "cell_type": "code",
      "source": [
        "partitioned_output1 = MapReduceDistributed1(INPUTFORMAT, MAP, REDUCE, COMBINER=None)\n",
        "partitioned_output1 = [(partition_id, list(partition)) for (partition_id, partition) in partitioned_output]\n",
        "partitioned_output1"
      ],
      "metadata": {
        "colab": {
          "base_uri": "https://localhost:8080/"
        },
        "id": "HEn7_9SnEuAr",
        "outputId": "c49a7da8-683c-4f87-9d7b-f76dcc7c9a9a"
      },
      "execution_count": 25,
      "outputs": [
        {
          "output_type": "stream",
          "name": "stdout",
          "text": [
            "56 key-value pairs were sent over a network.\n"
          ]
        },
        {
          "output_type": "execute_result",
          "data": {
            "text/plain": [
              "[(0, [('', 6), ('a', 2), ('banana', 2), ('is', 18)]),\n",
              " (1, [('it', 18), ('what', 10)])]"
            ]
          },
          "metadata": {},
          "execution_count": 25
        }
      ]
    },
    {
      "cell_type": "markdown",
      "metadata": {
        "id": "gCJGx8IQ87xS"
      },
      "source": [
        "## TeraSort"
      ]
    },
    {
      "cell_type": "code",
      "metadata": {
        "id": "P2v8v1v_8_YR",
        "colab": {
          "base_uri": "https://localhost:8080/"
        },
        "outputId": "1a352580-a169-4f3b-eab0-9d446decd7a0"
      },
      "source": [
        "import numpy as np\n",
        "\n",
        "input_values = np.random.rand(30)\n",
        "maps = 3\n",
        "reducers = 2\n",
        "min_value = 0.0\n",
        "max_value = 1.0\n",
        "\n",
        "def INPUTFORMAT():\n",
        "  global maps\n",
        "\n",
        "  def RECORDREADER(split):\n",
        "    for value in split:\n",
        "        yield (value, None)\n",
        "\n",
        "  split_size =  int(np.ceil(len(input_values)/maps))\n",
        "  for i in range(0, len(input_values), split_size):\n",
        "    yield RECORDREADER(input_values[i:i+split_size])\n",
        "\n",
        "def MAP(value:int, _):\n",
        "  yield (value, None)\n",
        "\n",
        "def PARTITIONER(key):\n",
        "  global reducers\n",
        "  global max_value\n",
        "  global min_value\n",
        "  bucket_size = (max_value-min_value)/reducers\n",
        "  bucket_id = 0\n",
        "  while((key>(bucket_id+1)*bucket_size) and ((bucket_id+1)*bucket_size<max_value)):\n",
        "    bucket_id += 1\n",
        "  return bucket_id\n",
        "\n",
        "def REDUCE(value:int, _):\n",
        "  yield (None,value)\n",
        "\n",
        "partitioned_output = MapReduceDistributed(INPUTFORMAT, MAP, REDUCE, COMBINER=None, PARTITIONER=PARTITIONER)\n",
        "partitioned_output = [(partition_id, list(partition)) for (partition_id, partition) in partitioned_output]\n",
        "partitioned_output"
      ],
      "execution_count": 26,
      "outputs": [
        {
          "output_type": "stream",
          "name": "stdout",
          "text": [
            "30 key-value pairs were sent over a network.\n"
          ]
        },
        {
          "output_type": "execute_result",
          "data": {
            "text/plain": [
              "[(0,\n",
              "  [(None, 0.016457595372783462),\n",
              "   (None, 0.06099191936309645),\n",
              "   (None, 0.07412856667987566),\n",
              "   (None, 0.0743006810428457),\n",
              "   (None, 0.0984700959553052),\n",
              "   (None, 0.15034535980464125),\n",
              "   (None, 0.16822287892617982),\n",
              "   (None, 0.1787413051634552),\n",
              "   (None, 0.1830105827064047),\n",
              "   (None, 0.18636735238302526),\n",
              "   (None, 0.20305936008758219),\n",
              "   (None, 0.22725236298806728),\n",
              "   (None, 0.23512594785239882),\n",
              "   (None, 0.29204019226273625),\n",
              "   (None, 0.29496658430681943),\n",
              "   (None, 0.2965845501374573),\n",
              "   (None, 0.32814901090679616),\n",
              "   (None, 0.43499549173747876),\n",
              "   (None, 0.4368679594110365),\n",
              "   (None, 0.4397379734234539)]),\n",
              " (1,\n",
              "  [(None, 0.5494127535810139),\n",
              "   (None, 0.5551627151507308),\n",
              "   (None, 0.5693373163267791),\n",
              "   (None, 0.5779062660887198),\n",
              "   (None, 0.638572879273244),\n",
              "   (None, 0.7342159985806295),\n",
              "   (None, 0.7642760391771181),\n",
              "   (None, 0.7785295496290972),\n",
              "   (None, 0.8298209140186441),\n",
              "   (None, 0.921909247727795)])]"
            ]
          },
          "metadata": {},
          "execution_count": 26
        }
      ]
    },
    {
      "cell_type": "code",
      "source": [
        "partitioned_output1 = MapReduceDistributed1(INPUTFORMAT, MAP, REDUCE, COMBINER=None, PARTITIONER=PARTITIONER)\n",
        "partitioned_output1 = [(partition_id, list(partition)) for (partition_id, partition) in partitioned_output]\n",
        "partitioned_output1"
      ],
      "metadata": {
        "colab": {
          "base_uri": "https://localhost:8080/"
        },
        "id": "MPtPKiKjFZQ9",
        "outputId": "08186a15-3d2b-4026-816b-10982983656c"
      },
      "execution_count": 27,
      "outputs": [
        {
          "output_type": "stream",
          "name": "stdout",
          "text": [
            "30 key-value pairs were sent over a network.\n"
          ]
        },
        {
          "output_type": "execute_result",
          "data": {
            "text/plain": [
              "[(0,\n",
              "  [(None, 0.016457595372783462),\n",
              "   (None, 0.06099191936309645),\n",
              "   (None, 0.07412856667987566),\n",
              "   (None, 0.0743006810428457),\n",
              "   (None, 0.0984700959553052),\n",
              "   (None, 0.15034535980464125),\n",
              "   (None, 0.16822287892617982),\n",
              "   (None, 0.1787413051634552),\n",
              "   (None, 0.1830105827064047),\n",
              "   (None, 0.18636735238302526),\n",
              "   (None, 0.20305936008758219),\n",
              "   (None, 0.22725236298806728),\n",
              "   (None, 0.23512594785239882),\n",
              "   (None, 0.29204019226273625),\n",
              "   (None, 0.29496658430681943),\n",
              "   (None, 0.2965845501374573),\n",
              "   (None, 0.32814901090679616),\n",
              "   (None, 0.43499549173747876),\n",
              "   (None, 0.4368679594110365),\n",
              "   (None, 0.4397379734234539)]),\n",
              " (1,\n",
              "  [(None, 0.5494127535810139),\n",
              "   (None, 0.5551627151507308),\n",
              "   (None, 0.5693373163267791),\n",
              "   (None, 0.5779062660887198),\n",
              "   (None, 0.638572879273244),\n",
              "   (None, 0.7342159985806295),\n",
              "   (None, 0.7642760391771181),\n",
              "   (None, 0.7785295496290972),\n",
              "   (None, 0.8298209140186441),\n",
              "   (None, 0.921909247727795)])]"
            ]
          },
          "metadata": {},
          "execution_count": 27
        }
      ]
    },
    {
      "cell_type": "code",
      "metadata": {
        "id": "MQhoJaVZI93G"
      },
      "source": [],
      "execution_count": 27,
      "outputs": []
    },
    {
      "cell_type": "markdown",
      "metadata": {
        "id": "Iy65YJTH99iT"
      },
      "source": [
        "# Упражнения\n",
        "Упражнения взяты из Rajaraman A., Ullman J. D. Mining of massive datasets. – Cambridge University Press, 2011.\n",
        "\n",
        "\n",
        "Для выполнения заданий переопределите функции RECORDREADER, MAP, REDUCE. Для модели распределённой системы может потребоваться переопределение функций PARTITION и COMBINER."
      ]
    },
    {
      "cell_type": "markdown",
      "metadata": {
        "id": "cfvAeZm3S8S8"
      },
      "source": [
        "### Максимальное значение ряда\n",
        "\n",
        "Разработайте MapReduce алгоритм, который находит максимальное число входного списка чисел."
      ]
    },
    {
      "cell_type": "code",
      "metadata": {
        "id": "3GRA1JR-Tkbg",
        "colab": {
          "base_uri": "https://localhost:8080/"
        },
        "outputId": "439250e8-baba-419b-891a-4375dbce21a5"
      },
      "source": [
        "def RECORDREADER(numbers):\n",
        "    for number in numbers:\n",
        "        yield (None, number)\n",
        "\n",
        "def MAP(_, number):\n",
        "    yield (None, number)\n",
        "\n",
        "def REDUCE(_, numbers: Iterator[int]):\n",
        "    max_number = max(numbers)\n",
        "    yield max_number\n",
        "\n",
        "numbers = [10, 5, 8, 20, 15, 12]\n",
        "\n",
        "output = MapReduce(lambda: RECORDREADER(numbers), MAP, REDUCE)\n",
        "max_number = list(output) # В целом можно и next() использовать\n",
        "max_number"
      ],
      "execution_count": 28,
      "outputs": [
        {
          "output_type": "execute_result",
          "data": {
            "text/plain": [
              "[20]"
            ]
          },
          "metadata": {},
          "execution_count": 28
        }
      ]
    },
    {
      "cell_type": "markdown",
      "metadata": {
        "id": "k86bXnqZTk-U"
      },
      "source": [
        "### Арифметическое среднее\n",
        "\n",
        "Разработайте MapReduce алгоритм, который находит арифметическое среднее.\n",
        "\n",
        "$$\\overline{X} = \\frac{1}{n}\\sum_{i=0}^{n} x_i$$\n"
      ]
    },
    {
      "cell_type": "code",
      "metadata": {
        "id": "MPoY5pkfUNZf",
        "colab": {
          "base_uri": "https://localhost:8080/"
        },
        "outputId": "82a40f7e-6568-4831-9d23-e9f9fd537e07"
      },
      "source": [
        "from typing import Iterator\n",
        "\n",
        "def RECORDREADER(numbers):\n",
        "    for i, num in enumerate(numbers):\n",
        "        yield (i, num)\n",
        "\n",
        "def MAP(_, number):\n",
        "    yield (None, number)\n",
        "\n",
        "def REDUCE(_, numbers: Iterator[int]):\n",
        "    total_sum = 0\n",
        "    count = 0\n",
        "    for num in numbers:\n",
        "        total_sum += num\n",
        "        count += 1\n",
        "    if count > 0:\n",
        "        average = total_sum / count\n",
        "        yield average\n",
        "\n",
        "numbers = [10, 20, 30, 40, 15]\n",
        "\n",
        "output = MapReduce(lambda: RECORDREADER(numbers), MAP, REDUCE)\n",
        "output = list(output)\n",
        "output"
      ],
      "execution_count": 29,
      "outputs": [
        {
          "output_type": "execute_result",
          "data": {
            "text/plain": [
              "[23.0]"
            ]
          },
          "metadata": {},
          "execution_count": 29
        }
      ]
    },
    {
      "cell_type": "markdown",
      "metadata": {
        "id": "xanzszhsIlLe"
      },
      "source": [
        "### GroupByKey на основе сортировки\n",
        "\n",
        "Реализуйте groupByKey на основе сортировки, проверьте его работу на примерах"
      ]
    },
    {
      "cell_type": "code",
      "metadata": {
        "id": "hQPn3USsIkEC",
        "colab": {
          "base_uri": "https://localhost:8080/"
        },
        "outputId": "581cf9a0-e712-45e6-af13-4f79ec66e716"
      },
      "source": [
        "# функция groupbykey1 добавлена в самое начало, проверка ее работы находится после каждого примера\n",
        "\n",
        "def groupbykey1(iterable):\n",
        "    sorted_iterable = sorted(iterable, key=lambda x: x[0])\n",
        "    result = []\n",
        "    current_key = None\n",
        "    for key, value in sorted_iterable:\n",
        "        if key != current_key:\n",
        "            if current_key is not None:\n",
        "                result.append((current_key, current_group))\n",
        "            current_key = key\n",
        "            current_group = [value]\n",
        "        else:\n",
        "            current_group.append(value)\n",
        "    result.append((current_key, current_group))\n",
        "    return result\n",
        "\n",
        "\n",
        "input_list = [(1, 'a'), (2, 'b'), (1, 'c'), (3, 'd'), (2, 'e'), (1, 'f')]\n",
        "grouped_list1 = groupbykey(input_list)\n",
        "grouped_list = groupbykey1(input_list)\n",
        "for key, group in grouped_list1:\n",
        "    print(f\"Key: {key}, Group: {group}\")\n",
        "print()\n",
        "for key, group in grouped_list:\n",
        "    print(f\"Key: {key}, Group: {group}\")"
      ],
      "execution_count": 30,
      "outputs": [
        {
          "output_type": "stream",
          "name": "stdout",
          "text": [
            "Key: 1, Group: ['a', 'c', 'f']\n",
            "Key: 2, Group: ['b', 'e']\n",
            "Key: 3, Group: ['d']\n",
            "\n",
            "Key: 1, Group: ['a', 'c', 'f']\n",
            "Key: 2, Group: ['b', 'e']\n",
            "Key: 3, Group: ['d']\n"
          ]
        }
      ]
    },
    {
      "cell_type": "markdown",
      "metadata": {
        "id": "5SgEjCZyGnu6"
      },
      "source": [
        "# Drop duplicates (set construction, unique elements, distinct)\n",
        "\n",
        "Реализуйте распределённую операцию исключения дубликатов"
      ]
    },
    {
      "cell_type": "code",
      "metadata": {
        "id": "okjbyApjGhMt",
        "colab": {
          "base_uri": "https://localhost:8080/"
        },
        "outputId": "e0526ffa-377f-48fc-8fb9-3b88f6a16695"
      },
      "source": [
        "data = [1, 2, 3, 4, 5, 1, 2, 3]  # Дубликаты: 1, 2, 3\n",
        "\n",
        "# set construction\n",
        "def RECORDREADER(data):\n",
        "    for value in data:\n",
        "        yield (None, value)\n",
        "\n",
        "def MAP(_, value):\n",
        "    yield (value, None)\n",
        "\n",
        "def REDUCE(key, _):\n",
        "    yield (key, None)\n",
        "\n",
        "output = MapReduce(lambda: RECORDREADER(data), MAP, REDUCE)\n",
        "output = set([value for value, _ in output])\n",
        "print(output)\n",
        "\n",
        "# unique elements\n",
        "def MAP(_, value):\n",
        "    yield (value, 1)\n",
        "\n",
        "output = MapReduce(lambda: RECORDREADER(data), MAP, REDUCE)\n",
        "unique_elements = [key for key, _ in output]\n",
        "print(unique_elements)\n",
        "\n",
        "# distinct\n",
        "def REDUCE(key, counts):\n",
        "    if sum(counts) == 1:\n",
        "        yield (key, None)\n",
        "\n",
        "output = MapReduce(lambda: RECORDREADER(data), MAP, REDUCE)\n",
        "distinct_values = [key for key, _ in output]\n",
        "print(distinct_values)"
      ],
      "execution_count": 31,
      "outputs": [
        {
          "output_type": "stream",
          "name": "stdout",
          "text": [
            "{1, 2, 3, 4, 5}\n",
            "[1, 2, 3, 4, 5]\n",
            "[4, 5]\n"
          ]
        }
      ]
    },
    {
      "cell_type": "markdown",
      "metadata": {
        "id": "e7sRGoTXuJze"
      },
      "source": [
        "#Операторы реляционной алгебры\n",
        "### Selection (Выборка)\n",
        "\n",
        "**The Map Function**: Для  каждого кортежа $t \\in R$ вычисляется истинность предиката $C$. В случае истины создаётся пара ключ-значение $(t, t)$. В паре ключ и значение одинаковы, равны $t$.\n",
        "\n",
        "**The Reduce Function:** Роль функции Reduce выполняет функция идентичности, которая возвращает то же значение, что получила на вход.\n",
        "\n"
      ]
    },
    {
      "cell_type": "code",
      "metadata": {
        "colab": {
          "base_uri": "https://localhost:8080/"
        },
        "outputId": "84ebffe7-86b3-43d5-9b6e-87cf0e65074c",
        "id": "SIw_mNduwPFK"
      },
      "source": [
        "# Пример данных, аналогичных записям в базе данных\n",
        "db_data = [\n",
        "    {'id': 1, 'name': 'John', 'age': 25},\n",
        "    {'id': 2, 'name': 'Alice', 'age': 25},\n",
        "    {'id': 3, 'name': 'Bob', 'age': 35}\n",
        "]\n",
        "\n",
        "# Определение функции RECORDREADER\n",
        "def RECORDREADER():\n",
        "    for record in db_data:\n",
        "        yield (record['id'], record)  # Используем 'id' в качестве ключа, предполагая, что это уникальный и хешируемый идентификатор\n",
        "\n",
        "# Операция селекции\n",
        "def MAP(_, record):\n",
        "    if record['age'] == 25:  # Проверяем значение атрибута 'age'\n",
        "        yield (record['id'], record)  # Возвращаем кортеж, удовлетворяющий условию\n",
        "\n",
        "# Функция reduce для операции селекции\n",
        "def REDUCE(key, tuples):\n",
        "    for record in tuples:\n",
        "        yield record  # Возвращаем только записи, удовлетворяющие условию\n",
        "\n",
        "# Вызываем MapReduce для операции селекции\n",
        "output = MapReduce(RECORDREADER, MAP, REDUCE)\n",
        "\n",
        "# Выводим результат операции селекции\n",
        "selected_values = list(output)\n",
        "print(selected_values)\n"
      ],
      "execution_count": 32,
      "outputs": [
        {
          "output_type": "stream",
          "name": "stdout",
          "text": [
            "[{'id': 1, 'name': 'John', 'age': 25}, {'id': 2, 'name': 'Alice', 'age': 25}]\n"
          ]
        }
      ]
    },
    {
      "cell_type": "markdown",
      "source": [
        "Со вложенными кортежами"
      ],
      "metadata": {
        "id": "GWqZlpLNmSCc"
      }
    },
    {
      "cell_type": "code",
      "source": [
        "from typing import NamedTuple\n",
        "\n",
        "# Определение именованного кортежа для представления записей в базе данных\n",
        "class Record(NamedTuple):\n",
        "    id: int\n",
        "    name: str\n",
        "    age: int\n",
        "\n",
        "def RECORDREADER():\n",
        "    for record in db_data:\n",
        "        yield (record.id, record)  # Каждая запись представляется парой (id, record)\n",
        "\n",
        "# Операция селекции\n",
        "def MAP(_, record):\n",
        "    if record.age == 25:  # Проверяем значение атрибута 'name'\n",
        "        yield record, record  # Возвращаем кортеж с ключом None и значением - именованным кортежем Record\n",
        "\n",
        "# Функция reduce для операции селекции\n",
        "def REDUCE(key, tuples):\n",
        "    for record in tuples:\n",
        "        yield record  # Возвращаем все кортежи из списка\n",
        "\n",
        "# Пример данных, аналогичных записям в базе данных\n",
        "db_data = [\n",
        "    Record(id = 1, name = 'John', age = 25),\n",
        "    Record(id = 2, name = 'Alice', age = 25),\n",
        "    Record(id = 3, name = 'Bob', age = 35)\n",
        "]\n",
        "\n",
        "# Вызываем MapReduce для операции селекции\n",
        "output = MapReduce(RECORDREADER, MAP, REDUCE)\n",
        "\n",
        "# Выводим результат операции селекции (только значения)\n",
        "selected_values = [tuple(record) for record in output]\n",
        "selected_values"
      ],
      "metadata": {
        "colab": {
          "base_uri": "https://localhost:8080/"
        },
        "id": "2f-qzF8U56yB",
        "outputId": "682bbee5-1f91-4a25-fe08-8bd774ace697"
      },
      "execution_count": 33,
      "outputs": [
        {
          "output_type": "execute_result",
          "data": {
            "text/plain": [
              "[(1, 'John', 25), (2, 'Alice', 25)]"
            ]
          },
          "metadata": {},
          "execution_count": 33
        }
      ]
    },
    {
      "cell_type": "markdown",
      "metadata": {
        "id": "w27Ca-_Ku85V"
      },
      "source": [
        "### Projection (Проекция)\n",
        "\n",
        "Проекция на множество атрибутов $S$.\n",
        "\n",
        "**The Map Function:** Для каждого кортежа $t \\in R$ создайте кортеж $t′$, исключая  из $t$ те значения, атрибуты которых не принадлежат  $S$. Верните пару $(t′, t′)$.\n",
        "\n",
        "**The Reduce Function:** Для каждого ключа $t′$, созданного любой Map задачей, вы получаете одну или несколько пар $(t′, t′)$. Reduce функция преобразует $(t′, [t′, t′, . . . , t′])$ в $(t′, t′)$, так, что для ключа $t′$ возвращается одна пара  $(t′, t′)$."
      ]
    },
    {
      "cell_type": "code",
      "metadata": {
        "id": "BEvuY4GqvhS6",
        "colab": {
          "base_uri": "https://localhost:8080/"
        },
        "outputId": "b3cf0684-e95e-4d8e-b4c3-67fa0f96c959"
      },
      "source": [
        "# Пример данных, аналогичных записям в базе данных\n",
        "db_data = [\n",
        "    {'id': 1, 'name': 'John', 'age': 25},\n",
        "    {'id': 2, 'name': 'Alice', 'age': 25},\n",
        "    {'id': 3, 'name': 'Bob', 'age': 35}\n",
        "]\n",
        "\n",
        "# Операция проекции\n",
        "def MAP(_, record):\n",
        "    attributes_to_keep = ['id', 'name']  # Имена атрибутов, которые мы хотим оставить\n",
        "    projected_record = tuple(record[attr] for attr in attributes_to_keep)\n",
        "    yield (record['id'], projected_record)  # Используем id в качестве ключа\n",
        "\n",
        "# Функция reduce для операции проекции\n",
        "def REDUCE(key, records):\n",
        "    yield records[0]  # Возвращаем первый кортеж из списка кортежей с одинаковым ключом\n",
        "\n",
        "# Функция RecordReader для чтения данных из списка db_data\n",
        "def RECORDREADER():\n",
        "    for record in db_data:\n",
        "        yield (record['id'], record)  # Каждая запись представляется парой (id, record)\n",
        "\n",
        "# Вызываем MapReduce для операции проекции\n",
        "output = MapReduce(RECORDREADER, MAP, REDUCE)\n",
        "\n",
        "# Выводим результат операции проекции\n",
        "selected_values = list(output)\n",
        "selected_values"
      ],
      "execution_count": 34,
      "outputs": [
        {
          "output_type": "execute_result",
          "data": {
            "text/plain": [
              "[(1, 'John'), (2, 'Alice'), (3, 'Bob')]"
            ]
          },
          "metadata": {},
          "execution_count": 34
        }
      ]
    },
    {
      "cell_type": "code",
      "source": [
        "from typing import NamedTuple\n",
        "\n",
        "# Определение именованного кортежа для представления записей в базе данных\n",
        "class Record(NamedTuple):\n",
        "    id: int\n",
        "    name: str\n",
        "    age: int\n",
        "\n",
        "# Определение функции RECORDREADER\n",
        "def RECORDREADER():\n",
        "    for record in db_data:\n",
        "        yield (record.id, record)  # Каждая запись представляется парой (None, record)\n",
        "\n",
        "# Операция проекции\n",
        "def MAP(_, record):\n",
        "    projected_record = (record.id, record.name)\n",
        "    yield (projected_record, projected_record)\n",
        "\n",
        "# Функция reduce для операции проекции\n",
        "def REDUCE(key, records):\n",
        "    yield records[0]  # Возвращаем первый кортеж из списка кортежей с одинаковым ключом\n",
        "\n",
        "# Пример данных, аналогичных записям в базе данных\n",
        "db_data = [\n",
        "    Record(id=1, name='John', age=25),\n",
        "    Record(id=2, name='Alice', age=25),\n",
        "    Record(id=3, name='Bob', age=35)\n",
        "]\n",
        "\n",
        "# Вызываем MapReduce для операции проекции\n",
        "output = MapReduce(RECORDREADER, MAP, REDUCE)\n",
        "\n",
        "# Выводим результат операции проекции\n",
        "selected_values = list(output)\n",
        "selected_values\n"
      ],
      "metadata": {
        "colab": {
          "base_uri": "https://localhost:8080/"
        },
        "id": "4CWSZzTp_OxR",
        "outputId": "1bc096a7-88ca-4e88-a9d0-8e7e6c9d15ad"
      },
      "execution_count": 35,
      "outputs": [
        {
          "output_type": "execute_result",
          "data": {
            "text/plain": [
              "[(1, 'John'), (2, 'Alice'), (3, 'Bob')]"
            ]
          },
          "metadata": {},
          "execution_count": 35
        }
      ]
    },
    {
      "cell_type": "markdown",
      "source": [
        "Со вложенными кортежами"
      ],
      "metadata": {
        "id": "JvVBTwxWmPD6"
      }
    },
    {
      "cell_type": "code",
      "source": [
        "# Определение именованного кортежа для представления записей в базе данных\n",
        "class Record(NamedTuple):\n",
        "    id: int\n",
        "    name: str\n",
        "    age: int\n",
        "\n",
        "def RECORDREADER():\n",
        "    for record in db_data:\n",
        "        yield (record.id, record)\n",
        "\n",
        "# Операция проекции\n",
        "def MAP(_, record):\n",
        "    projected_record = (record.id, record.name)  # Изменяем формат проецируемого кортежа\n",
        "    yield (record.id, projected_record)  # Используем id в качестве ключа\n",
        "\n",
        "# Функция reduce для операции проекции\n",
        "def REDUCE(key, records):\n",
        "    for _, projected_record in records:\n",
        "        yield projected_record  # Возвращаем проекции из каждой группы\n",
        "\n",
        "# Пример данных, аналогичных записям в базе данных\n",
        "db_data = [\n",
        "    Record(id=1, name='John', age=25),\n",
        "    Record(id=2, name='Alice', age=25),\n",
        "    Record(id=3, name='Bob', age=35)\n",
        "]\n",
        "\n",
        "# Вызываем MapReduce для операции проекции\n",
        "output = MapReduce(RECORDREADER, MAP, REDUCE)\n",
        "\n",
        "# Выводим результат операции проекции\n",
        "selected_values = list(output)\n",
        "selected_values"
      ],
      "metadata": {
        "colab": {
          "base_uri": "https://localhost:8080/"
        },
        "id": "i2GN3a9gkAHx",
        "outputId": "25a3c470-64f1-4e9c-d890-b91389beabbb"
      },
      "execution_count": 36,
      "outputs": [
        {
          "output_type": "execute_result",
          "data": {
            "text/plain": [
              "['John', 'Alice', 'Bob']"
            ]
          },
          "metadata": {},
          "execution_count": 36
        }
      ]
    },
    {
      "cell_type": "markdown",
      "metadata": {
        "id": "7gau6lKXvn2R"
      },
      "source": [
        "### Union (Объединение)\n",
        "\n",
        "**The Map Function:** Превратите каждый входной кортеж $t$ в пару ключ-значение $(t, t)$.\n",
        "\n",
        "**The Reduce Function:** С каждым ключом $t$ будет ассоциировано одно или два значений. В обоих случаях создайте $(t, t)$ в качестве выходного значения."
      ]
    },
    {
      "cell_type": "code",
      "metadata": {
        "id": "Sns7a5agv3nw",
        "colab": {
          "base_uri": "https://localhost:8080/"
        },
        "outputId": "d1a28768-fd85-4bdc-93fa-0fbb282bb998"
      },
      "source": [
        "# Определение функции recordreader для объединения данных из таблиц R и S\n",
        "def RECORDREADER():\n",
        "    for record in table_R + table_S:\n",
        "        yield (None, record)  # Превращаем каждую запись в пару (None, record)\n",
        "\n",
        "# Определение функции map для операции объединения\n",
        "def MAP(_, record):\n",
        "    yield (record, record)  # Превращаем каждую запись в пару ключ-значение (t, t)\n",
        "\n",
        "# Определение функции reduce для операции объединения\n",
        "def REDUCE(key, values):\n",
        "    for value in set(values):\n",
        "        yield (value)\n",
        "\n",
        "# Пример данных для таблиц R и S\n",
        "table_R = [\n",
        "    (1, 'John'),\n",
        "    (2, 'Alice'),\n",
        "    (5, 'Bob')\n",
        "]\n",
        "\n",
        "table_S = [\n",
        "    (1, 'John'),\n",
        "    (4, 'Los Angeles'),\n",
        "    (6, 'Chicago')\n",
        "]\n",
        "\n",
        "# Выполнение операции MapReduce\n",
        "output = MapReduce(RECORDREADER, MAP, REDUCE)\n",
        "\n",
        "# Получение результата операции Union\n",
        "result = list(output)\n",
        "\n",
        "# Вывод результата\n",
        "result\n"
      ],
      "execution_count": 37,
      "outputs": [
        {
          "output_type": "execute_result",
          "data": {
            "text/plain": [
              "[(1, 'John'), (2, 'Alice'), (5, 'Bob'), (4, 'Los Angeles'), (6, 'Chicago')]"
            ]
          },
          "metadata": {},
          "execution_count": 37
        }
      ]
    },
    {
      "cell_type": "code",
      "source": [
        "# Пример данных для таблиц R и S\n",
        "table_R = [\n",
        "    (1, 'John'),\n",
        "    (2, 'Alice'),\n",
        "    (5, 'Bob')\n",
        "]\n",
        "\n",
        "table_S = [\n",
        "    (1, 'John'),\n",
        "    (4, 'Los Angeles'),\n",
        "    (6, 'Chicago')\n",
        "]\n",
        "\n",
        "# Определение функции recordreader\n",
        "def RECORDREADER():\n",
        "    for record in table_R + table_S:\n",
        "        yield (None, record)  # Каждая запись представляется парой (None, record)\n",
        "\n",
        "# Определение функции map для объединения данных из таблиц R и S\n",
        "def MAP(_, record):\n",
        "    yield (record, record)  # Просто возвращаем каждую запись как пару ключ-значение\n",
        "\n",
        "# Определение функции reduce для операции Union\n",
        "def REDUCE(key, values):\n",
        "    unique_values = set()  # Создаем множество для хранения уникальных значений\n",
        "    for value in values:\n",
        "        # Если значение уже есть в множестве, пропускаем его\n",
        "        if value[1] in unique_values:\n",
        "            continue\n",
        "        unique_values.add(value[1])  # Добавляем значение в множество\n",
        "        yield value  # Возвращаем уникальное значение\n",
        "\n",
        "# Выполнение операции MapReduce\n",
        "output = MapReduce(RECORDREADER, MAP, REDUCE)\n",
        "\n",
        "# Получение результата операции Union\n",
        "result = list(output)\n",
        "\n",
        "# Вывод результата\n",
        "result\n"
      ],
      "metadata": {
        "colab": {
          "base_uri": "https://localhost:8080/"
        },
        "id": "GjgZIHeVoJD1",
        "outputId": "211ebd3f-e385-4308-ad94-21665b018ec8"
      },
      "execution_count": 38,
      "outputs": [
        {
          "output_type": "execute_result",
          "data": {
            "text/plain": [
              "[(1, 'John'), (2, 'Alice'), (5, 'Bob'), (4, 'Los Angeles'), (6, 'Chicago')]"
            ]
          },
          "metadata": {},
          "execution_count": 38
        }
      ]
    },
    {
      "cell_type": "markdown",
      "source": [
        "Со вложенными классами"
      ],
      "metadata": {
        "id": "o8v2X0f9d9BV"
      }
    },
    {
      "cell_type": "code",
      "source": [
        "from typing import NamedTuple\n",
        "\n",
        "class Record(NamedTuple):\n",
        "    id: int\n",
        "    name: str\n",
        "    age: int\n",
        "\n",
        "def RECORDREADER():\n",
        "    for record in table_R + table_S:\n",
        "        yield (None, record)\n",
        "\n",
        "def MAP(_, record):\n",
        "    yield (record, record)\n",
        "\n",
        "def REDUCE(key, values):\n",
        "    for value in set(values):\n",
        "        yield (value)\n",
        "\n",
        "table_R = [\n",
        "    Record(id=1, name='John', age=20),\n",
        "    Record(id=2, name='Alice', age=25),\n",
        "    Record(id=3, name='Bob', age=30)\n",
        "]\n",
        "\n",
        "table_S = [\n",
        "    Record(id=4, name='Charlie', age=22),\n",
        "    Record(id=5, name='David', age=27),\n",
        "    Record(id=6, name='Emma', age=32)\n",
        "]\n",
        "\n",
        "output = MapReduce(RECORDREADER, MAP, REDUCE)\n",
        "result = list(output)\n",
        "\n",
        "# Преобразование результатов к нужному формату\n",
        "result = [tuple(record) for record in result]\n",
        "\n",
        "# Вывод результата\n",
        "result\n"
      ],
      "metadata": {
        "colab": {
          "base_uri": "https://localhost:8080/"
        },
        "id": "znetiTjqdusO",
        "outputId": "b2cf40b0-646c-4b1a-aa89-45d4dcbba4f5"
      },
      "execution_count": 39,
      "outputs": [
        {
          "output_type": "execute_result",
          "data": {
            "text/plain": [
              "[(1, 'John', 20),\n",
              " (2, 'Alice', 25),\n",
              " (3, 'Bob', 30),\n",
              " (4, 'Charlie', 22),\n",
              " (5, 'David', 27),\n",
              " (6, 'Emma', 32)]"
            ]
          },
          "metadata": {},
          "execution_count": 39
        }
      ]
    },
    {
      "cell_type": "markdown",
      "metadata": {
        "id": "dQ8TuEbjv4J8"
      },
      "source": [
        "### Intersection (Пересечение)\n",
        "\n",
        "**The Map Function:** Превратите каждый кортеж $t$ в пары ключ-значение $(t, t)$.\n",
        "\n",
        "**The Reduce Function:** Если для ключа $t$ есть список из двух элементов $[t, t]$ $-$ создайте пару $(t, t)$. Иначе, ничего не создавайте."
      ]
    },
    {
      "cell_type": "code",
      "metadata": {
        "id": "XKlBZh4IwERR",
        "colab": {
          "base_uri": "https://localhost:8080/"
        },
        "outputId": "a04b2415-f040-4ae6-80c1-1e4b5a07ac2e"
      },
      "source": [
        "# Определение функции recordreader\n",
        "def RECORDREADER():\n",
        "    for record in table_R + table_S:\n",
        "        yield (None, record)  # Каждая запись представляется парой (None, record)\n",
        "\n",
        "# Map Function\n",
        "def MAP(_, record):\n",
        "    # Emit each tuple as a key-value pair with the tuple itself as both key and value\n",
        "    yield (record[1:], record)\n",
        "\n",
        "# Reduce Function\n",
        "def REDUCE(key, values):\n",
        "    # Check if there are two records with matching non-ID attributes for the key\n",
        "    if len(values) == 2 and values[0][1:] == values[1][1:]:\n",
        "        # If such records exist, emit one of them as the result\n",
        "        yield (values[0])\n",
        "\n",
        "# Example data for tables R and S\n",
        "table_R = [\n",
        "    (1, 'John'),\n",
        "    (2, 'Alice'),\n",
        "    (3, 'Bob')\n",
        "]\n",
        "\n",
        "table_S = [\n",
        "    (12, 'Alice'),\n",
        "    (3, 'Bob'),\n",
        "    (4, 'Charlie')\n",
        "]\n",
        "\n",
        "# Perform MapReduce operation\n",
        "output = MapReduce(RECORDREADER, MAP, REDUCE)\n",
        "\n",
        "# Get the result of the intersection operation\n",
        "result = list(output)\n",
        "\n",
        "# Display the result\n",
        "result\n"
      ],
      "execution_count": 40,
      "outputs": [
        {
          "output_type": "execute_result",
          "data": {
            "text/plain": [
              "[(2, 'Alice'), (3, 'Bob')]"
            ]
          },
          "metadata": {},
          "execution_count": 40
        }
      ]
    },
    {
      "cell_type": "markdown",
      "source": [
        "Со вложенными кортежами"
      ],
      "metadata": {
        "id": "lZ7OFynKhA04"
      }
    },
    {
      "cell_type": "code",
      "source": [
        "from typing import NamedTuple\n",
        "\n",
        "class Record(NamedTuple):\n",
        "    id: int\n",
        "    name: str\n",
        "    age: int\n",
        "\n",
        "# Определение функции recordreader для объединения данных из таблиц R и S\n",
        "def RECORDREADER():\n",
        "    for record in table_R + table_S:\n",
        "        yield (None, Record(id=record[0], name=record[1], age=record[2]))  # Каждая запись представляется парой (None, Record)\n",
        "\n",
        "# Map Function\n",
        "def MAP(_, record):\n",
        "    # Emit each tuple as a key-value pair with the tuple itself as both key and value\n",
        "    yield ((record.name, record.age), record)\n",
        "\n",
        "# Reduce Function\n",
        "def REDUCE(key, values):\n",
        "    # Check if there are two records with matching non-ID attributes for the key\n",
        "    if len(values) == 2 and values[0][1:] == values[1][1:]:\n",
        "        # If such records exist, emit one of them as the result\n",
        "        yield (values[0][1:])\n",
        "\n",
        "# Example data for tables R and S\n",
        "table_R = [\n",
        "    Record(id=1, name='John', age=25),\n",
        "    Record(id=2, name='Alice', age=30),\n",
        "    Record(id=3, name='Bob', age=35)\n",
        "]\n",
        "\n",
        "table_S = [\n",
        "    Record(id=12, name='Alice', age=10),\n",
        "    Record(id=3, name='Bob', age=35),\n",
        "    Record(id=4, name='Charlie', age=40)\n",
        "]\n",
        "\n",
        "# Perform MapReduce operation\n",
        "output = MapReduce(RECORDREADER, MAP, REDUCE)\n",
        "\n",
        "# Get the result of the intersection operation\n",
        "result = list(output)\n",
        "\n",
        "# Display the result\n",
        "result\n"
      ],
      "metadata": {
        "colab": {
          "base_uri": "https://localhost:8080/"
        },
        "id": "1MHF8JLzhAaO",
        "outputId": "1980aa91-edc7-4f05-b32d-3e1fb71266ba"
      },
      "execution_count": 41,
      "outputs": [
        {
          "output_type": "execute_result",
          "data": {
            "text/plain": [
              "[('Bob', 35)]"
            ]
          },
          "metadata": {},
          "execution_count": 41
        }
      ]
    },
    {
      "cell_type": "markdown",
      "metadata": {
        "id": "AVOpqoY3wE5k"
      },
      "source": [
        "### Difference (Разница)\n",
        "\n",
        "**The Map Function:** Для кортежа $t \\in R$, создайте пару $(t, R)$, и для кортежа $t \\in S$, создайте пару $(t, S)$. Задумка заключается в том, чтобы значение пары было именем отношения $R$ or $S$, которому принадлежит кортеж (а лучше, единичный бит, по которому можно два отношения различить $R$ or $S$), а не весь набор атрибутов отношения.\n",
        "\n",
        "**The Reduce Function:** Для каждого ключа $t$, если соответствующее значение является списком $[R]$, создайте пару $(t, t)$. В иных случаях не предпринимайте действий."
      ]
    },
    {
      "cell_type": "code",
      "metadata": {
        "id": "QE_AC09lwZIZ",
        "colab": {
          "base_uri": "https://localhost:8080/"
        },
        "outputId": "756a8e46-130f-43f3-da6b-b09d30bed960"
      },
      "source": [
        "# Функция Map\n",
        "def MAP(_, record):\n",
        "    # Создаем пару (t, R) для кортежей из R и пару (t, S) для кортежей из S\n",
        "    if record[1] == 'R':\n",
        "        yield (record[0], 'R')\n",
        "    elif record[1] == 'S':\n",
        "        yield (record[0], 'S')\n",
        "\n",
        "# Функция Reduce\n",
        "def REDUCE(key, values):\n",
        "    # Если значение соответствует только одному отношению, создаем пару (t, t)\n",
        "    if len(values) == 1:\n",
        "        yield (key)\n",
        "\n",
        "# Функция RECORDREADER\n",
        "def RECORDREADER():\n",
        "    # Создаем пару (None, (record, 'R')) для каждой записи из таблицы R\n",
        "    for record in table_R:\n",
        "        yield (None, (record, 'R'))\n",
        "\n",
        "    # Создаем пару (None, (record, 'S')) для каждой записи из таблицы S\n",
        "    for record in table_S:\n",
        "        yield (None, (record, 'S'))\n",
        "\n",
        "# Пример данных для таблиц R и S\n",
        "table_R = [\n",
        "    (1, 'John'),\n",
        "    (2, 'Alice'),\n",
        "    (3, 'Bob')\n",
        "]\n",
        "\n",
        "table_S = [\n",
        "    (2, 'Alice'),\n",
        "    (3, 'Bob'),\n",
        "    (4, 'Charlie')\n",
        "]\n",
        "\n",
        "# Выполняем операцию MapReduce\n",
        "output = MapReduce(RECORDREADER, MAP, REDUCE)\n",
        "\n",
        "# Получаем результат операции разницы\n",
        "result = list(output)\n",
        "\n",
        "# Выводим результат\n",
        "result\n"
      ],
      "execution_count": 42,
      "outputs": [
        {
          "output_type": "execute_result",
          "data": {
            "text/plain": [
              "[(1, 'John'), (4, 'Charlie')]"
            ]
          },
          "metadata": {},
          "execution_count": 42
        }
      ]
    },
    {
      "cell_type": "markdown",
      "source": [
        "Со вложенными кортежами"
      ],
      "metadata": {
        "id": "u8E_i-C-L73Z"
      }
    },
    {
      "cell_type": "code",
      "source": [
        "from typing import NamedTuple\n",
        "\n",
        "class Record(NamedTuple):\n",
        "    id: int\n",
        "    name: str\n",
        "\n",
        "def MAP(_, record):\n",
        "    # Создаем пару (name, R) для кортежей из R и пару (name, S) для кортежей из S\n",
        "    if record[1] == 'R':\n",
        "        yield (record[0].name, 'R')\n",
        "    elif record[1] == 'S':\n",
        "        yield (record[0].name, 'S')\n",
        "\n",
        "def REDUCE(key, values):\n",
        "    # Если значение соответствует только одному отношению, создаем пару (name, name)\n",
        "    if len(values) == 1:\n",
        "        yield (key)\n",
        "\n",
        "def RECORDREADER():\n",
        "    # Создаем пару (None, (record, 'R')) для каждой записи из таблицы R\n",
        "    for record in table_R:\n",
        "        yield (None, (record, 'R'))\n",
        "\n",
        "    # Создаем пару (None, (record, 'S')) для каждой записи из таблицы S\n",
        "    for record in table_S:\n",
        "        yield (None, (record, 'S'))\n",
        "\n",
        "# Пример данных для таблиц R и S\n",
        "table_R = [\n",
        "    Record(id=1, name='John'),\n",
        "    Record(id=2, name='Alice'),\n",
        "    Record(id=3, name='Bob')\n",
        "]\n",
        "\n",
        "table_S = [\n",
        "    Record(id=12, name='Alice'),\n",
        "    Record(id=3, name='Bob'),\n",
        "    Record(id=4, name='Charlie')\n",
        "]\n",
        "\n",
        "# Выполняем операцию MapReduce\n",
        "output = MapReduce(RECORDREADER, MAP, REDUCE)\n",
        "\n",
        "# Получаем результат операции разницы\n",
        "result = list(output)\n",
        "\n",
        "# Выводим результат\n",
        "print(result)\n"
      ],
      "metadata": {
        "colab": {
          "base_uri": "https://localhost:8080/"
        },
        "id": "6tRUfbc_L_Xn",
        "outputId": "cc033146-bdc1-47f9-e062-2906346ead75"
      },
      "execution_count": 43,
      "outputs": [
        {
          "output_type": "stream",
          "name": "stdout",
          "text": [
            "['John', 'Charlie']\n"
          ]
        }
      ]
    },
    {
      "cell_type": "markdown",
      "metadata": {
        "id": "j8I58V2VwhSm"
      },
      "source": [
        "### Natural Join\n",
        "\n",
        "**The Map Function:** Для каждого кортежа $(a, b)$ отношения $R$, создайте пару $(b,(R, a))$. Для каждого кортежа $(b, c)$ отношения $S$, создайте пару $(b,(S, c))$.\n",
        "\n",
        "**The Reduce Function:** Каждый ключ $b$ будет асоциирован со списком пар, которые принимают форму либо $(R, a)$, либо $(S, c)$. Создайте все пары, одни, состоящие из  первого компонента $R$, а другие, из первого компонента $S$, то есть $(R, a)$ и $(S, c)$. На выходе вы получаете последовательность пар ключ-значение из списков ключей и значений. Ключ не нужен. Каждое значение, это тройка $(a, b, c)$ такая, что $(R, a)$ и $(S, c)$ это принадлежат входному списку значений."
      ]
    },
    {
      "cell_type": "code",
      "source": [
        "# Define the map function for both tables R and S\n",
        "def MAP(_, record):\n",
        "    record_id = record['id']\n",
        "    if 'name' in record:\n",
        "        yield (record_id, ('R', record))  # Emit a key-value pair with table name 'R'\n",
        "    elif 'city' in record:\n",
        "        yield (record_id, ('S', record))  # Emit a key-value pair with table name 'S'\n",
        "\n",
        "# Define the reduce function for the natural join operation\n",
        "def REDUCE(key, values):\n",
        "    records_R = [record for table, record in values if table == 'R']  # Get records from table R\n",
        "    records_S = [record for table, record in values if table == 'S']  # Get records from table S\n",
        "    for record_R in records_R:\n",
        "        for record_S in records_S:\n",
        "            yield (record_R | record_S)  # Emit the combined records as the natural join\n",
        "\n",
        "# Sample data for tables R and S\n",
        "table_R = [\n",
        "    {'id': 1, 'name': 'John', 'age': 30},\n",
        "    {'id': 2, 'name': 'Alice', 'age': 25},\n",
        "    {'id': 3, 'name': 'Bob', 'age': 35}\n",
        "]\n",
        "\n",
        "table_S = [\n",
        "    {'id': 1, 'city': 'New York'},\n",
        "    {'id': 2, 'city': 'Los Angeles'},\n",
        "    {'id': 4, 'city': 'Chicago'}\n",
        "]\n",
        "\n",
        "# Combine the records from both tables into a single list\n",
        "combined_data = table_R + table_S\n",
        "\n",
        "# Perform the MapReduce operation\n",
        "output = MapReduce(lambda: [(None, record) for record in combined_data], MAP, REDUCE)\n",
        "\n",
        "# Retrieve the result of the natural join operation\n",
        "result = list(output)\n",
        "\n",
        "# Display the result\n",
        "result\n"
      ],
      "metadata": {
        "colab": {
          "base_uri": "https://localhost:8080/"
        },
        "id": "fkdy9qDkk-BH",
        "outputId": "e78249f7-5188-4a47-c096-e42fe9108b45"
      },
      "execution_count": 44,
      "outputs": [
        {
          "output_type": "execute_result",
          "data": {
            "text/plain": [
              "[{'id': 1, 'name': 'John', 'age': 30, 'city': 'New York'},\n",
              " {'id': 2, 'name': 'Alice', 'age': 25, 'city': 'Los Angeles'}]"
            ]
          },
          "metadata": {},
          "execution_count": 44
        }
      ]
    },
    {
      "cell_type": "code",
      "source": [
        "# Define the map function for both tables R and S\n",
        "def MAP(_, record):\n",
        "    record_id = record[0]  # Extracting the id from the record tuple\n",
        "    if len(record) == 3:  # Checking if it's a record from table R\n",
        "        yield (record_id, ('R', record))  # Emitting a key-value pair with table name 'R'\n",
        "    elif len(record) == 2:  # Checking if it's a record from table S\n",
        "        yield (record_id, ('S', record))  # Emitting a key-value pair with table name 'S'\n",
        "\n",
        "# Define the reduce function for the natural join operation\n",
        "def REDUCE(key, values):\n",
        "    records_R = [record for table, record in values if table == 'R']  # Get records from table R\n",
        "    records_S = [record for table, record in values if table == 'S']  # Get records from table S\n",
        "    for record_R in records_R:\n",
        "        for record_S in records_S:\n",
        "            yield (record_R + record_S[1:])  # Emit the combined records as the natural join\n",
        "\n",
        "# Function to read records from tables R and S\n",
        "def RECORDREADER():\n",
        "    # Yielding records from table R\n",
        "    for record in table_R:\n",
        "        yield (None, record)\n",
        "\n",
        "    # Yielding records from table S\n",
        "    for record in table_S:\n",
        "        yield (None, record)\n",
        "\n",
        "# Sample data for tables R and S\n",
        "table_R = [\n",
        "    (1, 'John', 30),\n",
        "    (2, 'Alice', 25),\n",
        "    (3, 'Bob', 35)\n",
        "]\n",
        "\n",
        "table_S = [\n",
        "    (1, 'New York'),\n",
        "    (2, 'Los Angeles'),\n",
        "    (4, 'Chicago')\n",
        "]\n",
        "\n",
        "# Perform the MapReduce operation\n",
        "output = MapReduce(RECORDREADER, MAP, REDUCE)\n",
        "\n",
        "# Retrieve the result of the natural join operation\n",
        "result = list(output)\n",
        "\n",
        "# Display the result\n",
        "result\n"
      ],
      "metadata": {
        "colab": {
          "base_uri": "https://localhost:8080/"
        },
        "id": "j-mbbvdnwDKM",
        "outputId": "431bc459-4ed0-48da-8b99-709d7a0eed69"
      },
      "execution_count": 45,
      "outputs": [
        {
          "output_type": "execute_result",
          "data": {
            "text/plain": [
              "[(1, 'John', 30, 'New York'), (2, 'Alice', 25, 'Los Angeles')]"
            ]
          },
          "metadata": {},
          "execution_count": 45
        }
      ]
    },
    {
      "cell_type": "markdown",
      "source": [
        "Со вложенными кортежами"
      ],
      "metadata": {
        "id": "84WGCc4DpZYa"
      }
    },
    {
      "cell_type": "code",
      "source": [
        "from typing import NamedTuple\n",
        "\n",
        "# Define NamedTuple for records in table R\n",
        "class RecordR(NamedTuple):\n",
        "    id: int\n",
        "    name: str\n",
        "    age: int\n",
        "\n",
        "# Define NamedTuple for records in table S\n",
        "class RecordS(NamedTuple):\n",
        "    id: int\n",
        "    city: str\n",
        "\n",
        "# Define the map function for both tables R and S\n",
        "def MAP(_, record):\n",
        "    record_id = record[0]  # Extracting the id from the record tuple\n",
        "    if len(record) == 3:  # Checking if it's a record from table R\n",
        "        yield (record_id, ('R', record))  # Emitting a key-value pair with table name 'R'\n",
        "    elif len(record) == 2:  # Checking if it's a record from table S\n",
        "        yield (record_id, ('S', record))  # Emitting a key-value pair with table name 'S'\n",
        "\n",
        "# Define the reduce function for the natural join operation\n",
        "def REDUCE(key, values):\n",
        "    records_R = [record for table, record in values if table == 'R']  # Get records from table R\n",
        "    records_S = [record for table, record in values if table == 'S']  # Get records from table S\n",
        "    for record_R in records_R:\n",
        "        for record_S in records_S:\n",
        "            yield (record_R + record_S[1:])  # Emit the combined records as the natural join\n",
        "\n",
        "# Function to read records from tables R and S\n",
        "def RECORDREADER():\n",
        "    # Yielding records from table R\n",
        "    for record in table_R:\n",
        "        yield (None, record)\n",
        "\n",
        "    # Yielding records from table S\n",
        "    for record in table_S:\n",
        "        yield (None, record)\n",
        "\n",
        "# Sample data for tables R and S\n",
        "table_R = [\n",
        "    RecordR(id=1, name='John', age=30),\n",
        "    RecordR(id=2, name='Alice', age=25),\n",
        "    RecordR(id=3, name='Bob', age=35)\n",
        "]\n",
        "\n",
        "table_S = [\n",
        "    RecordS(id=1, city='New York'),\n",
        "    RecordS(id=2, city='Los Angeles'),\n",
        "    RecordS(id=4, city='Chicago')\n",
        "]\n",
        "\n",
        "# Perform the MapReduce operation\n",
        "output = MapReduce(RECORDREADER, MAP, REDUCE)\n",
        "\n",
        "# Retrieve the result of the natural join operation\n",
        "result = list(output)\n",
        "\n",
        "# Display the result\n",
        "result\n"
      ],
      "metadata": {
        "id": "qJCoobRZmkbo",
        "colab": {
          "base_uri": "https://localhost:8080/"
        },
        "outputId": "3252c0bf-1c26-44ad-9e44-5c0608bc06d4"
      },
      "execution_count": 46,
      "outputs": [
        {
          "output_type": "execute_result",
          "data": {
            "text/plain": [
              "[(1, 'John', 30, 'New York'), (2, 'Alice', 25, 'Los Angeles')]"
            ]
          },
          "metadata": {},
          "execution_count": 46
        }
      ]
    },
    {
      "cell_type": "markdown",
      "metadata": {
        "id": "kYdlr0YUxE27"
      },
      "source": [
        "### Grouping and Aggregation (Группировка и аггрегация)\n",
        "\n",
        "**The Map Function:** Для каждого кортежа $(a, b, c$) создайте пару $(a, b)$.\n",
        "\n",
        "**The Reduce Function:** Ключ представляет ту или иную группу. Примение аггрегирующую операцию $\\theta$ к списку значений $[b1, b2, . . . , bn]$ ассоциированных с ключом $a$. Возвращайте в выходной поток $(a, x)$, где $x$ результат применения  $\\theta$ к списку. Например, если $\\theta$ это $SUM$, тогда $x = b1 + b2 + · · · + bn$, а если $\\theta$ is $MAX$, тогда $x$ это максимальное из значений $b1, b2, . . . , bn$."
      ]
    },
    {
      "cell_type": "code",
      "source": [
        "# Функция Map\n",
        "def MAP(record):\n",
        "    # Создаем пару (a, b) для каждого кортежа (a, b, c)\n",
        "    a, b, _ = record\n",
        "    yield (a, b)\n",
        "\n",
        "# Функция Reduce\n",
        "def REDUCE(key, values):\n",
        "    # Извлекаем числовые значения из кортежей\n",
        "    numeric_values = [value for value in values if isinstance(value, int)]\n",
        "    # Применяем операцию суммирования к числовым значениям\n",
        "    result = sum(numeric_values)\n",
        "    # Возвращаем пару (a, x), где x - результат агрегации\n",
        "    yield (key, result)\n",
        "\n",
        "# Функция RECORDREADER\n",
        "def RECORDREADER():\n",
        "    # Перебираем все записи из примера данных\n",
        "    for record in data:\n",
        "        yield (record,)\n",
        "\n",
        "# Пример данных для операции\n",
        "data = [\n",
        "    (1, 10, 20),\n",
        "    (2, 15, 25),\n",
        "    (1, 5, 30),\n",
        "    (2, 20, 35)\n",
        "]\n",
        "\n",
        "# Выполняем операцию MapReduce\n",
        "output = MapReduce(RECORDREADER, MAP, REDUCE)\n",
        "\n",
        "# Получаем результат операции группировки и агрегации\n",
        "result = list(output)\n",
        "\n",
        "# Выводим результат\n",
        "print(result)\n"
      ],
      "metadata": {
        "colab": {
          "base_uri": "https://localhost:8080/"
        },
        "id": "Kk7F7aau3vyo",
        "outputId": "ed3454a6-007e-488a-a151-1cd3135a3b8b"
      },
      "execution_count": 47,
      "outputs": [
        {
          "output_type": "stream",
          "name": "stdout",
          "text": [
            "[(1, 15), (2, 35)]\n"
          ]
        }
      ]
    },
    {
      "cell_type": "markdown",
      "metadata": {
        "id": "IIrRgvG4RIS4"
      },
      "source": [
        "### Matrix-Vector multiplication\n",
        "\n",
        "Случай, когда вектор не помещается в памяти Map задачи\n"
      ]
    },
    {
      "cell_type": "code",
      "metadata": {
        "id": "KQhDbiL3zS9r"
      },
      "source": [],
      "execution_count": 47,
      "outputs": []
    },
    {
      "cell_type": "markdown",
      "metadata": {
        "id": "GIo2t7nNxvA9"
      },
      "source": [
        "## Matrix multiplication (Перемножение матриц)\n",
        "\n",
        "Если у нас есть матрица $M$ с элементами $m_{ij}$ в строке $i$ и столбце $j$, и матрица $N$ с элементами $n_{jk}$ в строке $j$ и столбце $k$, тогда их произведение $P = MN$ есть матрица $P$ с элементами $p_{ik}$ в строке $i$ и столбце $k$, где\n",
        "\n",
        "$$p_{ik} =\\sum_{j} m_{ij}n_{jk}$$\n",
        "\n",
        "Необходимым требованием является одинаковое количество столбцов в $M$ и строк в $N$, чтобы операция суммирования по  $j$ была осмысленной. Мы можем размышлять о матрице, как об отношении с тремя атрибутами: номер строки, номер столбца, само значение. Таким образом матрица $M$ предстваляется как отношение $ M(I, J, V )$, с кортежами $(i, j, m_{ij})$, и, аналогично, матрица $N$ представляется как отношение $N(J, K, W)$, с кортежами $(j, k, n_{jk})$. Так как большие матрицы как правило разреженные (большинство значений равно 0), и так как мы можем нулевыми значениями пренебречь (не хранить), такое реляционное представление достаточно эффективно для больших матриц. Однако, возможно, что координаты $i$, $j$, и $k$ неявно закодированы в смещение позиции элемента относительно начала файла, вместо явного хранения. Тогда, функция Map (или Reader) должна быть разработана таким образом, чтобы реконструировать компоненты $I$, $J$, и $K$ кортежей из смещения.\n",
        "\n",
        "Произведение $MN$ это фактически join, за которым следуют группировка по ключу и аггрегация. Таким образом join отношений $M(I, J, V )$ и $N(J, K, W)$, имеющих общим только атрибут $J$, создаст кортежи $(i, j, k, v, w)$ из каждого кортежа $(i, j, v) \\in M$ и кортежа $(j, k, w) \\in N$. Такой 5 компонентный кортеж представляет пару элементов матрицы $(m_{ij} , n_{jk})$. Что нам хотелось бы получить на самом деле, это произведение этих элементов, то есть, 4 компонентный кортеж$(i, j, k, v \\times w)$, так как он представляет произведение $m_{ij}n_{jk}$. Мы представляем отношение как результат одной MapReduce операции, в которой мы можем произвести группировку и аггрегацию, с $I$ и $K$  атрибутами, по которым идёт группировка, и суммой  $V \\times W$.\n",
        "\n",
        "\n",
        "\n"
      ]
    },
    {
      "cell_type": "code",
      "metadata": {
        "id": "1MBkGaLAYVCt"
      },
      "source": [
        "# MapReduce model\n",
        "def flatten(nested_iterable):\n",
        "  for iterable in nested_iterable:\n",
        "    for element in iterable:\n",
        "      yield element\n",
        "\n",
        "def groupbykey(iterable):\n",
        "  t = {}\n",
        "  for (k2, v2) in iterable:\n",
        "    t[k2] = t.get(k2, []) + [v2]\n",
        "  return t.items()\n",
        "\n",
        "def MapReduce(RECORDREADER, MAP, REDUCE):\n",
        "  return flatten(map(lambda x: REDUCE(*x), groupbykey(flatten(map(lambda x: MAP(*x), RECORDREADER())))))"
      ],
      "execution_count": 57,
      "outputs": []
    },
    {
      "cell_type": "markdown",
      "metadata": {
        "id": "sMspsOT0ZB35"
      },
      "source": [
        "Реализуйте перемножение матриц с использованием модельного кода MapReduce для одной машины в случае, когда одна матрица хранится в памяти, а другая генерируется RECORDREADER-ом."
      ]
    },
    {
      "cell_type": "code",
      "metadata": {
        "id": "psP1XekbsEjS"
      },
      "source": [
        "import numpy as np\n",
        "I = 2\n",
        "J = 3\n",
        "K = 4*10\n",
        "small_mat = np.random.rand(I,J) # it is legal to access this from RECORDREADER, MAP, REDUCE\n",
        "big_mat = np.random.rand(J,K)\n",
        "\n",
        "def RECORDREADER():\n",
        "  for j in range(big_mat.shape[0]):\n",
        "    for k in range(big_mat.shape[1]):\n",
        "      yield ((j,k), big_mat[j,k])\n",
        "\n",
        "def MAP(k1, v1):\n",
        "  (j, k) = k1\n",
        "  w = v1\n",
        "  # solution code that yield(k2,v2) pairs\n",
        "\n",
        "def REDUCE(key, values):\n",
        "  (i, k) = key\n",
        "  # solution code that yield(k3,v3) pairs"
      ],
      "execution_count": 70,
      "outputs": []
    },
    {
      "cell_type": "code",
      "source": [
        "def RECORDREADER():\n",
        "    for j in range(big_mat.shape[0]):\n",
        "        for k in range(big_mat.shape[1]):\n",
        "            yield ((j, k), big_mat[j, k])\n",
        "\n",
        "def MAP(k1, v1):\n",
        "    (j, k) = k1\n",
        "    w = v1\n",
        "    for i in range(small_mat.shape[0]):\n",
        "        mij = small_mat[i, j]\n",
        "        yield ((i, k), (j, k, mij, w))\n",
        "\n",
        "def REDUCE(key, values):\n",
        "    (i, k) = key\n",
        "    result = 0\n",
        "    for value in values:\n",
        "        (j, k, mij, w) = value\n",
        "        result += mij * w\n",
        "    yield (i, k), result"
      ],
      "metadata": {
        "id": "-Cz_eIhYwH9A"
      },
      "execution_count": 72,
      "outputs": []
    },
    {
      "cell_type": "markdown",
      "metadata": {
        "id": "rnt306LHhHrm"
      },
      "source": [
        "Проверьте своё решение"
      ]
    },
    {
      "cell_type": "code",
      "metadata": {
        "id": "Ewy_ZNYqW5a2",
        "colab": {
          "base_uri": "https://localhost:8080/"
        },
        "outputId": "ecb7ac74-fdfd-40b6-e610-d672043f2365"
      },
      "source": [
        "# CHECK THE SOLUTION\n",
        "reference_solution = np.matmul(small_mat, big_mat)\n",
        "solution = MapReduce(RECORDREADER, MAP, REDUCE)\n",
        "\n",
        "def asmatrix(reduce_output):\n",
        "  reduce_output = list(reduce_output)\n",
        "  I = max(i for ((i,k), vw) in reduce_output)+1\n",
        "  K = max(k for ((i,k), vw) in reduce_output)+1\n",
        "  mat = np.empty(shape=(I,K))\n",
        "  for ((i,k), vw) in reduce_output:\n",
        "    mat[i,k] = vw\n",
        "  return mat\n",
        "\n",
        "np.allclose(reference_solution, asmatrix(solution)) # should return true"
      ],
      "execution_count": 73,
      "outputs": [
        {
          "output_type": "execute_result",
          "data": {
            "text/plain": [
              "True"
            ]
          },
          "metadata": {},
          "execution_count": 73
        }
      ]
    },
    {
      "cell_type": "code",
      "metadata": {
        "id": "TK7v4CEcfxqf",
        "colab": {
          "base_uri": "https://localhost:8080/"
        },
        "outputId": "d57fdf27-da62-4103-d696-ce50a1b72bb4"
      },
      "source": [
        "reduce_output = list(MapReduce(RECORDREADER, MAP, REDUCE))\n",
        "max(i for ((i,k), vw) in reduce_output)"
      ],
      "execution_count": 52,
      "outputs": [
        {
          "output_type": "execute_result",
          "data": {
            "text/plain": [
              "1"
            ]
          },
          "metadata": {},
          "execution_count": 52
        }
      ]
    },
    {
      "cell_type": "markdown",
      "metadata": {
        "id": "i4yyg3kOZqJJ"
      },
      "source": [
        "Реализуйте перемножение матриц  с использованием модельного кода MapReduce для одной машины в случае, когда обе матрицы генерируются в RECORDREADER. Например, сначала одна, а потом другая."
      ]
    },
    {
      "cell_type": "code",
      "metadata": {
        "id": "3B7rIAJCaHZq",
        "colab": {
          "base_uri": "https://localhost:8080/"
        },
        "outputId": "9b9c63a7-beb1-46ce-931a-51e6370fd9be"
      },
      "source": [
        "def RECORDREADER():\n",
        "    for i in range(small_mat.shape[0]):\n",
        "        for j in range(small_mat.shape[1]):\n",
        "            for k in range(big_mat.shape[1]):\n",
        "                yield ((i, j, k), small_mat[i, j], big_mat[j, k])\n",
        "\n",
        "def MAP(k1, v1, v2):\n",
        "    (i, j, k) = k1\n",
        "    mij = v1\n",
        "    w = v2\n",
        "    yield ((i, k), (j, mij, w))\n",
        "\n",
        "def REDUCE(key, values):\n",
        "    (i, k) = key\n",
        "    result = 0\n",
        "    for value in values:\n",
        "        (j, mij, w) = value\n",
        "        result += mij * w\n",
        "    yield (i, k), result\n",
        "\n",
        "# Применяем MapReduce к нашим данным\n",
        "result = list(MapReduce(RECORDREADER, MAP, REDUCE))\n",
        "\n",
        "# Преобразуем результат в матрицу\n",
        "result_mat = np.zeros((small_mat.shape[0], big_mat.shape[1]))\n",
        "for ((i, k), value) in result:\n",
        "    result_mat[i, k] = value\n",
        "\n",
        "print(\"Result Matrix:\")\n",
        "print(result_mat)\n"
      ],
      "execution_count": 53,
      "outputs": [
        {
          "output_type": "stream",
          "name": "stdout",
          "text": [
            "Result Matrix:\n",
            "[[0.48294292 0.82728062 0.40382742 0.61483236 0.70536566 0.33545257\n",
            "  0.52943821 0.63041353 0.3282974  0.54347432 0.44239858 0.31614641\n",
            "  0.65371697 0.78775903 0.47217118 0.3986045  0.33340181 0.66910089\n",
            "  0.51687584 0.49680108 0.40234265 0.41765462 0.62070967 0.77554775\n",
            "  0.7964594  0.67820033 0.64194672 0.31430376 0.19448541 0.71057608\n",
            "  0.69357548 0.72994297 0.50016372 0.33369323 0.43034187 0.27302645\n",
            "  0.74889223 0.63797053 0.17650931 0.33878069]\n",
            " [0.09671392 0.19597488 0.05761083 0.12380454 0.136106   0.05123982\n",
            "  0.13243665 0.0910058  0.0404381  0.08500146 0.0518767  0.0669251\n",
            "  0.0726112  0.15537414 0.05542873 0.04554133 0.11677753 0.06662481\n",
            "  0.07950863 0.10443068 0.06022281 0.09184921 0.08342062 0.16068572\n",
            "  0.18485536 0.05943524 0.16663745 0.06612176 0.09161176 0.14707392\n",
            "  0.07861791 0.13539079 0.14822796 0.10562056 0.08578975 0.10578602\n",
            "  0.16848935 0.10826839 0.0878622  0.14717498]]\n"
          ]
        }
      ]
    },
    {
      "cell_type": "code",
      "source": [
        "# CHECK THE SOLUTION\n",
        "reference_solution = np.matmul(small_mat, big_mat)\n",
        "solution = MapReduce(RECORDREADER, MAP, REDUCE)\n",
        "\n",
        "def asmatrix(reduce_output):\n",
        "  reduce_output = list(reduce_output)\n",
        "  I = max(i for ((i,k), vw) in reduce_output)+1\n",
        "  K = max(k for ((i,k), vw) in reduce_output)+1\n",
        "  mat = np.empty(shape=(I,K))\n",
        "  for ((i,k), vw) in reduce_output:\n",
        "    mat[i,k] = vw\n",
        "  return mat\n",
        "\n",
        "np.allclose(reference_solution, asmatrix(solution)) # should return true"
      ],
      "metadata": {
        "colab": {
          "base_uri": "https://localhost:8080/"
        },
        "id": "NKOV6MAx-Xtp",
        "outputId": "cb03a39b-71ac-4827-dad4-a199fc564c9e"
      },
      "execution_count": 54,
      "outputs": [
        {
          "output_type": "execute_result",
          "data": {
            "text/plain": [
              "True"
            ]
          },
          "metadata": {},
          "execution_count": 54
        }
      ]
    },
    {
      "cell_type": "markdown",
      "metadata": {
        "id": "mXyzQi1DaIwo"
      },
      "source": [
        "Реализуйте перемножение матриц с использованием модельного кода MapReduce Distributed, когда каждая матрица генерируется в своём RECORDREADER."
      ]
    },
    {
      "cell_type": "code",
      "metadata": {
        "id": "TDM_s78Rb5eR",
        "colab": {
          "base_uri": "https://localhost:8080/"
        },
        "outputId": "78f76423-b3f1-4d90-e38b-762f14242711"
      },
      "source": [
        "import numpy as np\n",
        "\n",
        "# Генерируем случайные матрицы для примера\n",
        "matrix_A = np.random.randint(0, 10, size=(3, 3))\n",
        "matrix_B = np.random.randint(0, 10, size=(3, 3))\n",
        "\n",
        "maps = 3  # Количество задач MAP\n",
        "reducers = 2  # Количество задач REDUCE\n",
        "\n",
        "def INPUTFORMAT():\n",
        "    global maps\n",
        "    global matrix_A\n",
        "    global matrix_B\n",
        "\n",
        "    def RECORDREADER_A(split):\n",
        "        for i, row in enumerate(split):\n",
        "            for j, value in enumerate(row):\n",
        "                yield ((i, j), ('A', value))\n",
        "\n",
        "    def RECORDREADER_B(split):\n",
        "        for i, row in enumerate(split):\n",
        "            for j, value in enumerate(row):\n",
        "                yield ((j, i), ('B', value))\n",
        "\n",
        "    # Разбиваем матрицы на части для параллельной обработки\n",
        "    split_size = len(matrix_A) // maps\n",
        "    for i in range(0, len(matrix_A), split_size):\n",
        "        yield RECORDREADER_A(matrix_A[i:i+split_size])\n",
        "\n",
        "    split_size = len(matrix_B[0]) // maps\n",
        "    for i in range(0, len(matrix_B[0]), split_size):\n",
        "        yield RECORDREADER_B(matrix_B[:, i:i+split_size])\n",
        "\n",
        "def MAP(key, value):\n",
        "    global matrix_A\n",
        "    global matrix_B\n",
        "\n",
        "    i, j = key\n",
        "    if value[0] == 'A':\n",
        "        for k in range(len(matrix_A[0])):\n",
        "            yield ((i, k), (value[1], j))\n",
        "    elif value[0] == 'B':\n",
        "        for k in range(len(matrix_A)):\n",
        "            yield ((k, j), (value[1], i))\n",
        "\n",
        "def PARTITIONER(key):\n",
        "    global reducers\n",
        "    i, j = key\n",
        "    return (i + j) % reducers  # Разделение ключей на редукторы\n",
        "\n",
        "def REDUCE(key, values):\n",
        "    result = 0\n",
        "    for value, index in values:\n",
        "        result += value * index\n",
        "    yield (key, result)\n",
        "\n",
        "# Вывод перемноженной матрицы\n",
        "partitioned_output = MapReduceDistributed(INPUTFORMAT, MAP, REDUCE, PARTITIONER=PARTITIONER)\n",
        "partitioned_output = sorted([(partition_id, list(partition)) for partition_id, partition in partitioned_output])\n",
        "\n",
        "# Форматируем результаты в матрицу\n",
        "result_matrix = np.zeros((len(matrix_A), len(matrix_B[0])))\n",
        "for _, partition in partitioned_output:\n",
        "    for (i, j), value in partition:\n",
        "        result_matrix[i][j] = value\n",
        "\n",
        "print(\"Result Matrix:\")\n",
        "print(result_matrix)\n"
      ],
      "execution_count": 55,
      "outputs": [
        {
          "output_type": "stream",
          "name": "stdout",
          "text": [
            "54 key-value pairs were sent over a network.\n",
            "Result Matrix:\n",
            "[[48. 48. 48.]\n",
            " [ 0.  0.  0.]\n",
            " [ 0.  0.  0.]]\n"
          ]
        }
      ]
    },
    {
      "cell_type": "code",
      "source": [
        "# CHECK THE SOLUTION\n",
        "reference_solution = np.matmul(small_mat, big_mat)\n",
        "#solution = MapReduce(RECORDREADER, MAP, REDUCE)\n",
        "\n",
        "def asmatrix(reduce_output):\n",
        "  reduce_output = list(reduce_output)\n",
        "  I = max(i for ((i,k), vw) in reduce_output)+1\n",
        "  K = max(k for ((i,k), vw) in reduce_output)+1\n",
        "  mat = np.empty(shape=(I,K))\n",
        "  for ((i,k), vw) in reduce_output:\n",
        "    mat[i,k] = vw\n",
        "  return mat\n",
        "\n",
        "np.allclose(reference_solution, asmatrix(partitioned_output)) # should return true"
      ],
      "metadata": {
        "colab": {
          "base_uri": "https://localhost:8080/",
          "height": 321
        },
        "id": "dEyVH1PyAh10",
        "outputId": "092db5a4-1317-468c-f221-0d310e0fed57"
      },
      "execution_count": 56,
      "outputs": [
        {
          "output_type": "error",
          "ename": "TypeError",
          "evalue": "cannot unpack non-iterable int object",
          "traceback": [
            "\u001b[0;31m---------------------------------------------------------------------------\u001b[0m",
            "\u001b[0;31mTypeError\u001b[0m                                 Traceback (most recent call last)",
            "\u001b[0;32m<ipython-input-56-36d8431ad20c>\u001b[0m in \u001b[0;36m<cell line: 14>\u001b[0;34m()\u001b[0m\n\u001b[1;32m     12\u001b[0m   \u001b[0;32mreturn\u001b[0m \u001b[0mmat\u001b[0m\u001b[0;34m\u001b[0m\u001b[0;34m\u001b[0m\u001b[0m\n\u001b[1;32m     13\u001b[0m \u001b[0;34m\u001b[0m\u001b[0m\n\u001b[0;32m---> 14\u001b[0;31m \u001b[0mnp\u001b[0m\u001b[0;34m.\u001b[0m\u001b[0mallclose\u001b[0m\u001b[0;34m(\u001b[0m\u001b[0mreference_solution\u001b[0m\u001b[0;34m,\u001b[0m \u001b[0masmatrix\u001b[0m\u001b[0;34m(\u001b[0m\u001b[0mpartitioned_output\u001b[0m\u001b[0;34m)\u001b[0m\u001b[0;34m)\u001b[0m \u001b[0;31m# should return true\u001b[0m\u001b[0;34m\u001b[0m\u001b[0;34m\u001b[0m\u001b[0m\n\u001b[0m",
            "\u001b[0;32m<ipython-input-56-36d8431ad20c>\u001b[0m in \u001b[0;36masmatrix\u001b[0;34m(reduce_output)\u001b[0m\n\u001b[1;32m      5\u001b[0m \u001b[0;32mdef\u001b[0m \u001b[0masmatrix\u001b[0m\u001b[0;34m(\u001b[0m\u001b[0mreduce_output\u001b[0m\u001b[0;34m)\u001b[0m\u001b[0;34m:\u001b[0m\u001b[0;34m\u001b[0m\u001b[0;34m\u001b[0m\u001b[0m\n\u001b[1;32m      6\u001b[0m   \u001b[0mreduce_output\u001b[0m \u001b[0;34m=\u001b[0m \u001b[0mlist\u001b[0m\u001b[0;34m(\u001b[0m\u001b[0mreduce_output\u001b[0m\u001b[0;34m)\u001b[0m\u001b[0;34m\u001b[0m\u001b[0;34m\u001b[0m\u001b[0m\n\u001b[0;32m----> 7\u001b[0;31m   \u001b[0mI\u001b[0m \u001b[0;34m=\u001b[0m \u001b[0mmax\u001b[0m\u001b[0;34m(\u001b[0m\u001b[0mi\u001b[0m \u001b[0;32mfor\u001b[0m \u001b[0;34m(\u001b[0m\u001b[0;34m(\u001b[0m\u001b[0mi\u001b[0m\u001b[0;34m,\u001b[0m\u001b[0mk\u001b[0m\u001b[0;34m)\u001b[0m\u001b[0;34m,\u001b[0m \u001b[0mvw\u001b[0m\u001b[0;34m)\u001b[0m \u001b[0;32min\u001b[0m \u001b[0mreduce_output\u001b[0m\u001b[0;34m)\u001b[0m\u001b[0;34m+\u001b[0m\u001b[0;36m1\u001b[0m\u001b[0;34m\u001b[0m\u001b[0;34m\u001b[0m\u001b[0m\n\u001b[0m\u001b[1;32m      8\u001b[0m   \u001b[0mK\u001b[0m \u001b[0;34m=\u001b[0m \u001b[0mmax\u001b[0m\u001b[0;34m(\u001b[0m\u001b[0mk\u001b[0m \u001b[0;32mfor\u001b[0m \u001b[0;34m(\u001b[0m\u001b[0;34m(\u001b[0m\u001b[0mi\u001b[0m\u001b[0;34m,\u001b[0m\u001b[0mk\u001b[0m\u001b[0;34m)\u001b[0m\u001b[0;34m,\u001b[0m \u001b[0mvw\u001b[0m\u001b[0;34m)\u001b[0m \u001b[0;32min\u001b[0m \u001b[0mreduce_output\u001b[0m\u001b[0;34m)\u001b[0m\u001b[0;34m+\u001b[0m\u001b[0;36m1\u001b[0m\u001b[0;34m\u001b[0m\u001b[0;34m\u001b[0m\u001b[0m\n\u001b[1;32m      9\u001b[0m   \u001b[0mmat\u001b[0m \u001b[0;34m=\u001b[0m \u001b[0mnp\u001b[0m\u001b[0;34m.\u001b[0m\u001b[0mempty\u001b[0m\u001b[0;34m(\u001b[0m\u001b[0mshape\u001b[0m\u001b[0;34m=\u001b[0m\u001b[0;34m(\u001b[0m\u001b[0mI\u001b[0m\u001b[0;34m,\u001b[0m\u001b[0mK\u001b[0m\u001b[0;34m)\u001b[0m\u001b[0;34m)\u001b[0m\u001b[0;34m\u001b[0m\u001b[0;34m\u001b[0m\u001b[0m\n",
            "\u001b[0;32m<ipython-input-56-36d8431ad20c>\u001b[0m in \u001b[0;36m<genexpr>\u001b[0;34m(.0)\u001b[0m\n\u001b[1;32m      5\u001b[0m \u001b[0;32mdef\u001b[0m \u001b[0masmatrix\u001b[0m\u001b[0;34m(\u001b[0m\u001b[0mreduce_output\u001b[0m\u001b[0;34m)\u001b[0m\u001b[0;34m:\u001b[0m\u001b[0;34m\u001b[0m\u001b[0;34m\u001b[0m\u001b[0m\n\u001b[1;32m      6\u001b[0m   \u001b[0mreduce_output\u001b[0m \u001b[0;34m=\u001b[0m \u001b[0mlist\u001b[0m\u001b[0;34m(\u001b[0m\u001b[0mreduce_output\u001b[0m\u001b[0;34m)\u001b[0m\u001b[0;34m\u001b[0m\u001b[0;34m\u001b[0m\u001b[0m\n\u001b[0;32m----> 7\u001b[0;31m   \u001b[0mI\u001b[0m \u001b[0;34m=\u001b[0m \u001b[0mmax\u001b[0m\u001b[0;34m(\u001b[0m\u001b[0mi\u001b[0m \u001b[0;32mfor\u001b[0m \u001b[0;34m(\u001b[0m\u001b[0;34m(\u001b[0m\u001b[0mi\u001b[0m\u001b[0;34m,\u001b[0m\u001b[0mk\u001b[0m\u001b[0;34m)\u001b[0m\u001b[0;34m,\u001b[0m \u001b[0mvw\u001b[0m\u001b[0;34m)\u001b[0m \u001b[0;32min\u001b[0m \u001b[0mreduce_output\u001b[0m\u001b[0;34m)\u001b[0m\u001b[0;34m+\u001b[0m\u001b[0;36m1\u001b[0m\u001b[0;34m\u001b[0m\u001b[0;34m\u001b[0m\u001b[0m\n\u001b[0m\u001b[1;32m      8\u001b[0m   \u001b[0mK\u001b[0m \u001b[0;34m=\u001b[0m \u001b[0mmax\u001b[0m\u001b[0;34m(\u001b[0m\u001b[0mk\u001b[0m \u001b[0;32mfor\u001b[0m \u001b[0;34m(\u001b[0m\u001b[0;34m(\u001b[0m\u001b[0mi\u001b[0m\u001b[0;34m,\u001b[0m\u001b[0mk\u001b[0m\u001b[0;34m)\u001b[0m\u001b[0;34m,\u001b[0m \u001b[0mvw\u001b[0m\u001b[0;34m)\u001b[0m \u001b[0;32min\u001b[0m \u001b[0mreduce_output\u001b[0m\u001b[0;34m)\u001b[0m\u001b[0;34m+\u001b[0m\u001b[0;36m1\u001b[0m\u001b[0;34m\u001b[0m\u001b[0;34m\u001b[0m\u001b[0m\n\u001b[1;32m      9\u001b[0m   \u001b[0mmat\u001b[0m \u001b[0;34m=\u001b[0m \u001b[0mnp\u001b[0m\u001b[0;34m.\u001b[0m\u001b[0mempty\u001b[0m\u001b[0;34m(\u001b[0m\u001b[0mshape\u001b[0m\u001b[0;34m=\u001b[0m\u001b[0;34m(\u001b[0m\u001b[0mI\u001b[0m\u001b[0;34m,\u001b[0m\u001b[0mK\u001b[0m\u001b[0;34m)\u001b[0m\u001b[0;34m)\u001b[0m\u001b[0;34m\u001b[0m\u001b[0;34m\u001b[0m\u001b[0m\n",
            "\u001b[0;31mTypeError\u001b[0m: cannot unpack non-iterable int object"
          ]
        }
      ]
    },
    {
      "cell_type": "markdown",
      "metadata": {
        "id": "ZuSA2P9Db6UM"
      },
      "source": [
        "Обобщите предыдущее решение на случай, когда каждая матрица генерируется несколькими RECORDREADER-ами, и проверьте его работоспособность. Будет ли работать решение, если RECORDREADER-ы будут генерировать случайное подмножество элементов матрицы?"
      ]
    },
    {
      "cell_type": "code",
      "metadata": {
        "id": "ehN0FqRDcwU5"
      },
      "source": [],
      "execution_count": null,
      "outputs": []
    }
  ]
}